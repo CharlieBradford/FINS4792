{
 "cells": [
  {
   "cell_type": "markdown",
   "metadata": {},
   "source": [
    "# Chapter 2"
   ]
  },
  {
   "cell_type": "markdown",
   "metadata": {},
   "source": [
    "## Question 5"
   ]
  },
  {
   "cell_type": "code",
   "execution_count": 2,
   "metadata": {},
   "outputs": [
    {
     "data": {
      "text/html": [
       "<div>\n",
       "<style scoped>\n",
       "    .dataframe tbody tr th:only-of-type {\n",
       "        vertical-align: middle;\n",
       "    }\n",
       "\n",
       "    .dataframe tbody tr th {\n",
       "        vertical-align: top;\n",
       "    }\n",
       "\n",
       "    .dataframe thead th {\n",
       "        text-align: right;\n",
       "    }\n",
       "</style>\n",
       "<table border=\"1\" class=\"dataframe\">\n",
       "  <thead>\n",
       "    <tr style=\"text-align: right;\">\n",
       "      <th></th>\n",
       "      <th>Trade Size (|qt|)</th>\n",
       "      <th>Price (pt)</th>\n",
       "      <th>Direction (dt)</th>\n",
       "      <th>Bid(bt)</th>\n",
       "      <th>Ask (at)</th>\n",
       "    </tr>\n",
       "    <tr>\n",
       "      <th>Time</th>\n",
       "      <th></th>\n",
       "      <th></th>\n",
       "      <th></th>\n",
       "      <th></th>\n",
       "      <th></th>\n",
       "    </tr>\n",
       "  </thead>\n",
       "  <tbody>\n",
       "    <tr>\n",
       "      <th>2020-04-07 09:06:04</th>\n",
       "      <td>20</td>\n",
       "      <td>66.7000</td>\n",
       "      <td>-1</td>\n",
       "      <td>66.90</td>\n",
       "      <td>67.00</td>\n",
       "    </tr>\n",
       "    <tr>\n",
       "      <th>2020-04-07 09:06:11</th>\n",
       "      <td>25</td>\n",
       "      <td>66.6360</td>\n",
       "      <td>-1</td>\n",
       "      <td>66.65</td>\n",
       "      <td>66.70</td>\n",
       "    </tr>\n",
       "    <tr>\n",
       "      <th>2020-04-07 09:06:26</th>\n",
       "      <td>18</td>\n",
       "      <td>66.6000</td>\n",
       "      <td>-1</td>\n",
       "      <td>66.60</td>\n",
       "      <td>66.65</td>\n",
       "    </tr>\n",
       "    <tr>\n",
       "      <th>2020-04-07 09:07:18</th>\n",
       "      <td>273</td>\n",
       "      <td>66.4163</td>\n",
       "      <td>-1</td>\n",
       "      <td>66.50</td>\n",
       "      <td>66.55</td>\n",
       "    </tr>\n",
       "    <tr>\n",
       "      <th>2020-04-07 09:07:36</th>\n",
       "      <td>27</td>\n",
       "      <td>66.5500</td>\n",
       "      <td>1</td>\n",
       "      <td>66.15</td>\n",
       "      <td>66.55</td>\n",
       "    </tr>\n",
       "  </tbody>\n",
       "</table>\n",
       "</div>"
      ],
      "text/plain": [
       "                     Trade Size (|qt|)  Price (pt)   Direction (dt)   Bid(bt)  \\\n",
       "Time                                                                            \n",
       "2020-04-07 09:06:04                 20      66.7000               -1    66.90   \n",
       "2020-04-07 09:06:11                 25      66.6360               -1    66.65   \n",
       "2020-04-07 09:06:26                 18      66.6000               -1    66.60   \n",
       "2020-04-07 09:07:18                273      66.4163               -1    66.50   \n",
       "2020-04-07 09:07:36                 27      66.5500                1    66.15   \n",
       "\n",
       "                     Ask (at)  \n",
       "Time                           \n",
       "2020-04-07 09:06:04     67.00  \n",
       "2020-04-07 09:06:11     66.70  \n",
       "2020-04-07 09:06:26     66.65  \n",
       "2020-04-07 09:07:18     66.55  \n",
       "2020-04-07 09:07:36     66.55  "
      ]
     },
     "execution_count": 2,
     "metadata": {},
     "output_type": "execute_result"
    }
   ],
   "source": [
    "import pandas as pd\n",
    "import numpy as np\n",
    "import datetime\n",
    "\n",
    "data = pd.read_excel(\"data_2/CH2_AGF_data.xls\", \n",
    "                     header=1, \n",
    "                     parse_dates=True,\n",
    "                     dtype={\"Time\":datetime.time}, \n",
    "                     index_col=\"Time\")\n",
    "data.head()"
   ]
  },
  {
   "cell_type": "markdown",
   "metadata": {},
   "source": [
    "### Part A"
   ]
  },
  {
   "cell_type": "code",
   "execution_count": 3,
   "metadata": {},
   "outputs": [
    {
     "name": "stdout",
     "output_type": "stream",
     "text": [
      "Average absolute spread: 0.10616570327552977, \n",
      "average relative spread: 0.0016086984772629698, \n",
      "average log spread 0.0016086998354762725\n"
     ]
    },
    {
     "data": {
      "text/html": [
       "<div>\n",
       "<style scoped>\n",
       "    .dataframe tbody tr th:only-of-type {\n",
       "        vertical-align: middle;\n",
       "    }\n",
       "\n",
       "    .dataframe tbody tr th {\n",
       "        vertical-align: top;\n",
       "    }\n",
       "\n",
       "    .dataframe thead th {\n",
       "        text-align: right;\n",
       "    }\n",
       "</style>\n",
       "<table border=\"1\" class=\"dataframe\">\n",
       "  <thead>\n",
       "    <tr style=\"text-align: right;\">\n",
       "      <th></th>\n",
       "      <th>Trade Size (|qt|)</th>\n",
       "      <th>Price (pt)</th>\n",
       "      <th>Direction (dt)</th>\n",
       "      <th>Bid(bt)</th>\n",
       "      <th>Ask (at)</th>\n",
       "      <th>absolute_spread</th>\n",
       "      <th>midpoint</th>\n",
       "      <th>relative_spread</th>\n",
       "      <th>log_spread</th>\n",
       "    </tr>\n",
       "    <tr>\n",
       "      <th>Time</th>\n",
       "      <th></th>\n",
       "      <th></th>\n",
       "      <th></th>\n",
       "      <th></th>\n",
       "      <th></th>\n",
       "      <th></th>\n",
       "      <th></th>\n",
       "      <th></th>\n",
       "      <th></th>\n",
       "    </tr>\n",
       "  </thead>\n",
       "  <tbody>\n",
       "    <tr>\n",
       "      <th>2020-04-07 09:06:04</th>\n",
       "      <td>20</td>\n",
       "      <td>66.7000</td>\n",
       "      <td>-1</td>\n",
       "      <td>66.90</td>\n",
       "      <td>67.00</td>\n",
       "      <td>0.10</td>\n",
       "      <td>66.950</td>\n",
       "      <td>0.001494</td>\n",
       "      <td>0.001494</td>\n",
       "    </tr>\n",
       "    <tr>\n",
       "      <th>2020-04-07 09:06:11</th>\n",
       "      <td>25</td>\n",
       "      <td>66.6360</td>\n",
       "      <td>-1</td>\n",
       "      <td>66.65</td>\n",
       "      <td>66.70</td>\n",
       "      <td>0.05</td>\n",
       "      <td>66.675</td>\n",
       "      <td>0.000750</td>\n",
       "      <td>0.000750</td>\n",
       "    </tr>\n",
       "    <tr>\n",
       "      <th>2020-04-07 09:06:26</th>\n",
       "      <td>18</td>\n",
       "      <td>66.6000</td>\n",
       "      <td>-1</td>\n",
       "      <td>66.60</td>\n",
       "      <td>66.65</td>\n",
       "      <td>0.05</td>\n",
       "      <td>66.625</td>\n",
       "      <td>0.000750</td>\n",
       "      <td>0.000750</td>\n",
       "    </tr>\n",
       "    <tr>\n",
       "      <th>2020-04-07 09:07:18</th>\n",
       "      <td>273</td>\n",
       "      <td>66.4163</td>\n",
       "      <td>-1</td>\n",
       "      <td>66.50</td>\n",
       "      <td>66.55</td>\n",
       "      <td>0.05</td>\n",
       "      <td>66.525</td>\n",
       "      <td>0.000752</td>\n",
       "      <td>0.000752</td>\n",
       "    </tr>\n",
       "    <tr>\n",
       "      <th>2020-04-07 09:07:36</th>\n",
       "      <td>27</td>\n",
       "      <td>66.5500</td>\n",
       "      <td>1</td>\n",
       "      <td>66.15</td>\n",
       "      <td>66.55</td>\n",
       "      <td>0.40</td>\n",
       "      <td>66.350</td>\n",
       "      <td>0.006029</td>\n",
       "      <td>0.006029</td>\n",
       "    </tr>\n",
       "  </tbody>\n",
       "</table>\n",
       "</div>"
      ],
      "text/plain": [
       "                     Trade Size (|qt|)  Price (pt)   Direction (dt)   Bid(bt)  \\\n",
       "Time                                                                            \n",
       "2020-04-07 09:06:04                 20      66.7000               -1    66.90   \n",
       "2020-04-07 09:06:11                 25      66.6360               -1    66.65   \n",
       "2020-04-07 09:06:26                 18      66.6000               -1    66.60   \n",
       "2020-04-07 09:07:18                273      66.4163               -1    66.50   \n",
       "2020-04-07 09:07:36                 27      66.5500                1    66.15   \n",
       "\n",
       "                     Ask (at)  absolute_spread  midpoint  relative_spread  \\\n",
       "Time                                                                        \n",
       "2020-04-07 09:06:04     67.00             0.10    66.950         0.001494   \n",
       "2020-04-07 09:06:11     66.70             0.05    66.675         0.000750   \n",
       "2020-04-07 09:06:26     66.65             0.05    66.625         0.000750   \n",
       "2020-04-07 09:07:18     66.55             0.05    66.525         0.000752   \n",
       "2020-04-07 09:07:36     66.55             0.40    66.350         0.006029   \n",
       "\n",
       "                     log_spread  \n",
       "Time                             \n",
       "2020-04-07 09:06:04    0.001494  \n",
       "2020-04-07 09:06:11    0.000750  \n",
       "2020-04-07 09:06:26    0.000750  \n",
       "2020-04-07 09:07:18    0.000752  \n",
       "2020-04-07 09:07:36    0.006029  "
      ]
     },
     "execution_count": 3,
     "metadata": {},
     "output_type": "execute_result"
    }
   ],
   "source": [
    "data[\"absolute_spread\"] = data[\"Ask (at)\"] - data[\"Bid(bt)\"]\n",
    "data[\"midpoint\"] = (data[\"Ask (at)\"] + data[\"Bid(bt)\"])/2\n",
    "data[\"relative_spread\"] = data[\"absolute_spread\"] / data[\"midpoint\"]\n",
    "data[\"log_spread\"] = data[\"Ask (at)\"].apply(np.log) - data[\"Bid(bt)\"].apply(np.log)\n",
    "print(\"Average absolute spread: {}, \\naverage relative spread: {}, \\naverage log spread {}\".format(data[\"absolute_spread\"].mean(), \n",
    "                                                                                               data[\"relative_spread\"].mean(), \n",
    "                                                                                               data[\"log_spread\"].mean()))\n",
    "data.head()"
   ]
  },
  {
   "cell_type": "code",
   "execution_count": 4,
   "metadata": {},
   "outputs": [
    {
     "name": "stdout",
     "output_type": "stream",
     "text": [
      "Average starting at 09:00:00 : 0.11363636363636234\n",
      "Average starting at 09:30:00 : 0.11428571428571456\n",
      "Average starting at 10:00:00 : 0.10657894736842248\n",
      "Average starting at 10:30:00 : 0.0874999999999974\n",
      "Average starting at 11:00:00 : 0.09393939393939205\n",
      "Average starting at 11:30:00 : 0.10641025641025618\n",
      "Average starting at 12:00:00 : 0.2052631578947379\n",
      "Average starting at 12:30:00 : 0.09705882352941127\n",
      "Average starting at 13:00:00 : 0.08103448275861805\n",
      "Average starting at 13:30:00 : 0.1280000000000024\n",
      "Average starting at 14:00:00 : 0.1153846153846132\n",
      "Average starting at 14:30:00 : 0.0802631578947334\n",
      "Average starting at 15:00:00 : 0.07586206896552077\n",
      "Average starting at 15:30:00 : 0.11122448979592132\n",
      "Average starting at 16:00:00 : 0.12241379310344817\n",
      "Average starting at 16:30:00 : 0.1118644067796602\n",
      "Average starting at 17:00:00 : 0.10000000000000019\n"
     ]
    }
   ],
   "source": [
    "for group in data[\"absolute_spread\"].groupby(pd.Grouper(freq='0.5H', closed='left')):\n",
    "    print(\"Average starting at\", group[0].time(), \":\", sum(group[1])/len(group[1]))"
   ]
  },
  {
   "cell_type": "markdown",
   "metadata": {},
   "source": [
    "### Part B"
   ]
  },
  {
   "cell_type": "code",
   "execution_count": 5,
   "metadata": {},
   "outputs": [
    {
     "name": "stdout",
     "output_type": "stream",
     "text": [
      "Average absolute spread: 0.05308285163776443, \n",
      "average relative spread: 0.000804349238631478, \n",
      "average log spread 0.0008038286971465961\n"
     ]
    },
    {
     "data": {
      "text/html": [
       "<div>\n",
       "<style scoped>\n",
       "    .dataframe tbody tr th:only-of-type {\n",
       "        vertical-align: middle;\n",
       "    }\n",
       "\n",
       "    .dataframe tbody tr th {\n",
       "        vertical-align: top;\n",
       "    }\n",
       "\n",
       "    .dataframe thead th {\n",
       "        text-align: right;\n",
       "    }\n",
       "</style>\n",
       "<table border=\"1\" class=\"dataframe\">\n",
       "  <thead>\n",
       "    <tr style=\"text-align: right;\">\n",
       "      <th></th>\n",
       "      <th>absolute_half_spread</th>\n",
       "      <th>relative_half_spread</th>\n",
       "      <th>log_half_spread</th>\n",
       "    </tr>\n",
       "    <tr>\n",
       "      <th>Time</th>\n",
       "      <th></th>\n",
       "      <th></th>\n",
       "      <th></th>\n",
       "    </tr>\n",
       "  </thead>\n",
       "  <tbody>\n",
       "    <tr>\n",
       "      <th>2020-04-07 09:06:04</th>\n",
       "      <td>0.050</td>\n",
       "      <td>0.000747</td>\n",
       "      <td>0.000747</td>\n",
       "    </tr>\n",
       "    <tr>\n",
       "      <th>2020-04-07 09:06:11</th>\n",
       "      <td>0.025</td>\n",
       "      <td>0.000375</td>\n",
       "      <td>0.000375</td>\n",
       "    </tr>\n",
       "    <tr>\n",
       "      <th>2020-04-07 09:06:26</th>\n",
       "      <td>0.025</td>\n",
       "      <td>0.000375</td>\n",
       "      <td>0.000375</td>\n",
       "    </tr>\n",
       "    <tr>\n",
       "      <th>2020-04-07 09:07:18</th>\n",
       "      <td>0.025</td>\n",
       "      <td>0.000376</td>\n",
       "      <td>0.000376</td>\n",
       "    </tr>\n",
       "    <tr>\n",
       "      <th>2020-04-07 09:07:36</th>\n",
       "      <td>0.200</td>\n",
       "      <td>0.003014</td>\n",
       "      <td>0.003010</td>\n",
       "    </tr>\n",
       "  </tbody>\n",
       "</table>\n",
       "</div>"
      ],
      "text/plain": [
       "                     absolute_half_spread  relative_half_spread  \\\n",
       "Time                                                              \n",
       "2020-04-07 09:06:04                 0.050              0.000747   \n",
       "2020-04-07 09:06:11                 0.025              0.000375   \n",
       "2020-04-07 09:06:26                 0.025              0.000375   \n",
       "2020-04-07 09:07:18                 0.025              0.000376   \n",
       "2020-04-07 09:07:36                 0.200              0.003014   \n",
       "\n",
       "                     log_half_spread  \n",
       "Time                                  \n",
       "2020-04-07 09:06:04         0.000747  \n",
       "2020-04-07 09:06:11         0.000375  \n",
       "2020-04-07 09:06:26         0.000375  \n",
       "2020-04-07 09:07:18         0.000376  \n",
       "2020-04-07 09:07:36         0.003010  "
      ]
     },
     "execution_count": 5,
     "metadata": {},
     "output_type": "execute_result"
    }
   ],
   "source": [
    "data[\"absolute_half_spread\"] = data[\"Ask (at)\"] - data[\"midpoint\"]\n",
    "data[\"relative_half_spread\"] = data[\"absolute_half_spread\"] / data[\"midpoint\"]\n",
    "data[\"log_half_spread\"] = data[\"Ask (at)\"].apply(np.log) - data[\"midpoint\"].apply(np.log)\n",
    "\n",
    "print(\"Average absolute spread: {}, \\naverage relative spread: {}, \\naverage log spread {}\".format(data[\"absolute_half_spread\"].mean(), \n",
    "                                                                                               data[\"relative_half_spread\"].mean(), \n",
    "                                                                                               data[\"log_half_spread\"].mean()))\n",
    "\n",
    "data[[\"absolute_half_spread\", \"relative_half_spread\", \"log_half_spread\"]].head()"
   ]
  },
  {
   "cell_type": "markdown",
   "metadata": {},
   "source": [
    "### Part C"
   ]
  },
  {
   "cell_type": "code",
   "execution_count": 6,
   "metadata": {},
   "outputs": [
    {
     "name": "stdout",
     "output_type": "stream",
     "text": [
      "Day vwap = 65.9762592589728\n",
      "Total VWAP starting at 09:00:00 : 66.00037952521801\n",
      "Ask VWAP starting at 09:00:00 : 65.90238640544808\n",
      "Bid VWAP starting at 09:00:00 : 66.09206370221254 \n",
      "\n",
      "Total VWAP starting at 12:00:00 : 66.05732484327085\n",
      "Ask VWAP starting at 12:00:00 : 65.99628722148495\n",
      "Bid VWAP starting at 12:00:00 : 66.10385337566221 \n",
      "\n",
      "Total VWAP starting at 15:00:00 : 65.93996300616956\n",
      "Ask VWAP starting at 15:00:00 : 65.85991259218804\n",
      "Bid VWAP starting at 15:00:00 : 66.08637827551495 \n",
      "\n"
     ]
    }
   ],
   "source": [
    "print(\"Day vwap =\", np.mean(data[\"Trade Size (|qt|)\"] * data['Price (pt) '])/ data['Trade Size (|qt|)'].mean())\n",
    "for group in data.groupby(pd.Grouper(freq='3H', closed='right')):\n",
    "    print(\"Total VWAP starting at\", group[0].time(), \":\", np.mean(group[1][\"Trade Size (|qt|)\"] * group[1]['Price (pt) '])/group[1]['Trade Size (|qt|)'].mean())\n",
    "    sell = group[1].loc[group[1][\"Direction (dt) \"] == -1, [\"Trade Size (|qt|)\", 'Price (pt) ']]\n",
    "    print(\"Ask VWAP starting at\", group[0].time(), \":\", np.mean(sell[\"Trade Size (|qt|)\"] * sell['Price (pt) '])/sell['Trade Size (|qt|)'].mean())\n",
    "    buy = group[1].loc[group[1][\"Direction (dt) \"] == 1, [\"Trade Size (|qt|)\", 'Price (pt) ']]\n",
    "    print(\"Bid VWAP starting at\", group[0].time(), \":\", np.mean(buy[\"Trade Size (|qt|)\"] * buy['Price (pt) '])/buy['Trade Size (|qt|)'].mean(), \"\\n\")"
   ]
  },
  {
   "cell_type": "markdown",
   "metadata": {},
   "source": [
    "### Part D"
   ]
  },
  {
   "cell_type": "code",
   "execution_count": 7,
   "metadata": {},
   "outputs": [
    {
     "name": "stdout",
     "output_type": "stream",
     "text": [
      "Roll's measure =  0.10688644184158194\n"
     ]
    }
   ],
   "source": [
    "data[\"price -1\"] = data[\"Price (pt) \"].shift()\n",
    "data[\"d_price\"] = data[\"Price (pt) \"] - data[\"price -1\"]\n",
    "data[\"d_price -1\"] = data[\"d_price\"].shift()\n",
    "print(\"Roll's measure = \", 2 * np.sqrt(-1 * np.mean((data[\"d_price\"] - data[\"d_price\"].mean()) * data[\"d_price -1\"] - data[\"d_price -1\"].mean())))"
   ]
  },
  {
   "cell_type": "code",
   "execution_count": 8,
   "metadata": {},
   "outputs": [
    {
     "name": "stdout",
     "output_type": "stream",
     "text": [
      "Roll's measure =  0.0028872720462376398\n"
     ]
    }
   ],
   "source": [
    "data[\"ln price -1\"] = data[\"Price (pt) \"].apply(np.log).shift()\n",
    "data[\"ln d_price\"] = data[\"Price (pt) \"].apply(np.log) - data[\"ln price -1\"]\n",
    "data[\"ln d_price -1\"] = data[\"ln d_price\"].shift()\n",
    "print(\"Roll's measure = \", 2 * np.sqrt(-1 * np.mean((data[\"ln d_price\"] - data[\"ln d_price\"].mean()) * data[\"ln d_price -1\"] - data[\"ln d_price -1\"].mean())))"
   ]
  },
  {
   "cell_type": "markdown",
   "metadata": {},
   "source": [
    "### Part E"
   ]
  },
  {
   "cell_type": "code",
   "execution_count": 9,
   "metadata": {},
   "outputs": [
    {
     "name": "stdout",
     "output_type": "stream",
     "text": [
      "Change in midpoint starting at 2020-04-07 09:00:00 : 0.6\n",
      "Change in midpoint starting at 2020-04-07 09:15:00 : 0.2\n",
      "Change in midpoint starting at 2020-04-07 09:30:00 : 0.15\n",
      "Change in midpoint starting at 2020-04-07 09:45:00 : -0.17\n",
      "Change in midpoint starting at 2020-04-07 10:00:00 : 0.08\n",
      "Change in midpoint starting at 2020-04-07 10:15:00 : 0.42\n",
      "Change in midpoint starting at 2020-04-07 10:30:00 : 0.03\n",
      "Change in midpoint starting at 2020-04-07 10:45:00 : 0.1\n",
      "Change in midpoint starting at 2020-04-07 11:00:00 : -0.02\n",
      "Change in midpoint starting at 2020-04-07 11:15:00 : -0.72\n",
      "Change in midpoint starting at 2020-04-07 11:30:00 : -0.22\n",
      "Change in midpoint starting at 2020-04-07 11:45:00 : 0.42\n",
      "Change in midpoint starting at 2020-04-07 12:00:00 : 0.22\n",
      "Change in midpoint starting at 2020-04-07 12:15:00 : -0.43\n",
      "Change in midpoint starting at 2020-04-07 12:30:00 : 0.12\n",
      "Change in midpoint starting at 2020-04-07 12:45:00 : 0.25\n",
      "Change in midpoint starting at 2020-04-07 13:00:00 : 0.15\n",
      "Change in midpoint starting at 2020-04-07 13:15:00 : 0.23\n",
      "Change in midpoint starting at 2020-04-07 13:30:00 : -0.15\n",
      "Change in midpoint starting at 2020-04-07 13:45:00 : -0.25\n",
      "Change in midpoint starting at 2020-04-07 14:00:00 : 0.05\n",
      "Change in midpoint starting at 2020-04-07 14:15:00 : -0.02\n",
      "Change in midpoint starting at 2020-04-07 14:30:00 : -0.02\n",
      "Change in midpoint starting at 2020-04-07 14:45:00 : -0.15\n",
      "Change in midpoint starting at 2020-04-07 15:00:00 : 0.07\n",
      "Change in midpoint starting at 2020-04-07 15:15:00 : 0.03\n",
      "Change in midpoint starting at 2020-04-07 15:30:00 : 0.1\n",
      "Change in midpoint starting at 2020-04-07 15:45:00 : 0.35\n",
      "Change in midpoint starting at 2020-04-07 16:00:00 : -0.35\n",
      "Change in midpoint starting at 2020-04-07 16:15:00 : -0.03\n",
      "Change in midpoint starting at 2020-04-07 16:30:00 : -0.05\n",
      "Change in midpoint starting at 2020-04-07 16:45:00 : 0.17\n",
      "Change in midpoint starting at 2020-04-07 17:00:00 : -0.25\n",
      "Change in midpoint starting at 2020-04-07 17:15:00 : -0.6\n"
     ]
    }
   ],
   "source": [
    "midpoint_change = []\n",
    "index = []\n",
    "total_order_flow = data[\"Trade Size (|qt|)\"].sum()\n",
    "fraction_order_flow = []\n",
    "for group in data.groupby(pd.Grouper(freq='15T', closed='right')):\n",
    "    delta = np.round(group[1][\"midpoint\"][0] - group[1][\"midpoint\"][-1], decimals=2)\n",
    "    print(\"Change in midpoint starting at\", group[0], \":\", delta)\n",
    "    midpoint_change.append(delta)\n",
    "    index.append(group[0])\n",
    "    fraction_order_flow.append((group[1][\"Trade Size (|qt|)\"] * group[1][\"Direction (dt) \"]).sum() / total_order_flow)"
   ]
  },
  {
   "cell_type": "code",
   "execution_count": 10,
   "metadata": {},
   "outputs": [
    {
     "data": {
      "text/html": [
       "<div>\n",
       "<style scoped>\n",
       "    .dataframe tbody tr th:only-of-type {\n",
       "        vertical-align: middle;\n",
       "    }\n",
       "\n",
       "    .dataframe tbody tr th {\n",
       "        vertical-align: top;\n",
       "    }\n",
       "\n",
       "    .dataframe thead th {\n",
       "        text-align: right;\n",
       "    }\n",
       "</style>\n",
       "<table border=\"1\" class=\"dataframe\">\n",
       "  <thead>\n",
       "    <tr style=\"text-align: right;\">\n",
       "      <th></th>\n",
       "      <th>midpoint_change</th>\n",
       "      <th>order_flow</th>\n",
       "    </tr>\n",
       "  </thead>\n",
       "  <tbody>\n",
       "    <tr>\n",
       "      <th>2020-04-07 09:00:00</th>\n",
       "      <td>0.60</td>\n",
       "      <td>-0.001026</td>\n",
       "    </tr>\n",
       "    <tr>\n",
       "      <th>2020-04-07 09:15:00</th>\n",
       "      <td>0.20</td>\n",
       "      <td>0.001441</td>\n",
       "    </tr>\n",
       "    <tr>\n",
       "      <th>2020-04-07 09:30:00</th>\n",
       "      <td>0.15</td>\n",
       "      <td>-0.006406</td>\n",
       "    </tr>\n",
       "    <tr>\n",
       "      <th>2020-04-07 09:45:00</th>\n",
       "      <td>-0.17</td>\n",
       "      <td>0.006327</td>\n",
       "    </tr>\n",
       "    <tr>\n",
       "      <th>2020-04-07 10:00:00</th>\n",
       "      <td>0.08</td>\n",
       "      <td>0.006310</td>\n",
       "    </tr>\n",
       "  </tbody>\n",
       "</table>\n",
       "</div>"
      ],
      "text/plain": [
       "                     midpoint_change  order_flow\n",
       "2020-04-07 09:00:00             0.60   -0.001026\n",
       "2020-04-07 09:15:00             0.20    0.001441\n",
       "2020-04-07 09:30:00             0.15   -0.006406\n",
       "2020-04-07 09:45:00            -0.17    0.006327\n",
       "2020-04-07 10:00:00             0.08    0.006310"
      ]
     },
     "execution_count": 10,
     "metadata": {},
     "output_type": "execute_result"
    }
   ],
   "source": [
    "new_data = pd.DataFrame(data=zip(midpoint_change, fraction_order_flow), \n",
    "                        index=index, \n",
    "                        columns=[\"midpoint_change\", \"order_flow\"])\n",
    "new_data.head()"
   ]
  },
  {
   "cell_type": "code",
   "execution_count": 11,
   "metadata": {},
   "outputs": [
    {
     "name": "stderr",
     "output_type": "stream",
     "text": [
      "/usr/local/lib/python3.7/site-packages/statsmodels/tools/_testing.py:19: FutureWarning: pandas.util.testing is deprecated. Use the functions in the public API at pandas.testing instead.\n",
      "  import pandas.util.testing as tm\n",
      "/usr/local/lib/python3.7/site-packages/statsmodels/compat/pandas.py:23: FutureWarning: The Panel class is removed from pandas. Accessing it from the top-level namespace will also be removed in the next version\n",
      "  data_klasses = (pandas.Series, pandas.DataFrame, pandas.Panel)\n"
     ]
    },
    {
     "data": {
      "text/html": [
       "<table class=\"simpletable\">\n",
       "<caption>OLS Regression Results</caption>\n",
       "<tr>\n",
       "  <th>Dep. Variable:</th>     <td>midpoint_change</td> <th>  R-squared (uncentered):</th>      <td>   0.198</td>\n",
       "</tr>\n",
       "<tr>\n",
       "  <th>Model:</th>                   <td>OLS</td>       <th>  Adj. R-squared (uncentered):</th> <td>   0.174</td>\n",
       "</tr>\n",
       "<tr>\n",
       "  <th>Method:</th>             <td>Least Squares</td>  <th>  F-statistic:       </th>          <td>   8.148</td>\n",
       "</tr>\n",
       "<tr>\n",
       "  <th>Date:</th>             <td>Tue, 07 Apr 2020</td> <th>  Prob (F-statistic):</th>           <td>0.00739</td>\n",
       "</tr>\n",
       "<tr>\n",
       "  <th>Time:</th>                 <td>10:48:44</td>     <th>  Log-Likelihood:    </th>          <td>-0.79268</td>\n",
       "</tr>\n",
       "<tr>\n",
       "  <th>No. Observations:</th>      <td>    34</td>      <th>  AIC:               </th>          <td>   3.585</td>\n",
       "</tr>\n",
       "<tr>\n",
       "  <th>Df Residuals:</th>          <td>    33</td>      <th>  BIC:               </th>          <td>   5.112</td>\n",
       "</tr>\n",
       "<tr>\n",
       "  <th>Df Model:</th>              <td>     1</td>      <th>                     </th>              <td> </td>   \n",
       "</tr>\n",
       "<tr>\n",
       "  <th>Covariance Type:</th>      <td>nonrobust</td>    <th>                     </th>              <td> </td>   \n",
       "</tr>\n",
       "</table>\n",
       "<table class=\"simpletable\">\n",
       "<tr>\n",
       "       <td></td>         <th>coef</th>     <th>std err</th>      <th>t</th>      <th>P>|t|</th>  <th>[0.025</th>    <th>0.975]</th>  \n",
       "</tr>\n",
       "<tr>\n",
       "  <th>order_flow</th> <td>   -4.6202</td> <td>    1.619</td> <td>   -2.854</td> <td> 0.007</td> <td>   -7.913</td> <td>   -1.327</td>\n",
       "</tr>\n",
       "</table>\n",
       "<table class=\"simpletable\">\n",
       "<tr>\n",
       "  <th>Omnibus:</th>       <td> 1.489</td> <th>  Durbin-Watson:     </th> <td>   1.447</td>\n",
       "</tr>\n",
       "<tr>\n",
       "  <th>Prob(Omnibus):</th> <td> 0.475</td> <th>  Jarque-Bera (JB):  </th> <td>   0.552</td>\n",
       "</tr>\n",
       "<tr>\n",
       "  <th>Skew:</th>          <td>-0.167</td> <th>  Prob(JB):          </th> <td>   0.759</td>\n",
       "</tr>\n",
       "<tr>\n",
       "  <th>Kurtosis:</th>      <td> 3.528</td> <th>  Cond. No.          </th> <td>    1.00</td>\n",
       "</tr>\n",
       "</table><br/><br/>Warnings:<br/>[1] Standard Errors assume that the covariance matrix of the errors is correctly specified."
      ],
      "text/plain": [
       "<class 'statsmodels.iolib.summary.Summary'>\n",
       "\"\"\"\n",
       "                                 OLS Regression Results                                \n",
       "=======================================================================================\n",
       "Dep. Variable:        midpoint_change   R-squared (uncentered):                   0.198\n",
       "Model:                            OLS   Adj. R-squared (uncentered):              0.174\n",
       "Method:                 Least Squares   F-statistic:                              8.148\n",
       "Date:                Tue, 07 Apr 2020   Prob (F-statistic):                     0.00739\n",
       "Time:                        10:48:44   Log-Likelihood:                        -0.79268\n",
       "No. Observations:                  34   AIC:                                      3.585\n",
       "Df Residuals:                      33   BIC:                                      5.112\n",
       "Df Model:                           1                                                  \n",
       "Covariance Type:            nonrobust                                                  \n",
       "==============================================================================\n",
       "                 coef    std err          t      P>|t|      [0.025      0.975]\n",
       "------------------------------------------------------------------------------\n",
       "order_flow    -4.6202      1.619     -2.854      0.007      -7.913      -1.327\n",
       "==============================================================================\n",
       "Omnibus:                        1.489   Durbin-Watson:                   1.447\n",
       "Prob(Omnibus):                  0.475   Jarque-Bera (JB):                0.552\n",
       "Skew:                          -0.167   Prob(JB):                        0.759\n",
       "Kurtosis:                       3.528   Cond. No.                         1.00\n",
       "==============================================================================\n",
       "\n",
       "Warnings:\n",
       "[1] Standard Errors assume that the covariance matrix of the errors is correctly specified.\n",
       "\"\"\""
      ]
     },
     "execution_count": 11,
     "metadata": {},
     "output_type": "execute_result"
    }
   ],
   "source": [
    "import statsmodels.formula.api as sm\n",
    "formula = \"midpoint_change ~ order_flow - 1\"\n",
    "reg = sm.ols(formula, new_data).fit()\n",
    "reg.summary()"
   ]
  },
  {
   "cell_type": "markdown",
   "metadata": {},
   "source": [
    "The parameter $\\lambda$ is estimated to be $-4.602$ with a $t-$stat of $-2.854$ which is statistically significant. A 1% increase/decrease in relative order flow would effect a 4.602% decrease/increase in the midpoint price."
   ]
  },
  {
   "cell_type": "markdown",
   "metadata": {},
   "source": [
    "## Question 6 "
   ]
  },
  {
   "cell_type": "code",
   "execution_count": 12,
   "metadata": {},
   "outputs": [
    {
     "data": {
      "text/html": [
       "<div>\n",
       "<style scoped>\n",
       "    .dataframe tbody tr th:only-of-type {\n",
       "        vertical-align: middle;\n",
       "    }\n",
       "\n",
       "    .dataframe tbody tr th {\n",
       "        vertical-align: top;\n",
       "    }\n",
       "\n",
       "    .dataframe thead th {\n",
       "        text-align: right;\n",
       "    }\n",
       "</style>\n",
       "<table border=\"1\" class=\"dataframe\">\n",
       "  <thead>\n",
       "    <tr style=\"text-align: right;\">\n",
       "      <th></th>\n",
       "      <th>Type</th>\n",
       "      <th>Bid (bt)</th>\n",
       "      <th>Ask (at)</th>\n",
       "      <th>Price (pt)</th>\n",
       "      <th>Bid Size</th>\n",
       "      <th>Ask Size</th>\n",
       "      <th>Trade Size (|qt|)</th>\n",
       "      <th>Unnamed: 8</th>\n",
       "    </tr>\n",
       "    <tr>\n",
       "      <th>Time</th>\n",
       "      <th></th>\n",
       "      <th></th>\n",
       "      <th></th>\n",
       "      <th></th>\n",
       "      <th></th>\n",
       "      <th></th>\n",
       "      <th></th>\n",
       "      <th></th>\n",
       "    </tr>\n",
       "  </thead>\n",
       "  <tbody>\n",
       "    <tr>\n",
       "      <th>2020-04-07 09:02:25</th>\n",
       "      <td>0</td>\n",
       "      <td>2.66</td>\n",
       "      <td>3.89</td>\n",
       "      <td>NaN</td>\n",
       "      <td>100.0</td>\n",
       "      <td>1000.0</td>\n",
       "      <td>NaN</td>\n",
       "      <td>NaN</td>\n",
       "    </tr>\n",
       "    <tr>\n",
       "      <th>2020-04-07 09:17:40</th>\n",
       "      <td>0</td>\n",
       "      <td>2.65</td>\n",
       "      <td>3.33</td>\n",
       "      <td>NaN</td>\n",
       "      <td>100.0</td>\n",
       "      <td>100.0</td>\n",
       "      <td>NaN</td>\n",
       "      <td>NaN</td>\n",
       "    </tr>\n",
       "    <tr>\n",
       "      <th>2020-04-07 09:17:40</th>\n",
       "      <td>0</td>\n",
       "      <td>2.67</td>\n",
       "      <td>3.54</td>\n",
       "      <td>NaN</td>\n",
       "      <td>3400.0</td>\n",
       "      <td>5000.0</td>\n",
       "      <td>NaN</td>\n",
       "      <td>NaN</td>\n",
       "    </tr>\n",
       "    <tr>\n",
       "      <th>2020-04-07 09:21:21</th>\n",
       "      <td>0</td>\n",
       "      <td>2.66</td>\n",
       "      <td>3.89</td>\n",
       "      <td>NaN</td>\n",
       "      <td>100.0</td>\n",
       "      <td>1000.0</td>\n",
       "      <td>NaN</td>\n",
       "      <td>NaN</td>\n",
       "    </tr>\n",
       "    <tr>\n",
       "      <th>2020-04-07 09:25:01</th>\n",
       "      <td>0</td>\n",
       "      <td>2.67</td>\n",
       "      <td>3.89</td>\n",
       "      <td>NaN</td>\n",
       "      <td>3400.0</td>\n",
       "      <td>1000.0</td>\n",
       "      <td>NaN</td>\n",
       "      <td>NaN</td>\n",
       "    </tr>\n",
       "  </tbody>\n",
       "</table>\n",
       "</div>"
      ],
      "text/plain": [
       "                     Type  Bid (bt)  Ask (at)  Price (pt)  Bid Size  Ask Size  \\\n",
       "Time                                                                            \n",
       "2020-04-07 09:02:25     0      2.66      3.89         NaN     100.0    1000.0   \n",
       "2020-04-07 09:17:40     0      2.65      3.33         NaN     100.0     100.0   \n",
       "2020-04-07 09:17:40     0      2.67      3.54         NaN    3400.0    5000.0   \n",
       "2020-04-07 09:21:21     0      2.66      3.89         NaN     100.0    1000.0   \n",
       "2020-04-07 09:25:01     0      2.67      3.89         NaN    3400.0    1000.0   \n",
       "\n",
       "                     Trade Size (|qt|) Unnamed: 8  \n",
       "Time                                               \n",
       "2020-04-07 09:02:25                NaN        NaN  \n",
       "2020-04-07 09:17:40                NaN        NaN  \n",
       "2020-04-07 09:17:40                NaN        NaN  \n",
       "2020-04-07 09:21:21                NaN        NaN  \n",
       "2020-04-07 09:25:01                NaN        NaN  "
      ]
     },
     "execution_count": 12,
     "metadata": {},
     "output_type": "execute_result"
    }
   ],
   "source": [
    "data = pd.read_excel(\"data_2/Ch2_KrispyKreme_raw_data.xls\", \n",
    "                     header=1, \n",
    "                     parse_dates=True,\n",
    "                     dtype={\"Time\":datetime.time}, \n",
    "                     index_col=\"Time\")\n",
    "data.head()"
   ]
  },
  {
   "cell_type": "markdown",
   "metadata": {},
   "source": [
    "### Part A"
   ]
  },
  {
   "cell_type": "code",
   "execution_count": 13,
   "metadata": {},
   "outputs": [
    {
     "data": {
      "text/html": [
       "<div>\n",
       "<style scoped>\n",
       "    .dataframe tbody tr th:only-of-type {\n",
       "        vertical-align: middle;\n",
       "    }\n",
       "\n",
       "    .dataframe tbody tr th {\n",
       "        vertical-align: top;\n",
       "    }\n",
       "\n",
       "    .dataframe thead th {\n",
       "        text-align: right;\n",
       "    }\n",
       "</style>\n",
       "<table border=\"1\" class=\"dataframe\">\n",
       "  <thead>\n",
       "    <tr style=\"text-align: right;\">\n",
       "      <th></th>\n",
       "      <th>Type</th>\n",
       "      <th>Bid (bt)</th>\n",
       "      <th>Ask (at)</th>\n",
       "      <th>Price (pt)</th>\n",
       "      <th>Bid Size</th>\n",
       "      <th>Ask Size</th>\n",
       "      <th>Trade Size (|qt|)</th>\n",
       "      <th>Unnamed: 8</th>\n",
       "      <th>absolute_spread</th>\n",
       "      <th>midpoint</th>\n",
       "      <th>relative_spread</th>\n",
       "      <th>log_spread</th>\n",
       "    </tr>\n",
       "    <tr>\n",
       "      <th>Time</th>\n",
       "      <th></th>\n",
       "      <th></th>\n",
       "      <th></th>\n",
       "      <th></th>\n",
       "      <th></th>\n",
       "      <th></th>\n",
       "      <th></th>\n",
       "      <th></th>\n",
       "      <th></th>\n",
       "      <th></th>\n",
       "      <th></th>\n",
       "      <th></th>\n",
       "    </tr>\n",
       "  </thead>\n",
       "  <tbody>\n",
       "    <tr>\n",
       "      <th>2020-04-07 09:02:25</th>\n",
       "      <td>0</td>\n",
       "      <td>2.66</td>\n",
       "      <td>3.89</td>\n",
       "      <td>NaN</td>\n",
       "      <td>100.0</td>\n",
       "      <td>1000.0</td>\n",
       "      <td>NaN</td>\n",
       "      <td>NaN</td>\n",
       "      <td>1.23</td>\n",
       "      <td>3.275</td>\n",
       "      <td>0.375573</td>\n",
       "      <td>0.380083</td>\n",
       "    </tr>\n",
       "    <tr>\n",
       "      <th>2020-04-07 09:17:40</th>\n",
       "      <td>0</td>\n",
       "      <td>2.65</td>\n",
       "      <td>3.33</td>\n",
       "      <td>NaN</td>\n",
       "      <td>100.0</td>\n",
       "      <td>100.0</td>\n",
       "      <td>NaN</td>\n",
       "      <td>NaN</td>\n",
       "      <td>0.68</td>\n",
       "      <td>2.990</td>\n",
       "      <td>0.227425</td>\n",
       "      <td>0.228413</td>\n",
       "    </tr>\n",
       "    <tr>\n",
       "      <th>2020-04-07 09:17:40</th>\n",
       "      <td>0</td>\n",
       "      <td>2.67</td>\n",
       "      <td>3.54</td>\n",
       "      <td>NaN</td>\n",
       "      <td>3400.0</td>\n",
       "      <td>5000.0</td>\n",
       "      <td>NaN</td>\n",
       "      <td>NaN</td>\n",
       "      <td>0.87</td>\n",
       "      <td>3.105</td>\n",
       "      <td>0.280193</td>\n",
       "      <td>0.282048</td>\n",
       "    </tr>\n",
       "    <tr>\n",
       "      <th>2020-04-07 09:21:21</th>\n",
       "      <td>0</td>\n",
       "      <td>2.66</td>\n",
       "      <td>3.89</td>\n",
       "      <td>NaN</td>\n",
       "      <td>100.0</td>\n",
       "      <td>1000.0</td>\n",
       "      <td>NaN</td>\n",
       "      <td>NaN</td>\n",
       "      <td>1.23</td>\n",
       "      <td>3.275</td>\n",
       "      <td>0.375573</td>\n",
       "      <td>0.380083</td>\n",
       "    </tr>\n",
       "    <tr>\n",
       "      <th>2020-04-07 09:25:01</th>\n",
       "      <td>0</td>\n",
       "      <td>2.67</td>\n",
       "      <td>3.89</td>\n",
       "      <td>NaN</td>\n",
       "      <td>3400.0</td>\n",
       "      <td>1000.0</td>\n",
       "      <td>NaN</td>\n",
       "      <td>NaN</td>\n",
       "      <td>1.22</td>\n",
       "      <td>3.280</td>\n",
       "      <td>0.371951</td>\n",
       "      <td>0.376331</td>\n",
       "    </tr>\n",
       "  </tbody>\n",
       "</table>\n",
       "</div>"
      ],
      "text/plain": [
       "                     Type  Bid (bt)  Ask (at)  Price (pt)  Bid Size  Ask Size  \\\n",
       "Time                                                                            \n",
       "2020-04-07 09:02:25     0      2.66      3.89         NaN     100.0    1000.0   \n",
       "2020-04-07 09:17:40     0      2.65      3.33         NaN     100.0     100.0   \n",
       "2020-04-07 09:17:40     0      2.67      3.54         NaN    3400.0    5000.0   \n",
       "2020-04-07 09:21:21     0      2.66      3.89         NaN     100.0    1000.0   \n",
       "2020-04-07 09:25:01     0      2.67      3.89         NaN    3400.0    1000.0   \n",
       "\n",
       "                     Trade Size (|qt|) Unnamed: 8  absolute_spread  midpoint  \\\n",
       "Time                                                                           \n",
       "2020-04-07 09:02:25                NaN        NaN             1.23     3.275   \n",
       "2020-04-07 09:17:40                NaN        NaN             0.68     2.990   \n",
       "2020-04-07 09:17:40                NaN        NaN             0.87     3.105   \n",
       "2020-04-07 09:21:21                NaN        NaN             1.23     3.275   \n",
       "2020-04-07 09:25:01                NaN        NaN             1.22     3.280   \n",
       "\n",
       "                     relative_spread  log_spread  \n",
       "Time                                              \n",
       "2020-04-07 09:02:25         0.375573    0.380083  \n",
       "2020-04-07 09:17:40         0.227425    0.228413  \n",
       "2020-04-07 09:17:40         0.280193    0.282048  \n",
       "2020-04-07 09:21:21         0.375573    0.380083  \n",
       "2020-04-07 09:25:01         0.371951    0.376331  "
      ]
     },
     "execution_count": 13,
     "metadata": {},
     "output_type": "execute_result"
    }
   ],
   "source": [
    "data[\"absolute_spread\"] = data[\"Ask (at)\"] - data[\"Bid (bt)\"]\n",
    "data[\"midpoint\"] = (data[\"Ask (at)\"] + data[\"Bid (bt)\"]) / 2\n",
    "data[\"relative_spread\"] = data[\"absolute_spread\"] / data[\"midpoint\"]\n",
    "data[\"log_spread\"] = data[\"Ask (at)\"].apply(np.log) - data[\"Bid (bt)\"].apply(np.log)\n",
    "data.head()"
   ]
  },
  {
   "cell_type": "code",
   "execution_count": 14,
   "metadata": {},
   "outputs": [],
   "source": [
    "avg_absolute_spread = []\n",
    "index = []\n",
    "for group in data.groupby(pd.Grouper(freq=\"30T\")):\n",
    "    group_data = group[1]\n",
    "    index.append(group[0])\n",
    "    avg_absolute_spread.append(group_data[\"absolute_spread\"].mean())\n",
    "    \n",
    "spread_evolution = pd.DataFrame(data=avg_absolute_spread, index=index, columns=[\"avg. absolute spread\"])\n",
    "fig = spread_evolution.plot()\n",
    "    "
   ]
  },
  {
   "cell_type": "markdown",
   "metadata": {},
   "source": [
    "### Part B"
   ]
  },
  {
   "cell_type": "code",
   "execution_count": 15,
   "metadata": {},
   "outputs": [
    {
     "data": {
      "text/html": [
       "<div>\n",
       "<style scoped>\n",
       "    .dataframe tbody tr th:only-of-type {\n",
       "        vertical-align: middle;\n",
       "    }\n",
       "\n",
       "    .dataframe tbody tr th {\n",
       "        vertical-align: top;\n",
       "    }\n",
       "\n",
       "    .dataframe thead th {\n",
       "        text-align: right;\n",
       "    }\n",
       "</style>\n",
       "<table border=\"1\" class=\"dataframe\">\n",
       "  <thead>\n",
       "    <tr style=\"text-align: right;\">\n",
       "      <th></th>\n",
       "      <th>Type</th>\n",
       "      <th>Bid (bt)</th>\n",
       "      <th>Ask (at)</th>\n",
       "      <th>Price (pt)</th>\n",
       "      <th>Bid Size</th>\n",
       "      <th>Ask Size</th>\n",
       "      <th>Trade Size (|qt|)</th>\n",
       "      <th>Unnamed: 8</th>\n",
       "      <th>absolute_spread</th>\n",
       "      <th>midpoint</th>\n",
       "      <th>relative_spread</th>\n",
       "      <th>log_spread</th>\n",
       "      <th>most_recent_trans</th>\n",
       "    </tr>\n",
       "    <tr>\n",
       "      <th>Time</th>\n",
       "      <th></th>\n",
       "      <th></th>\n",
       "      <th></th>\n",
       "      <th></th>\n",
       "      <th></th>\n",
       "      <th></th>\n",
       "      <th></th>\n",
       "      <th></th>\n",
       "      <th></th>\n",
       "      <th></th>\n",
       "      <th></th>\n",
       "      <th></th>\n",
       "      <th></th>\n",
       "    </tr>\n",
       "  </thead>\n",
       "  <tbody>\n",
       "    <tr>\n",
       "      <th>2020-04-07 09:30:02</th>\n",
       "      <td>1</td>\n",
       "      <td>2.81</td>\n",
       "      <td>3.24</td>\n",
       "      <td>2.99</td>\n",
       "      <td>100.0</td>\n",
       "      <td>100.0</td>\n",
       "      <td>500.0</td>\n",
       "      <td>-1</td>\n",
       "      <td>0.43</td>\n",
       "      <td>3.025</td>\n",
       "      <td>0.142149</td>\n",
       "      <td>0.142389</td>\n",
       "      <td>NaN</td>\n",
       "    </tr>\n",
       "    <tr>\n",
       "      <th>2020-04-07 09:30:02</th>\n",
       "      <td>1</td>\n",
       "      <td>2.81</td>\n",
       "      <td>3.24</td>\n",
       "      <td>2.99</td>\n",
       "      <td>100.0</td>\n",
       "      <td>100.0</td>\n",
       "      <td>500.0</td>\n",
       "      <td>-1</td>\n",
       "      <td>0.43</td>\n",
       "      <td>3.025</td>\n",
       "      <td>0.142149</td>\n",
       "      <td>0.142389</td>\n",
       "      <td>2.99</td>\n",
       "    </tr>\n",
       "    <tr>\n",
       "      <th>2020-04-07 09:32:28</th>\n",
       "      <td>1</td>\n",
       "      <td>2.88</td>\n",
       "      <td>3.15</td>\n",
       "      <td>3.03</td>\n",
       "      <td>100.0</td>\n",
       "      <td>100.0</td>\n",
       "      <td>2400.0</td>\n",
       "      <td>1</td>\n",
       "      <td>0.27</td>\n",
       "      <td>3.015</td>\n",
       "      <td>0.089552</td>\n",
       "      <td>0.089612</td>\n",
       "      <td>2.99</td>\n",
       "    </tr>\n",
       "    <tr>\n",
       "      <th>2020-04-07 09:33:35</th>\n",
       "      <td>1</td>\n",
       "      <td>3.01</td>\n",
       "      <td>3.03</td>\n",
       "      <td>3.03</td>\n",
       "      <td>1600.0</td>\n",
       "      <td>700.0</td>\n",
       "      <td>100.0</td>\n",
       "      <td>1</td>\n",
       "      <td>0.02</td>\n",
       "      <td>3.020</td>\n",
       "      <td>0.006623</td>\n",
       "      <td>0.006623</td>\n",
       "      <td>3.03</td>\n",
       "    </tr>\n",
       "    <tr>\n",
       "      <th>2020-04-07 09:33:38</th>\n",
       "      <td>1</td>\n",
       "      <td>3.01</td>\n",
       "      <td>3.03</td>\n",
       "      <td>3.02</td>\n",
       "      <td>100.0</td>\n",
       "      <td>100.0</td>\n",
       "      <td>100.0</td>\n",
       "      <td>1</td>\n",
       "      <td>0.02</td>\n",
       "      <td>3.020</td>\n",
       "      <td>0.006623</td>\n",
       "      <td>0.006623</td>\n",
       "      <td>3.03</td>\n",
       "    </tr>\n",
       "  </tbody>\n",
       "</table>\n",
       "</div>"
      ],
      "text/plain": [
       "                     Type  Bid (bt)  Ask (at)  Price (pt)  Bid Size  Ask Size  \\\n",
       "Time                                                                            \n",
       "2020-04-07 09:30:02     1      2.81      3.24        2.99     100.0     100.0   \n",
       "2020-04-07 09:30:02     1      2.81      3.24        2.99     100.0     100.0   \n",
       "2020-04-07 09:32:28     1      2.88      3.15        3.03     100.0     100.0   \n",
       "2020-04-07 09:33:35     1      3.01      3.03        3.03    1600.0     700.0   \n",
       "2020-04-07 09:33:38     1      3.01      3.03        3.02     100.0     100.0   \n",
       "\n",
       "                     Trade Size (|qt|)  Unnamed: 8  absolute_spread  midpoint  \\\n",
       "Time                                                                            \n",
       "2020-04-07 09:30:02              500.0          -1             0.43     3.025   \n",
       "2020-04-07 09:30:02              500.0          -1             0.43     3.025   \n",
       "2020-04-07 09:32:28             2400.0           1             0.27     3.015   \n",
       "2020-04-07 09:33:35              100.0           1             0.02     3.020   \n",
       "2020-04-07 09:33:38              100.0           1             0.02     3.020   \n",
       "\n",
       "                     relative_spread  log_spread  most_recent_trans  \n",
       "Time                                                                 \n",
       "2020-04-07 09:30:02         0.142149    0.142389                NaN  \n",
       "2020-04-07 09:30:02         0.142149    0.142389               2.99  \n",
       "2020-04-07 09:32:28         0.089552    0.089612               2.99  \n",
       "2020-04-07 09:33:35         0.006623    0.006623               3.03  \n",
       "2020-04-07 09:33:38         0.006623    0.006623               3.03  "
      ]
     },
     "execution_count": 15,
     "metadata": {},
     "output_type": "execute_result"
    }
   ],
   "source": [
    "data = data.fillna(method='ffill')\n",
    "transaction_data = data.loc[data[\"Type\"] == 1, data.columns.values]\n",
    "transaction_data[\"most_recent_trans\"] = transaction_data[\"Price (pt)\"].shift()\n",
    "transaction_data[\"Unnamed: 8\"] = np.where(transaction_data[\"Price (pt)\"] > transaction_data[\"midpoint\"], \n",
    "                                          1, \n",
    "                                          np.where(transaction_data[\"Price (pt)\"] < transaction_data[\"midpoint\"], \n",
    "                                                   -1, \n",
    "                                                   np.where(transaction_data[\"Price (pt)\"] > transaction_data[\"most_recent_trans\"], \n",
    "                                                            1, \n",
    "                                                            -1\n",
    "                                                           )\n",
    "                                                  )\n",
    "                                         )\n",
    "transaction_data.head()"
   ]
  },
  {
   "cell_type": "markdown",
   "metadata": {},
   "source": [
    "## Question 7"
   ]
  },
  {
   "cell_type": "markdown",
   "metadata": {},
   "source": [
    "### Part A"
   ]
  },
  {
   "cell_type": "code",
   "execution_count": 16,
   "metadata": {},
   "outputs": [
    {
     "data": {
      "text/html": [
       "<div>\n",
       "<style scoped>\n",
       "    .dataframe tbody tr th:only-of-type {\n",
       "        vertical-align: middle;\n",
       "    }\n",
       "\n",
       "    .dataframe tbody tr th {\n",
       "        vertical-align: top;\n",
       "    }\n",
       "\n",
       "    .dataframe thead th {\n",
       "        text-align: right;\n",
       "    }\n",
       "</style>\n",
       "<table border=\"1\" class=\"dataframe\">\n",
       "  <thead>\n",
       "    <tr style=\"text-align: right;\">\n",
       "      <th></th>\n",
       "      <th>bid</th>\n",
       "      <th>ask</th>\n",
       "      <th>price</th>\n",
       "      <th>size</th>\n",
       "      <th>direction</th>\n",
       "      <th>absolute_half_spread</th>\n",
       "      <th>relative_half_spread</th>\n",
       "      <th>log_half_spread</th>\n",
       "    </tr>\n",
       "    <tr>\n",
       "      <th>Time</th>\n",
       "      <th></th>\n",
       "      <th></th>\n",
       "      <th></th>\n",
       "      <th></th>\n",
       "      <th></th>\n",
       "      <th></th>\n",
       "      <th></th>\n",
       "      <th></th>\n",
       "    </tr>\n",
       "  </thead>\n",
       "  <tbody>\n",
       "    <tr>\n",
       "      <th>2020-04-07 09:30:02</th>\n",
       "      <td>2.81</td>\n",
       "      <td>3.24</td>\n",
       "      <td>2.99</td>\n",
       "      <td>500.0</td>\n",
       "      <td>-1</td>\n",
       "      <td>0.215</td>\n",
       "      <td>0.071074</td>\n",
       "      <td>0.068662</td>\n",
       "    </tr>\n",
       "    <tr>\n",
       "      <th>2020-04-07 09:30:02</th>\n",
       "      <td>2.81</td>\n",
       "      <td>3.24</td>\n",
       "      <td>2.99</td>\n",
       "      <td>500.0</td>\n",
       "      <td>-1</td>\n",
       "      <td>0.215</td>\n",
       "      <td>0.071074</td>\n",
       "      <td>0.068662</td>\n",
       "    </tr>\n",
       "    <tr>\n",
       "      <th>2020-04-07 09:32:28</th>\n",
       "      <td>2.88</td>\n",
       "      <td>3.15</td>\n",
       "      <td>3.03</td>\n",
       "      <td>2400.0</td>\n",
       "      <td>1</td>\n",
       "      <td>0.135</td>\n",
       "      <td>0.044776</td>\n",
       "      <td>0.043803</td>\n",
       "    </tr>\n",
       "    <tr>\n",
       "      <th>2020-04-07 09:33:35</th>\n",
       "      <td>3.01</td>\n",
       "      <td>3.03</td>\n",
       "      <td>3.03</td>\n",
       "      <td>100.0</td>\n",
       "      <td>1</td>\n",
       "      <td>0.010</td>\n",
       "      <td>0.003311</td>\n",
       "      <td>0.003306</td>\n",
       "    </tr>\n",
       "    <tr>\n",
       "      <th>2020-04-07 09:33:38</th>\n",
       "      <td>3.01</td>\n",
       "      <td>3.03</td>\n",
       "      <td>3.02</td>\n",
       "      <td>100.0</td>\n",
       "      <td>1</td>\n",
       "      <td>0.010</td>\n",
       "      <td>0.003311</td>\n",
       "      <td>0.003306</td>\n",
       "    </tr>\n",
       "  </tbody>\n",
       "</table>\n",
       "</div>"
      ],
      "text/plain": [
       "                      bid   ask  price    size  direction  \\\n",
       "Time                                                        \n",
       "2020-04-07 09:30:02  2.81  3.24   2.99   500.0         -1   \n",
       "2020-04-07 09:30:02  2.81  3.24   2.99   500.0         -1   \n",
       "2020-04-07 09:32:28  2.88  3.15   3.03  2400.0          1   \n",
       "2020-04-07 09:33:35  3.01  3.03   3.03   100.0          1   \n",
       "2020-04-07 09:33:38  3.01  3.03   3.02   100.0          1   \n",
       "\n",
       "                     absolute_half_spread  relative_half_spread  \\\n",
       "Time                                                              \n",
       "2020-04-07 09:30:02                 0.215              0.071074   \n",
       "2020-04-07 09:30:02                 0.215              0.071074   \n",
       "2020-04-07 09:32:28                 0.135              0.044776   \n",
       "2020-04-07 09:33:35                 0.010              0.003311   \n",
       "2020-04-07 09:33:38                 0.010              0.003311   \n",
       "\n",
       "                     log_half_spread  \n",
       "Time                                  \n",
       "2020-04-07 09:30:02         0.068662  \n",
       "2020-04-07 09:30:02         0.068662  \n",
       "2020-04-07 09:32:28         0.043803  \n",
       "2020-04-07 09:33:35         0.003306  \n",
       "2020-04-07 09:33:38         0.003306  "
      ]
     },
     "execution_count": 16,
     "metadata": {},
     "output_type": "execute_result"
    }
   ],
   "source": [
    "transaction_data[\"absolute_half_spread\"] = transaction_data[\"absolute_spread\"] / 2 \n",
    "transaction_data[\"relative_half_spread\"] = transaction_data[\"relative_spread\"] / 2 \n",
    "transaction_data[\"log_half_spread\"] = transaction_data[\"Ask (at)\"].apply(np.log) \\\n",
    "                                    - transaction_data[\"midpoint\"].apply(np.log)\n",
    "data = transaction_data[[\"Bid (bt)\", \n",
    "                         \"Ask (at)\", \n",
    "                         \"Price (pt)\", \n",
    "                         \"Trade Size (|qt|)\",\n",
    "                         \"Unnamed: 8\", \n",
    "                         \"absolute_half_spread\", \n",
    "                         \"relative_half_spread\", \n",
    "                         \"log_half_spread\"\n",
    "                        ]\n",
    "                       ].rename(columns = {\"Bid (bt)\": \"bid\", \n",
    "                                           \"Ask (at)\": \"ask\", \n",
    "                                           \"Price (pt)\": \"price\",\n",
    "                                           \"Trade Size (|qt|)\": \"size\",\n",
    "                                           \"Unnamed: 8\": \"direction\"\n",
    "                                          }\n",
    "                               )\n",
    "data.head()"
   ]
  },
  {
   "cell_type": "markdown",
   "metadata": {},
   "source": [
    "### Part B"
   ]
  },
  {
   "cell_type": "code",
   "execution_count": 17,
   "metadata": {},
   "outputs": [
    {
     "name": "stdout",
     "output_type": "stream",
     "text": [
      "VWAP: 3.0534, VWAP Buy: 3.0647, VWAP Sell: 3.0454\n"
     ]
    }
   ],
   "source": [
    "vwap = (data[\"price\"] * data[\"size\"]).sum() / data[\"size\"].sum()\n",
    "\n",
    "data[\"buy_size\"] = np.where(data[\"direction\"] == 1, data[\"size\"], 0)\n",
    "data[\"sell_size\"] = np.where(data[\"direction\"] == -1, data[\"size\"], 0)\n",
    "\n",
    "vwap_b = (data[\"price\"] * data[\"buy_size\"]).sum() / data[\"buy_size\"].sum()\n",
    "vwap_s = (data[\"price\"] * data[\"sell_size\"]).sum() / data[\"sell_size\"].sum()\n",
    "\n",
    "print(f\"VWAP: {vwap:.4f}, VWAP Buy: {vwap_b:.4f}, VWAP Sell: {vwap_s:.4f}\")"
   ]
  },
  {
   "cell_type": "code",
   "execution_count": 18,
   "metadata": {},
   "outputs": [
    {
     "name": "stdout",
     "output_type": "stream",
     "text": [
      "Time: 2020-04-07 09:00:00, VWAP: 3.0180, VWAP Buy: 3.0357, VWAP Sell: 3.0036\n",
      "Time: 2020-04-07 12:00:00, VWAP: 3.0868, VWAP Buy: 3.0932, VWAP Sell: 3.0812\n",
      "Time: 2020-04-07 15:00:00, VWAP: 3.0689, VWAP Buy: 3.0801, VWAP Sell: 3.0649\n"
     ]
    }
   ],
   "source": [
    "for group in data.groupby(pd.Grouper(freq=\"3H\", closed=\"left\")):\n",
    "    local = group[1].copy()\n",
    "    local[\"buy_size\"] = np.where(local[\"direction\"] == 1, local[\"size\"], 0)\n",
    "    local[\"sell_size\"] = np.where(local[\"direction\"] == -1, local[\"size\"], 0)\n",
    "    \n",
    "    vwap = (local[\"price\"] * local[\"size\"]).sum() / local[\"size\"].sum()\n",
    "\n",
    "    vwap_b = (local[\"price\"] * local[\"buy_size\"]).sum() / local[\"buy_size\"].sum()\n",
    "    vwap_s = (local[\"price\"] * local[\"sell_size\"]).sum() / local[\"sell_size\"].sum()\n",
    "\n",
    "    print(f\"Time: {group[0]}, VWAP: {vwap:.4f}, VWAP Buy: {vwap_b:.4f}, VWAP Sell: {vwap_s:.4f}\")"
   ]
  },
  {
   "cell_type": "markdown",
   "metadata": {},
   "source": [
    "### Part C"
   ]
  },
  {
   "cell_type": "code",
   "execution_count": 23,
   "metadata": {},
   "outputs": [
    {
     "name": "stdout",
     "output_type": "stream",
     "text": [
      "0.09289507177090663 0.03060879601340561\n"
     ]
    }
   ],
   "source": [
    "data[\"lagged_price\"] = data[\"price\"].shift()\n",
    "rolls_estimate = 2 * np.sqrt(data[\"price\"].cov(data[\"lagged_price\"]))\n",
    "\n",
    "data[\"log_price\"] = data[\"price\"].apply(np.log)\n",
    "data[\"lagged_log_price\"] = data[\"log_price\"].shift()\n",
    "rolls_estimate_log = 2 * np.sqrt(data[\"log_price\"].cov(data[\"lagged_log_price\"]))\n",
    "\n",
    "print(rolls_estimate, rolls_estimate_log)"
   ]
  },
  {
   "cell_type": "code",
   "execution_count": 37,
   "metadata": {},
   "outputs": [
    {
     "name": "stdout",
     "output_type": "stream",
     "text": [
      "0.09230911280958287 0.030409739390525905\n"
     ]
    }
   ],
   "source": [
    "lag_log_p = []\n",
    "log_p = []\n",
    "lag_p = []\n",
    "p = []\n",
    "for group in data.groupby(pd.Grouper(freq=\"15T\", closed=\"left\")):\n",
    "    lag_log_p.append(group[1][\"lagged_log_price\"][-1])\n",
    "    log_p.append(group[1][\"log_price\"][-1])\n",
    "    lag_p.append(group[1][\"lagged_price\"][-1])\n",
    "    p.append(group[1][\"price\"][-1])\n",
    "    \n",
    "    \n",
    "rolls_estimate_log_15 = 2 * np.sqrt(np.cov((lag_log_p, log_p))[0][1])\n",
    "rolls_estimate_15 = 2* np.sqrt(np.cov((lag_p, p))[0][1])\n",
    "\n",
    "print(rolls_estimate_15, rolls_estimate_log_15)"
   ]
  },
  {
   "cell_type": "markdown",
   "metadata": {},
   "source": [
    "### Part D"
   ]
  },
  {
   "cell_type": "code",
   "execution_count": 55,
   "metadata": {},
   "outputs": [
    {
     "data": {
      "text/html": [
       "<table class=\"simpletable\">\n",
       "<caption>OLS Regression Results</caption>\n",
       "<tr>\n",
       "  <th>Dep. Variable:</th>     <td>midpoint_change</td> <th>  R-squared (uncentered):</th>      <td>   0.069</td>\n",
       "</tr>\n",
       "<tr>\n",
       "  <th>Model:</th>                   <td>OLS</td>       <th>  Adj. R-squared (uncentered):</th> <td>   0.032</td>\n",
       "</tr>\n",
       "<tr>\n",
       "  <th>Method:</th>             <td>Least Squares</td>  <th>  F-statistic:       </th>          <td>   1.857</td>\n",
       "</tr>\n",
       "<tr>\n",
       "  <th>Date:</th>             <td>Tue, 07 Apr 2020</td> <th>  Prob (F-statistic):</th>           <td> 0.185</td> \n",
       "</tr>\n",
       "<tr>\n",
       "  <th>Time:</th>                 <td>11:19:05</td>     <th>  Log-Likelihood:    </th>          <td>  19.952</td>\n",
       "</tr>\n",
       "<tr>\n",
       "  <th>No. Observations:</th>      <td>    26</td>      <th>  AIC:               </th>          <td>  -37.90</td>\n",
       "</tr>\n",
       "<tr>\n",
       "  <th>Df Residuals:</th>          <td>    25</td>      <th>  BIC:               </th>          <td>  -36.65</td>\n",
       "</tr>\n",
       "<tr>\n",
       "  <th>Df Model:</th>              <td>     1</td>      <th>                     </th>              <td> </td>   \n",
       "</tr>\n",
       "<tr>\n",
       "  <th>Covariance Type:</th>      <td>nonrobust</td>    <th>                     </th>              <td> </td>   \n",
       "</tr>\n",
       "</table>\n",
       "<table class=\"simpletable\">\n",
       "<tr>\n",
       "      <td></td>         <th>coef</th>     <th>std err</th>      <th>t</th>      <th>P>|t|</th>  <th>[0.025</th>    <th>0.975]</th>  \n",
       "</tr>\n",
       "<tr>\n",
       "  <th>cumm_flow</th> <td>    0.0004</td> <td>    0.000</td> <td>    1.363</td> <td> 0.185</td> <td>   -0.000</td> <td>    0.001</td>\n",
       "</tr>\n",
       "</table>\n",
       "<table class=\"simpletable\">\n",
       "<tr>\n",
       "  <th>Omnibus:</th>       <td>17.527</td> <th>  Durbin-Watson:     </th> <td>   2.948</td>\n",
       "</tr>\n",
       "<tr>\n",
       "  <th>Prob(Omnibus):</th> <td> 0.000</td> <th>  Jarque-Bera (JB):  </th> <td>  87.343</td>\n",
       "</tr>\n",
       "<tr>\n",
       "  <th>Skew:</th>          <td>-0.384</td> <th>  Prob(JB):          </th> <td>1.08e-19</td>\n",
       "</tr>\n",
       "<tr>\n",
       "  <th>Kurtosis:</th>      <td>11.946</td> <th>  Cond. No.          </th> <td>    1.00</td>\n",
       "</tr>\n",
       "</table><br/><br/>Warnings:<br/>[1] Standard Errors assume that the covariance matrix of the errors is correctly specified."
      ],
      "text/plain": [
       "<class 'statsmodels.iolib.summary.Summary'>\n",
       "\"\"\"\n",
       "                                 OLS Regression Results                                \n",
       "=======================================================================================\n",
       "Dep. Variable:        midpoint_change   R-squared (uncentered):                   0.069\n",
       "Model:                            OLS   Adj. R-squared (uncentered):              0.032\n",
       "Method:                 Least Squares   F-statistic:                              1.857\n",
       "Date:                Tue, 07 Apr 2020   Prob (F-statistic):                       0.185\n",
       "Time:                        11:19:05   Log-Likelihood:                          19.952\n",
       "No. Observations:                  26   AIC:                                     -37.90\n",
       "Df Residuals:                      25   BIC:                                     -36.65\n",
       "Df Model:                           1                                                  \n",
       "Covariance Type:            nonrobust                                                  \n",
       "==============================================================================\n",
       "                 coef    std err          t      P>|t|      [0.025      0.975]\n",
       "------------------------------------------------------------------------------\n",
       "cumm_flow      0.0004      0.000      1.363      0.185      -0.000       0.001\n",
       "==============================================================================\n",
       "Omnibus:                       17.527   Durbin-Watson:                   2.948\n",
       "Prob(Omnibus):                  0.000   Jarque-Bera (JB):               87.343\n",
       "Skew:                          -0.384   Prob(JB):                     1.08e-19\n",
       "Kurtosis:                      11.946   Cond. No.                         1.00\n",
       "==============================================================================\n",
       "\n",
       "Warnings:\n",
       "[1] Standard Errors assume that the covariance matrix of the errors is correctly specified.\n",
       "\"\"\""
      ]
     },
     "execution_count": 55,
     "metadata": {},
     "output_type": "execute_result"
    }
   ],
   "source": [
    "data[\"midprice\"] = (data[\"ask\"] + data[\"bid\"]) / 2\n",
    "\n",
    "midprices = []\n",
    "cumm_flow = []\n",
    "index = []\n",
    "\n",
    "mid = data[\"midprice\"][0]\n",
    "for group in data.groupby(pd.Grouper(freq=\"15T\", closed=\"left\")):\n",
    "    midprices.append(round(group[1][\"midprice\"][-1] - mid, 4))\n",
    "    cumm_flow.append(round((group[1][\"price\"] * group[1][\"direction\"]).sum(), 4))\n",
    "    mid = group[1][\"midprice\"][-1]\n",
    "    index.append(group[0])\n",
    "    \n",
    "\n",
    "\n",
    "new_data = pd.DataFrame(data=zip(midprices, cumm_flow), \n",
    "                        index=index, \n",
    "                        columns=[\"midpoint_change\", \"cumm_flow\"])\n",
    "\n",
    "formula = \"midpoint_change ~ cumm_flow - 1\"\n",
    "reg = sm.ols(formula, new_data).fit()\n",
    "reg.summary()"
   ]
  },
  {
   "cell_type": "markdown",
   "metadata": {},
   "source": [
    "## Question 8"
   ]
  },
  {
   "cell_type": "markdown",
   "metadata": {},
   "source": [
    "### Part A"
   ]
  },
  {
   "cell_type": "markdown",
   "metadata": {},
   "source": [
    "The optimal return would be $q(m_t - m_0)$. As we must choose some proportion $k$ of the order to purchase, and purchase at an average price of $\\bar{p} = m_o + \\lambda k q$, the actual return is $kq(m_t - \\bar{p})$. This gives a shortfall of:\n",
    "$$\\begin{align} \n",
    "\\text{Shortfall} &= q(m_t - m_0) - kq(m_t - \\bar{p}) \\\\\n",
    "&= qm_t - qm_0 - kqm_t + kq\\bar{p} \\\\ \n",
    "&= qm_t - qm_0 - kqm_t + kq(m_0 + \\lambda kq) \\\\\n",
    "&= qm_t - qm_0 - kqm_t + kqm_0 + \\lambda k^2 q^2 \\\\\n",
    "&= q(1-k)(m_t - m_0) + \\lambda k^2 q^2\n",
    "\\end{align} $$"
   ]
  },
  {
   "cell_type": "markdown",
   "metadata": {},
   "source": [
    "### Part B"
   ]
  },
  {
   "cell_type": "markdown",
   "metadata": {},
   "source": [
    "$$\\begin{align} \n",
    "\\frac{d \\text{Shortfall}}{d k} &\\equiv 0 \\\\ \n",
    "&= - qm_t + qm_0 + 2\\lambda k q^2 \\\\\n",
    "k^* &= \\frac{m_t - m_0}{2\\lambda q}\n",
    "\\end{align}$$"
   ]
  },
  {
   "cell_type": "markdown",
   "metadata": {},
   "source": [
    "### Part C"
   ]
  },
  {
   "cell_type": "markdown",
   "metadata": {},
   "source": [
    "$$\\begin{align}\n",
    "\\frac{\\partial k^*}{\\partial (m_t - m_0)} &> 0\\\\\n",
    "\\frac{\\partial k^*}{\\partial q} &< 0\\\\\n",
    "\\frac{\\partial k^*}{\\partial \\lambda} &< 0\\\\\n",
    "\\end{align}$$"
   ]
  },
  {
   "cell_type": "markdown",
   "metadata": {},
   "source": [
    "# Chapter 3"
   ]
  },
  {
   "cell_type": "markdown",
   "metadata": {},
   "source": [
    "## Question 1"
   ]
  },
  {
   "cell_type": "markdown",
   "metadata": {},
   "source": [
    "### Part A"
   ]
  },
  {
   "cell_type": "markdown",
   "metadata": {},
   "source": [
    "$$\\begin{align}\n",
    "a_t &= \\mu_{t-1} + \\frac{k}{\\bar{q}} + s_t^a \\\\\n",
    "b_t &= \\mu_{t-1} - \\frac{k}{\\bar{q}} - s_t^b \\\\ \n",
    "S_t &\\equiv 2\\frac{k}{\\bar{q}} + s_t^a + s_t^b\n",
    "\\end{align}$$\n",
    "\n",
    "Where $\\bar{q}$ is the average order size."
   ]
  },
  {
   "cell_type": "markdown",
   "metadata": {},
   "source": [
    "## Part B"
   ]
  },
  {
   "cell_type": "markdown",
   "metadata": {},
   "source": [
    "As above:\n",
    "$$\\begin{align}\n",
    "a_t &= \\mu_{t-1} + \\frac{kp}{\\bar{q}} + s_t^a \\\\\n",
    "b_t &= \\mu_{t-1} - \\frac{kp}{\\bar{q}} - s_t^b \\\\ \n",
    "S_t &\\equiv 2\\frac{kp}{\\bar{q}} + s_t^a + s_t^b\n",
    "\\end{align}$$\n"
   ]
  },
  {
   "cell_type": "markdown",
   "metadata": {},
   "source": [
    "### Part C"
   ]
  },
  {
   "cell_type": "markdown",
   "metadata": {},
   "source": [
    "Within this framework, the observations would imply that order-processing costs are constant per dollar of value traded."
   ]
  },
  {
   "cell_type": "markdown",
   "metadata": {},
   "source": [
    "## Question 2"
   ]
  },
  {
   "cell_type": "markdown",
   "metadata": {},
   "source": [
    "### Part A"
   ]
  },
  {
   "cell_type": "markdown",
   "metadata": {},
   "source": [
    "Perfectly competitive dealers with no orderprocessing costs will post bid and ask offers at $\\mu = 15$"
   ]
  },
  {
   "cell_type": "markdown",
   "metadata": {},
   "source": [
    "### Part B"
   ]
  },
  {
   "cell_type": "markdown",
   "metadata": {},
   "source": [
    "In order to still make 0 profit with 10% informed traders, the spread must be widened by $0.10(v^H - v^L) = 1$, giving:\n",
    "$$\\begin{align}\n",
    "a &= 15 + 0.5 \\\\\n",
    "&= 15.5 \\\\\n",
    "b &= 15 - 0.5 \\\\\n",
    "&= 14.5 \n",
    "\\end{align}$$"
   ]
  },
  {
   "cell_type": "markdown",
   "metadata": {},
   "source": [
    "### Part C"
   ]
  },
  {
   "cell_type": "markdown",
   "metadata": {},
   "source": [
    "An uninformed trader will lose, on average $\\$0.50$. An informed trader will expect to make $\\$4.50$."
   ]
  },
  {
   "cell_type": "markdown",
   "metadata": {},
   "source": [
    "### Part D"
   ]
  },
  {
   "cell_type": "markdown",
   "metadata": {},
   "source": [
    "In order to account for insider traders, market makers have to increase their spread, money which is effectively taken from uninformed traders."
   ]
  },
  {
   "cell_type": "markdown",
   "metadata": {},
   "source": [
    "## Question 3"
   ]
  },
  {
   "cell_type": "markdown",
   "metadata": {},
   "source": [
    "Consider the one-period Glosten-Milgrom model, where the security’s true value v can be high (vH) or low (vL) with probability 0.5 each. Market makers are competitive and risk neutral, and do not know v. In each period, a\n",
    "single trader comes to the market: with probability 1 − π, he is a noise trader, who buys or sells one unit with\n",
    "probability 0.5 each; with probability π he is an informed trader, who observes a signal about security’s true value. With probability ρ ∈ (2 , 1] the signal is accurate, that is, it coincides with the true value of the security.\n",
    "With probability 1 − ρ, instead, the signal is mistaken, so that the insider assigns the wrong value to the\n",
    "security. Hence, ρ measures the accuracy of the signal observed by the informed trader: for ρ close to 1 , the\n",
    "informed would be similar to a noise trader; for ρ = 1, the insider trader would be perfectly informed.\n",
    "\n",
    "c. Derive the bid-ask spread as a function of signal’s informativeness. How does this result compare with the case of perfectly informed insider trading? Is the market more or less illiquid? Intuitively, why? \n",
    "\n",
    "d. Verify whether, given the bid and ask prices derived at point b, the insider is actually willing to buy when his signal equals vH and sells when it is vL, that is, whether this strategy yields positive expected profits in equilibrium."
   ]
  },
  {
   "cell_type": "markdown",
   "metadata": {},
   "source": [
    "### Part A"
   ]
  },
  {
   "cell_type": "markdown",
   "metadata": {},
   "source": [
    "The dealers expected profit trading with an uniformed trader, and informed trader:\n",
    "$$\\begin{align}\n",
    "p_u &= \\frac{a - b}{2} \\\\\n",
    "p_i &= (1-\\rho)\\frac{a - b}{2} + \\rho(v^H - a)\\\\\n",
    "p &= \\pi p_i + (1-\\pi) p_u \\\\\n",
    "&= \\pi(1-\\rho)\\frac{a-b}{2} + \\pi\\rho(v^H - a) + (1-\\pi)\\frac{a-b}{2} \\\\\n",
    "&= (1 - \\pi + \\pi(1-\\rho))\\frac{a-b}{2}+ \\pi\\rho(v^H - a) \\\\\n",
    "&= (1 - \\pi\\rho)\\frac{a-b}{2}+ \\pi\\rho(v^H - a) \n",
    "\\end{align}$$\n"
   ]
  },
  {
   "cell_type": "markdown",
   "metadata": {},
   "source": [
    "### Part B"
   ]
  },
  {
   "cell_type": "markdown",
   "metadata": {},
   "source": [
    "$$\\begin{align}\n",
    "0 &= (1 - \\pi\\rho)(a-\\mu)+ \\pi\\rho(v^H - a) \\\\\n",
    "&= (1- \\pi\\rho)a - (1-\\pi\\rho)\\mu + \\pi\\rho v^H - \\pi\\rho a\\\\\n",
    "&= (1 - 2\\pi\\rho)a - (1-\\pi\\rho)\\mu + \\pi\\rho v^H \\\\\n",
    "a &= \\frac{(1-\\pi\\rho)\\mu - \\pi\\rho v^H}{1-2\\pi\\rho} \\\\\n",
    "&= \\frac{(1-\\pi\\rho)\\mu - \\pi\\rho (\\mu + \\frac{v^H - v^L}{2})}{1-2\\pi\\rho} \\\\\n",
    "&= \\frac{(1-\\pi\\rho)\\mu - \\pi\\rho\\mu + \\pi\\rho(\\frac{v^H - v^L}{2})}{1-2\\pi\\rho} \\\\\n",
    "&= \\mu + \\frac{\\pi\\rho(\\frac{v^H - v^L}{2})}{1-2\\pi\\rho} \\\\\n",
    "b &= \\mu - \\frac{\\pi\\rho(\\frac{v^H - v^L}{2})}{1-2\\pi\\rho} \\\\\n",
    "\\end{align}$$"
   ]
  },
  {
   "cell_type": "markdown",
   "metadata": {},
   "source": [
    "### Part C"
   ]
  },
  {
   "cell_type": "markdown",
   "metadata": {},
   "source": [
    "\\begin{align}\n",
    "S &= 2\\frac{\\pi\\rho(\\frac{v^H - v^L}{2})}{1-2\\pi\\rho}\\\\\n",
    "&= \\frac{\\pi\\rho(v^H - v^L)}{1-2\\pi\\rho} \\\\\n",
    "\\frac{\\partial S}{\\partial \\rho} &= \\frac{(1-2\\pi\\rho)(\\pi(v^H - v^L)) - (\\pi\\rho(v^H - v^L))(1-2\\pi)}{(1-2\\pi\\rho)^2}\\\\\n",
    "&= \\frac{\\pi(1-\\rho)(v^H - v^L)}{(1-2\\pi\\rho)^2}\n",
    "\\end{align}\n"
   ]
  },
  {
   "cell_type": "markdown",
   "metadata": {},
   "source": [
    "### Part D"
   ]
  },
  {
   "cell_type": "markdown",
   "metadata": {},
   "source": [
    "The expected profit of the trader is\n",
    "\\begin{align}\n",
    "p &= \\rho(\\frac{v^H - v^L}{2} - \\frac{a - b}{2}) - (1-\\rho)(\\frac{a-b}{2})\\\\\n",
    "&= \\rho\\frac{v^H - v^L}{2} - \\rho\\frac{a - b}{2} - \\frac{a-b}{2} + \\rho\\frac{a-b}{2} \\\\\n",
    "&= \\rho\\frac{v^H - v^L}{2} - \\frac{a-b}{2}\\\\\n",
    "0 &\\leq \\rho\\frac{v^H - v^L}{2} - \\frac{a-b}{2} \\\\\n",
    "a-b & \\leq \\rho(v^H - v^L)\n",
    "\\end{align}\n",
    "The strategy makes a profit if $\\rho$ times the difference between the high and low values is greater than the spread.\n"
   ]
  },
  {
   "cell_type": "markdown",
   "metadata": {},
   "source": [
    "## Question 4"
   ]
  },
  {
   "cell_type": "markdown",
   "metadata": {},
   "source": [
    "### Part A"
   ]
  },
  {
   "cell_type": "markdown",
   "metadata": {},
   "source": [
    "In this market a there is a $(1-\\pi) + \\phi\\pi$ chance that a participant will traded. The profit made of noise traders is $\\frac{a-b}{2}$ and the loss incurred from informed traders is $\\frac{v^H - v^L}{2} - \\frac{a-b}{2}$. This yields a total profit by market makers of:\n",
    "$$p = (1-\\pi)\\frac{a-b}{2} - \\phi\\pi(\\frac{v^H - v^L}{2} - \\frac{a-b}{2})$$\n",
    "In a perfectly competitive market, this equals 0, giving:\n",
    "\\begin{align}\n",
    "0 &= (1-\\pi)\\frac{a-b}{2} - \\phi\\pi(\\frac{v^H - v^L}{2} - \\frac{a-b}{2}) \\\\\n",
    "&= (1-\\pi)(a - \\mu) - \\phi\\pi(\\frac{v^H - v^L}{2} - a + \\mu) \\\\\n",
    "&= (1-\\pi)a - (1-\\pi)\\mu - \\phi\\pi\\frac{v^H - v^L}{2} - \\phi\\pi a  + \\phi\\pi\\mu\\\\\n",
    "&= (1-\\pi- \\phi\\pi)a - (1-\\pi-\\phi\\pi)\\mu - \\phi\\pi\\frac{v^H - v^L}{2}\\\\\n",
    "(1-\\pi- \\phi\\pi)a &= (1-\\pi-\\phi\\pi)\\mu + \\phi\\pi\\frac{v^H - v^L}{2} \\\\\n",
    "a &= \\frac{(1-\\pi-\\phi\\pi)\\mu + \\phi\\pi\\frac{v^H - v^L}{2}}{1-\\pi- \\phi\\pi} \\\\\n",
    "&= \\mu + \\frac{\\phi\\pi\\frac{v^H - v^L}{2}}{1-\\pi- \\phi\\pi} \\\\\n",
    "b &= \\mu - \\frac{\\phi\\pi\\frac{v^H - v^L}{2}}{1-\\pi- \\phi\\pi}\n",
    "\\end{align}"
   ]
  },
  {
   "cell_type": "markdown",
   "metadata": {},
   "source": [
    "### Part B"
   ]
  },
  {
   "cell_type": "markdown",
   "metadata": {},
   "source": [
    "\\begin{align}\n",
    "p &= \\frac{v^H - v^L}{2} - \\frac{\\phi\\pi\\frac{v^H - v^L}{2}}{1-\\pi- \\phi\\pi} - c\\\\\n",
    "&= \\left(1 - \\frac{\\phi\\pi}{1-\\pi- \\phi\\pi}\\right)\\frac{v^H - v^L}{2} - c\n",
    "\\end{align}"
   ]
  },
  {
   "cell_type": "markdown",
   "metadata": {},
   "source": [
    "### Part C"
   ]
  },
  {
   "cell_type": "markdown",
   "metadata": {},
   "source": [
    "\\begin{align}\n",
    "\\phi &= 0 \\\\\n",
    "0 &\\leq \\left(1 - \\frac{0}{1-\\pi- 0}\\right)\\frac{v^H - v^L}{2} - c \\\\\n",
    "c &\\leq \\frac{v^H - v^L}{2}\n",
    "\\end{align}"
   ]
  },
  {
   "cell_type": "markdown",
   "metadata": {},
   "source": [
    "### Part D"
   ]
  },
  {
   "cell_type": "markdown",
   "metadata": {},
   "source": [
    "\\begin{align}\n",
    "\\phi &= 1 \\\\\n",
    "0 &\\leq \\left(1 - \\frac{\\pi}{1-\\pi- \\pi}\\right)\\frac{v^H - v^L}{2} - c \\\\\n",
    "c &\\leq \\left(1 - \\frac{\\pi}{1-2\\pi}\\right)\\frac{v^H - v^L}{2}\n",
    "\\end{align}"
   ]
  },
  {
   "cell_type": "markdown",
   "metadata": {},
   "source": [
    "### Part E"
   ]
  },
  {
   "cell_type": "markdown",
   "metadata": {},
   "source": [
    "The traders will be indifferent about trading when the expected profit is zero. I.e.\n",
    "$$ c = \\left(1 - \\frac{\\phi\\pi}{1-\\pi- \\phi\\pi}\\right)\\frac{v^H - v^L}{2} $$\n",
    "It obviously depends quite significantly on the $\\pi$, the assumed proportion of informed traders, and the potential profit, $\\frac{v^H - v^L}{2}$. Determing $\\phi$ based on $c$:\n",
    "\\begin{align}\n",
    "c &= \\left(1 - \\frac{\\phi\\pi}{1-\\pi- \\phi\\pi}\\right)\\frac{v^H - v^L}{2}\\\\\n",
    "&= \\frac{v^H - v^L}{2} - \\frac{\\phi\\pi}{1-\\pi- \\phi\\pi}\\frac{v^H - v^L}{2} \\\\\n",
    "(1-\\pi- \\phi\\pi) c &= (1-\\pi- \\phi\\pi)\\frac{v^H - v^L}{2} - \\phi\\pi\\frac{v^H - v^L}{2}\\\\\n",
    "(1-\\pi)c - (1-\\pi)\\frac{v^H - v^L}{2} &= \\pi\\phi c - 2\\pi\\phi\\frac{v^H - v^L}{2}\\\\\n",
    "\\phi &= \\frac{(1-\\pi)c - (1-\\pi)\\frac{v^H - v^L}{2}}{\\pi c - 2\\pi\\frac{v^H - v^L}{2}}\n",
    "\\end{align}"
   ]
  },
  {
   "cell_type": "markdown",
   "metadata": {},
   "source": [
    "### Part F"
   ]
  },
  {
   "cell_type": "code",
   "execution_count": 24,
   "metadata": {},
   "outputs": [
    {
     "name": "stdout",
     "output_type": "stream",
     "text": [
      "c, Bid,   Ask,    Profit\n",
      "0.000, 10.00, 20.00,  0.00\n",
      "0.100, 10.10, 19.90,  0.00\n",
      "0.200, 10.20, 19.80,  0.00\n",
      "0.300, 10.30, 19.70, -0.00\n",
      "0.400, 10.40, 19.60, -0.00\n",
      "0.500, 10.50, 19.50,  0.00\n",
      "0.600, 10.60, 19.40,  0.00\n",
      "0.700, 10.70, 19.30, -0.00\n",
      "0.800, 10.80, 19.20, -0.00\n",
      "0.900, 10.90, 19.10, -0.00\n"
     ]
    },
    {
     "data": {
      "image/png": "[encoded data removed]",
      "text/plain": [
       "<Figure size 432x288 with 1 Axes>"
      ]
     },
     "metadata": {
      "needs_background": "light"
     },
     "output_type": "display_data"
    }
   ],
   "source": [
    "pi = 0.9\n",
    "v_H = 20\n",
    "v_L = 10\n",
    "\n",
    "phi_f      = lambda c : ((1 - pi) * c - (1 - pi) * ((v_H - v_L) / 2)) / (pi * c - 2 * pi * ((v_H - v_L) / 2))\n",
    "h_spread_f = lambda c : (phi_f(c) * pi * ((v_H - v_L) / 2)) / (1 - pi - phi_f(c) * pi)\n",
    "ask_f      = lambda c : (v_H + v_L) / 2 + h_spread_f(c)\n",
    "bid_f      = lambda c : (v_H + v_L) / 2 - h_spread_f(c)\n",
    "profit_f   = lambda c : (v_H - v_L) / 2 - h_spread_f(c) - c\n",
    "\n",
    "n_p    = 10\n",
    "c      = [x / n_p for x in range(n_p)]\n",
    "ask    = [ask_f(x) for x in c]\n",
    "bid    = [bid_f(x) for x in c]\n",
    "profit = [profit_f(x) for x in c]\n",
    "\n",
    "import matplotlib.pyplot as ppt\n",
    "print(\"c, Bid,   Ask,    Profit\")\n",
    "for x, a, b, p in zip(c, ask, bid, profit):\n",
    "    print(f\"{x:3.3f}, {b:5.2f}, {a:5.2f}, {p:5.2f}\")\n",
    "ppt.plot(c, list(zip(ask, bid, profit)))\n",
    "ppt.legend([\"Ask\", \"Bid\", \"Profit\"])\n",
    "ppt.show()"
   ]
  },
  {
   "cell_type": "markdown",
   "metadata": {},
   "source": [
    "## Question 5"
   ]
  },
  {
   "cell_type": "markdown",
   "metadata": {},
   "source": [
    "## Part A"
   ]
  },
  {
   "cell_type": "markdown",
   "metadata": {},
   "source": [
    "\\begin{align}\n",
    "0 &= (1-\\pi)\\begin{cases} \\frac{a-b}{2} & \\frac{a-b}{2} \\leq \\delta \\\\ 0 \\end{cases} - \\pi \\left(\\frac{v^H - v^L}{2} - \\frac{a-b}{2}\\right) \\\\\n",
    "\\pi \\left(\\frac{v^H - v^L}{2} - a + \\mu\\right) &= (1-\\pi)\\begin{cases} a - \\mu & a - \\mu \\leq \\delta \\\\ 0 \\end{cases}\\\\\n",
    "\\pi \\left(\\frac{v^H - v^L}{2}\\right) - \\pi a + \\pi\\mu &= \\begin{cases} (1-\\pi)a - (1-\\pi)\\mu & a - \\mu \\leq \\delta \\\\ 0 \\end{cases}\\\\\n",
    "\\pi\\left(\\frac{v^H - v^L}{2}\\right) &= \\begin{cases} a - \\mu & a - \\mu \\leq \\delta \\\\ \\pi a - \\pi \\mu \\end{cases} \\\\\n",
    "\\pi\\left(\\frac{v^H - v^L}{2}\\right) &= (a - \\mu) * \\begin{cases} 1& a - \\mu \\leq \\delta \\\\ \\pi \\end{cases} \\\\\n",
    "\\pi\\left(\\frac{v^H - v^L}{2}\\right) &= a - \\mu - (a - \\mu) * \\begin{cases} 0& a - \\mu \\leq \\delta \\\\ 1-\\pi \\end{cases}  \\\\\n",
    "a &= \\mu +  \\pi\\left(\\frac{v^H - v^L}{2}\\right) + (a - \\mu) * \\begin{cases} 0& a - \\mu \\leq \\delta \\\\ 1-\\pi \\end{cases} \\\\\n",
    "b &= \\mu - \\pi\\left(\\frac{v^H - v^L}{2}\\right) - (b - \\mu) * \\begin{cases} 0& b - \\mu \\leq \\delta \\\\ 1-\\pi \\end{cases} \n",
    "\\end{align}"
   ]
  },
  {
   "cell_type": "markdown",
   "metadata": {},
   "source": [
    "### Part B"
   ]
  },
  {
   "cell_type": "code",
   "execution_count": 26,
   "metadata": {},
   "outputs": [
    {
     "data": {
      "image/png": "[encoded data removed]",
      "text/plain": [
       "<Figure size 432x288 with 1 Axes>"
      ]
     },
     "metadata": {
      "needs_background": "light"
     },
     "output_type": "display_data"
    }
   ],
   "source": [
    "v_H = 1\n",
    "v_L = 0\n",
    "mu  = 0.5\n",
    "delta = 0.1\n",
    "\n",
    "h_spread_f = lambda pi : pi * (v_H - v_L) / 2\n",
    "ask_f      = lambda pi: mu + h_spread_f(pi) + ((1 - pi) * h_spread_f(pi) if h_spread_f(pi) > delta else 0)\n",
    "bid_f      = lambda pi: mu - h_spread_f(pi) - ((1 - pi) * h_spread_f(pi) if h_spread_f(pi) > delta else 0)\n",
    "\n",
    "np   = 1000\n",
    "pi_l = [x / np for x in range(np)]\n",
    "ask  = [ask_f(x) for x in pi_l]\n",
    "bid  = [bid_f(x) for x in pi_l]\n",
    "\n",
    "ppt.plot(pi_l, list(zip(ask, bid)))\n",
    "ppt.legend([\"Ask\", \"Bid\"])\n",
    "ppt.show()"
   ]
  },
  {
   "cell_type": "markdown",
   "metadata": {},
   "source": [
    "## Question 6"
   ]
  },
  {
   "cell_type": "markdown",
   "metadata": {},
   "source": [
    "Expected profit from trading with a noise trader:\n",
    "$$p_u = \\frac{a - b}{2}$$\n",
    "Expected profit from trading with an informed trader:\n",
    "$$p_i = \\frac{a - b}{2} - \\begin{cases} 2a + 1 & v \\geq a \\\\ 0 & b < v < a  \\\\\\frac{b}{b + 2} & v \\leq b \\end{cases}$$\n",
    "Given perfectly competitive markets:\n",
    "\\begin{align}\n",
    "0 &= (1-\\pi)\\frac{a - b}{2} + \\pi \\left(\\frac{a - b}{2} - \\begin{cases} 2a + 1 & v \\geq a \\\\ 0 & b < v < a  \\\\\\frac{b}{b + 2} & v \\leq b \\end{cases}\\right)\\\\\n",
    "&= (1-\\pi)\\frac{a - b}{2} + \\pi\\frac{a - b}{2}  - \\pi\\begin{cases} 2a + 1 & v \\geq a \\\\ 0 & b < v < a  \\\\\\frac{b}{b + 2} & v \\leq b \\end{cases}\\\\\n",
    "&= \\frac{a-b}{2} - \\pi\\begin{cases} 2a + 1 & v \\geq a \\\\ 0 & b < v < a  \\\\\\frac{b}{b + 2} & v \\leq b \\end{cases}\\\\\n",
    "&= a - \\mu -  \\pi\\begin{cases} 2a + 1 & v \\geq a \\\\ 0 &  v < a  \\\\\\end{cases}\\\\\n",
    "a &= \\mu + \\pi\\begin{cases} 2a + 1 & v \\geq a \\\\ 0 &  v < a  \\\\\\end{cases}\\\\\n",
    "&= \\mu + F(a)\\pi(2a + 1) \\\\\n",
    "b &= \\mu - (1-F(b))\\pi\\frac{b}{b + 2}\n",
    "\\end{align}"
   ]
  },
  {
   "cell_type": "code",
   "execution_count": 64,
   "metadata": {},
   "outputs": [
    {
     "name": "stdout",
     "output_type": "stream",
     "text": [
      "Critical pi\n",
      "0.43782\n"
     ]
    }
   ],
   "source": [
    "F = lambda x : (1 - (1 / (x + 1) ** 2))\n",
    "\n",
    "\n",
    "\n",
    "\n",
    "def get_a(pi):\n",
    "    ask_f = lambda x : 1 + F(x) * pi * (2 * a + 1)\n",
    "    bid_f = lambda x : 1 - (1-F(x)) * pi * (x / (x + 1))\n",
    "    a = 1\n",
    "    e = 1e-20\n",
    "    l = 0.1\n",
    "\n",
    "    while abs(a-ask_f(a)) > e:\n",
    "        if a > ask_f(a):\n",
    "            a -= l\n",
    "        else:\n",
    "            a += l\n",
    "        l = l - l/100\n",
    "        if l < e:\n",
    "            return float(\"inf\")\n",
    "    return a\n",
    "\n",
    "def get_b(pi):\n",
    "    ask_f = lambda x : 1 + F(x) * pi * (2 * a + 1)\n",
    "    bid_f = lambda x : 1 - (1-F(x)) * pi * (x / (x + 1))\n",
    "    b = 1\n",
    "    e = 1e-20\n",
    "    l = 0.1\n",
    "\n",
    "    while abs(b-bid_f(b)) > e:\n",
    "        if b > bid_f(b):\n",
    "            b -= l\n",
    "        else:\n",
    "            b += l\n",
    "        l = l - l/100\n",
    "        if l < e:\n",
    "            return float(\"-inf\")\n",
    "    return b\n",
    "np = 100_000\n",
    "prev = 1\n",
    "print(\"Critical pi\")\n",
    "for x in range(int(np * 0.434), np):\n",
    "    curr = get_a(x/np)\n",
    "    if curr == float(\"inf\"):\n",
    "        print(prev)\n",
    "        break\n",
    "    prev = x/np\n",
    "    # print(f\"{x/np:5.3f}, {get_a(x/np):5.3f}, {get_b(x/np):5.3f}\")\n",
    "\n"
   ]
  },
  {
   "cell_type": "markdown",
   "metadata": {},
   "source": [
    "## Question 7"
   ]
  },
  {
   "cell_type": "markdown",
   "metadata": {},
   "source": [
    "The price pressure of inventory holdings scales with the illiquidity of the holdings. Thus small cap, illiquid stocks produce greater price pressure than large cap, liquid stocks."
   ]
  },
  {
   "cell_type": "markdown",
   "metadata": {},
   "source": [
    "## Question 8"
   ]
  },
  {
   "cell_type": "markdown",
   "metadata": {},
   "source": [
    "### Part B"
   ]
  },
  {
   "cell_type": "markdown",
   "metadata": {},
   "source": [
    "\\begin{align}\n",
    "p &= \\kappa_l (1-\\pi) \\frac{a-b}{2} - \\kappa_i\\pi (0.5 - \\frac{a-b}{2}) \\\\\n",
    "0 &= \\kappa_l (1-\\pi) (a - 0.5) - \\kappa_i\\pi (0.5 - a + 0.5) \\\\\n",
    "&= \\kappa_l (1-\\pi)a - \\kappa_l (1-\\pi) * 0.5 - \\kappa_i\\pi + \\kappa_i\\pi a \\\\\n",
    "&= (\\kappa_l (1-\\pi) + \\kappa_i\\pi) a  - \\kappa_l (1-\\pi) * 0.5 - \\kappa_i \\pi\\\\\n",
    "a &= \\frac{\\kappa_l (1-\\pi) * 0.5 + \\kappa_i \\pi}{\\kappa_l (1-\\pi) + \\kappa_i\\pi} \\\\\n",
    "&= \\frac{\\kappa (1-\\pi) * 0.5 + \\kappa \\pi}{\\kappa (1-\\pi) + \\kappa\\pi}\\\\\n",
    "&= (1-\\pi) * 0.5 +  \\pi \\\\\n",
    "&= \\mu + \\pi \\frac{v^H - v^L}{2}\\\\\n",
    "b &= \\mu - \\pi \\frac{v^H - v^L}{2}\n",
    "\\end{align}\n",
    "If $k_i$ increases then the spread decreases, else it increases. This makes sense as fewer informed traders lead to a narrow spread. "
   ]
  },
  {
   "cell_type": "markdown",
   "metadata": {},
   "source": [
    "## Question 12"
   ]
  },
  {
   "cell_type": "code",
   "execution_count": 1,
   "metadata": {},
   "outputs": [
    {
     "data": {
      "text/html": [
       "<div>\n",
       "<style scoped>\n",
       "    .dataframe tbody tr th:only-of-type {\n",
       "        vertical-align: middle;\n",
       "    }\n",
       "\n",
       "    .dataframe tbody tr th {\n",
       "        vertical-align: top;\n",
       "    }\n",
       "\n",
       "    .dataframe thead th {\n",
       "        text-align: right;\n",
       "    }\n",
       "</style>\n",
       "<table border=\"1\" class=\"dataframe\">\n",
       "  <thead>\n",
       "    <tr style=\"text-align: right;\">\n",
       "      <th></th>\n",
       "      <th>ticker</th>\n",
       "      <th>pb</th>\n",
       "      <th>pa</th>\n",
       "      <th>p</th>\n",
       "      <th>vo</th>\n",
       "      <th>vp</th>\n",
       "      <th>ibnosh</th>\n",
       "      <th>gics</th>\n",
       "      <th>bas100</th>\n",
       "      <th>ami100</th>\n",
       "      <th>mktcap</th>\n",
       "      <th>ret</th>\n",
       "      <th>vola</th>\n",
       "    </tr>\n",
       "  </thead>\n",
       "  <tbody>\n",
       "    <tr>\n",
       "      <th>0</th>\n",
       "      <td>AACC</td>\n",
       "      <td>6.376667</td>\n",
       "      <td>6.400000</td>\n",
       "      <td>6.393333</td>\n",
       "      <td>60.100000</td>\n",
       "      <td>3.831219e+02</td>\n",
       "      <td>30.573</td>\n",
       "      <td>40</td>\n",
       "      <td>0.368915</td>\n",
       "      <td>0.138675</td>\n",
       "      <td>195.463378</td>\n",
       "      <td>0.012650</td>\n",
       "      <td>0.058134</td>\n",
       "    </tr>\n",
       "    <tr>\n",
       "      <th>1</th>\n",
       "      <td>AAME</td>\n",
       "      <td>0.500333</td>\n",
       "      <td>0.644567</td>\n",
       "      <td>0.576556</td>\n",
       "      <td>5.333333</td>\n",
       "      <td>2.940111e+00</td>\n",
       "      <td>21.903</td>\n",
       "      <td>40</td>\n",
       "      <td>24.404827</td>\n",
       "      <td>2.314466</td>\n",
       "      <td>12.628297</td>\n",
       "      <td>0.038419</td>\n",
       "      <td>0.223454</td>\n",
       "    </tr>\n",
       "    <tr>\n",
       "      <th>2</th>\n",
       "      <td>AAPL</td>\n",
       "      <td>116.898750</td>\n",
       "      <td>116.975000</td>\n",
       "      <td>116.970000</td>\n",
       "      <td>18880.875000</td>\n",
       "      <td>2.199989e+06</td>\n",
       "      <td>890.554</td>\n",
       "      <td>20</td>\n",
       "      <td>0.065185</td>\n",
       "      <td>0.000100</td>\n",
       "      <td>104168.087500</td>\n",
       "      <td>0.007268</td>\n",
       "      <td>0.028199</td>\n",
       "    </tr>\n",
       "    <tr>\n",
       "      <th>3</th>\n",
       "      <td>AATI</td>\n",
       "      <td>4.091111</td>\n",
       "      <td>4.111111</td>\n",
       "      <td>4.108889</td>\n",
       "      <td>263.977778</td>\n",
       "      <td>1.105406e+03</td>\n",
       "      <td>42.891</td>\n",
       "      <td>20</td>\n",
       "      <td>0.491540</td>\n",
       "      <td>0.017150</td>\n",
       "      <td>176.234344</td>\n",
       "      <td>0.022492</td>\n",
       "      <td>0.036442</td>\n",
       "    </tr>\n",
       "    <tr>\n",
       "      <th>4</th>\n",
       "      <td>AAWW</td>\n",
       "      <td>20.101111</td>\n",
       "      <td>20.142222</td>\n",
       "      <td>20.133333</td>\n",
       "      <td>282.211111</td>\n",
       "      <td>5.661318e+03</td>\n",
       "      <td>21.062</td>\n",
       "      <td>20</td>\n",
       "      <td>0.203990</td>\n",
       "      <td>0.020136</td>\n",
       "      <td>424.048278</td>\n",
       "      <td>0.022644</td>\n",
       "      <td>0.062385</td>\n",
       "    </tr>\n",
       "  </tbody>\n",
       "</table>\n",
       "</div>"
      ],
      "text/plain": [
       "  ticker          pb          pa           p            vo            vp  \\\n",
       "0   AACC    6.376667    6.400000    6.393333     60.100000  3.831219e+02   \n",
       "1   AAME    0.500333    0.644567    0.576556      5.333333  2.940111e+00   \n",
       "2   AAPL  116.898750  116.975000  116.970000  18880.875000  2.199989e+06   \n",
       "3   AATI    4.091111    4.111111    4.108889    263.977778  1.105406e+03   \n",
       "4   AAWW   20.101111   20.142222   20.133333    282.211111  5.661318e+03   \n",
       "\n",
       "    ibnosh  gics     bas100    ami100         mktcap       ret      vola  \n",
       "0   30.573    40   0.368915  0.138675     195.463378  0.012650  0.058134  \n",
       "1   21.903    40  24.404827  2.314466      12.628297  0.038419  0.223454  \n",
       "2  890.554    20   0.065185  0.000100  104168.087500  0.007268  0.028199  \n",
       "3   42.891    20   0.491540  0.017150     176.234344  0.022492  0.036442  \n",
       "4   21.062    20   0.203990  0.020136     424.048278  0.022644  0.062385  "
      ]
     },
     "execution_count": 1,
     "metadata": {},
     "output_type": "execute_result"
    }
   ],
   "source": [
    "import pandas as pd\n",
    "import numpy as np\n",
    "data = pd.read_excel(\"Ch3_ex12_data.xls\")\n",
    "data.head()"
   ]
  },
  {
   "cell_type": "markdown",
   "metadata": {},
   "source": [
    "### Part A"
   ]
  },
  {
   "cell_type": "code",
   "execution_count": 11,
   "metadata": {},
   "outputs": [
    {
     "name": "stdout",
     "output_type": "stream",
     "text": [
      "+1.0000 +0.4999 +0.3718 +0.1170 -0.0641 -0.2537 \n",
      "+0.4999 +1.0000 +0.8923 -0.0150 -0.0138 -0.0815 \n",
      "+0.3718 +0.8923 +1.0000 -0.0202 -0.0275 -0.0966 \n",
      "+0.1170 -0.0150 -0.0202 +1.0000 -0.0416 +0.0289 \n",
      "-0.0641 -0.0138 -0.0275 -0.0416 +1.0000 +0.3311 \n",
      "-0.2537 -0.0815 -0.0966 +0.0289 +0.3311 +1.0000 \n"
     ]
    }
   ],
   "source": [
    "data[\"spread\"] = data[\"pa\"] - data[\"pb\"]\n",
    "x = np.corrcoef(data[[\"p\", \"vp\", \"mktcap\", \"spread\", \"ret\", \"vola\"]], rowvar=False)\n",
    "for row in x:\n",
    "    for v in row:\n",
    "        print(f\"{v:+6.4f} \", end=\"\")\n",
    "    print()"
   ]
  },
  {
   "cell_type": "markdown",
   "metadata": {},
   "source": [
    "The most correlated values are market cap and trading volume. Be careful not to induce omitted variable bias."
   ]
  },
  {
   "cell_type": "markdown",
   "metadata": {},
   "source": [
    "### Part B"
   ]
  },
  {
   "cell_type": "code",
   "execution_count": 24,
   "metadata": {},
   "outputs": [],
   "source": [
    "data[\"turnover\"] = data[\"vo\"] / data[\"ibnosh\"]\n",
    "data[\"l_vola\"] = data[\"vola\"].apply(np.log)\n",
    "\n",
    "formulas = [\"spread ~ vola + \" for _ in range(6)]\n",
    "formulas[0] += \"mktcap\"\n",
    "formulas[1] += \"vp\"\n",
    "formulas[2] += \"np.log(mktcap)\"\n",
    "formulas[3] += \"l_vola\"\n",
    "formulas[4] += \"turnover\"\n",
    "formulas[5] += \"turnover + np.log(p)\"\n",
    "\n",
    "import statsmodels.formula.api as sm"
   ]
  },
  {
   "cell_type": "code",
   "execution_count": 25,
   "metadata": {},
   "outputs": [
    {
     "data": {
      "text/html": [
       "<table class=\"simpletable\">\n",
       "<caption>OLS Regression Results</caption>\n",
       "<tr>\n",
       "  <th>Dep. Variable:</th>         <td>spread</td>      <th>  R-squared:         </th> <td>   0.001</td>\n",
       "</tr>\n",
       "<tr>\n",
       "  <th>Model:</th>                   <td>OLS</td>       <th>  Adj. R-squared:    </th> <td>  -0.000</td>\n",
       "</tr>\n",
       "<tr>\n",
       "  <th>Method:</th>             <td>Least Squares</td>  <th>  F-statistic:       </th> <td>  0.8616</td>\n",
       "</tr>\n",
       "<tr>\n",
       "  <th>Date:</th>             <td>Mon, 13 Apr 2020</td> <th>  Prob (F-statistic):</th>  <td> 0.423</td> \n",
       "</tr>\n",
       "<tr>\n",
       "  <th>Time:</th>                 <td>14:14:32</td>     <th>  Log-Likelihood:    </th> <td>  527.13</td>\n",
       "</tr>\n",
       "<tr>\n",
       "  <th>No. Observations:</th>      <td>  1514</td>      <th>  AIC:               </th> <td>  -1048.</td>\n",
       "</tr>\n",
       "<tr>\n",
       "  <th>Df Residuals:</th>          <td>  1511</td>      <th>  BIC:               </th> <td>  -1032.</td>\n",
       "</tr>\n",
       "<tr>\n",
       "  <th>Df Model:</th>              <td>     2</td>      <th>                     </th>     <td> </td>   \n",
       "</tr>\n",
       "<tr>\n",
       "  <th>Covariance Type:</th>      <td>nonrobust</td>    <th>                     </th>     <td> </td>   \n",
       "</tr>\n",
       "</table>\n",
       "<table class=\"simpletable\">\n",
       "<tr>\n",
       "      <td></td>         <th>coef</th>     <th>std err</th>      <th>t</th>      <th>P>|t|</th>  <th>[0.025</th>    <th>0.975]</th>  \n",
       "</tr>\n",
       "<tr>\n",
       "  <th>Intercept</th> <td>    0.0707</td> <td>    0.009</td> <td>    8.262</td> <td> 0.000</td> <td>    0.054</td> <td>    0.088</td>\n",
       "</tr>\n",
       "<tr>\n",
       "  <th>vola</th>      <td>    0.1540</td> <td>    0.146</td> <td>    1.053</td> <td> 0.293</td> <td>   -0.133</td> <td>    0.441</td>\n",
       "</tr>\n",
       "<tr>\n",
       "  <th>mktcap</th>    <td>-3.882e-07</td> <td> 5.72e-07</td> <td>   -0.679</td> <td> 0.497</td> <td>-1.51e-06</td> <td> 7.33e-07</td>\n",
       "</tr>\n",
       "</table>\n",
       "<table class=\"simpletable\">\n",
       "<tr>\n",
       "  <th>Omnibus:</th>       <td>1906.659</td> <th>  Durbin-Watson:     </th>  <td>   1.960</td> \n",
       "</tr>\n",
       "<tr>\n",
       "  <th>Prob(Omnibus):</th>  <td> 0.000</td>  <th>  Jarque-Bera (JB):  </th> <td>241272.541</td>\n",
       "</tr>\n",
       "<tr>\n",
       "  <th>Skew:</th>           <td> 6.759</td>  <th>  Prob(JB):          </th>  <td>    0.00</td> \n",
       "</tr>\n",
       "<tr>\n",
       "  <th>Kurtosis:</th>       <td>63.348</td>  <th>  Cond. No.          </th>  <td>2.61e+05</td> \n",
       "</tr>\n",
       "</table><br/><br/>Warnings:<br/>[1] Standard Errors assume that the covariance matrix of the errors is correctly specified.<br/>[2] The condition number is large, 2.61e+05. This might indicate that there are<br/>strong multicollinearity or other numerical problems."
      ],
      "text/plain": [
       "<class 'statsmodels.iolib.summary.Summary'>\n",
       "\"\"\"\n",
       "                            OLS Regression Results                            \n",
       "==============================================================================\n",
       "Dep. Variable:                 spread   R-squared:                       0.001\n",
       "Model:                            OLS   Adj. R-squared:                 -0.000\n",
       "Method:                 Least Squares   F-statistic:                    0.8616\n",
       "Date:                Mon, 13 Apr 2020   Prob (F-statistic):              0.423\n",
       "Time:                        14:14:32   Log-Likelihood:                 527.13\n",
       "No. Observations:                1514   AIC:                            -1048.\n",
       "Df Residuals:                    1511   BIC:                            -1032.\n",
       "Df Model:                           2                                         \n",
       "Covariance Type:            nonrobust                                         \n",
       "==============================================================================\n",
       "                 coef    std err          t      P>|t|      [0.025      0.975]\n",
       "------------------------------------------------------------------------------\n",
       "Intercept      0.0707      0.009      8.262      0.000       0.054       0.088\n",
       "vola           0.1540      0.146      1.053      0.293      -0.133       0.441\n",
       "mktcap     -3.882e-07   5.72e-07     -0.679      0.497   -1.51e-06    7.33e-07\n",
       "==============================================================================\n",
       "Omnibus:                     1906.659   Durbin-Watson:                   1.960\n",
       "Prob(Omnibus):                  0.000   Jarque-Bera (JB):           241272.541\n",
       "Skew:                           6.759   Prob(JB):                         0.00\n",
       "Kurtosis:                      63.348   Cond. No.                     2.61e+05\n",
       "==============================================================================\n",
       "\n",
       "Warnings:\n",
       "[1] Standard Errors assume that the covariance matrix of the errors is correctly specified.\n",
       "[2] The condition number is large, 2.61e+05. This might indicate that there are\n",
       "strong multicollinearity or other numerical problems.\n",
       "\"\"\""
      ]
     },
     "execution_count": 25,
     "metadata": {},
     "output_type": "execute_result"
    }
   ],
   "source": [
    "sm.ols(formulas[0], data).fit().summary()"
   ]
  },
  {
   "cell_type": "code",
   "execution_count": 26,
   "metadata": {},
   "outputs": [
    {
     "data": {
      "text/html": [
       "<table class=\"simpletable\">\n",
       "<caption>OLS Regression Results</caption>\n",
       "<tr>\n",
       "  <th>Dep. Variable:</th>         <td>spread</td>      <th>  R-squared:         </th> <td>   0.001</td>\n",
       "</tr>\n",
       "<tr>\n",
       "  <th>Model:</th>                   <td>OLS</td>       <th>  Adj. R-squared:    </th> <td>  -0.000</td>\n",
       "</tr>\n",
       "<tr>\n",
       "  <th>Method:</th>             <td>Least Squares</td>  <th>  F-statistic:       </th> <td>  0.7522</td>\n",
       "</tr>\n",
       "<tr>\n",
       "  <th>Date:</th>             <td>Mon, 13 Apr 2020</td> <th>  Prob (F-statistic):</th>  <td> 0.472</td> \n",
       "</tr>\n",
       "<tr>\n",
       "  <th>Time:</th>                 <td>14:14:33</td>     <th>  Log-Likelihood:    </th> <td>  527.02</td>\n",
       "</tr>\n",
       "<tr>\n",
       "  <th>No. Observations:</th>      <td>  1514</td>      <th>  AIC:               </th> <td>  -1048.</td>\n",
       "</tr>\n",
       "<tr>\n",
       "  <th>Df Residuals:</th>          <td>  1511</td>      <th>  BIC:               </th> <td>  -1032.</td>\n",
       "</tr>\n",
       "<tr>\n",
       "  <th>Df Model:</th>              <td>     2</td>      <th>                     </th>     <td> </td>   \n",
       "</tr>\n",
       "<tr>\n",
       "  <th>Covariance Type:</th>      <td>nonrobust</td>    <th>                     </th>     <td> </td>   \n",
       "</tr>\n",
       "</table>\n",
       "<table class=\"simpletable\">\n",
       "<tr>\n",
       "      <td></td>         <th>coef</th>     <th>std err</th>      <th>t</th>      <th>P>|t|</th>  <th>[0.025</th>    <th>0.975]</th>  \n",
       "</tr>\n",
       "<tr>\n",
       "  <th>Intercept</th> <td>    0.0705</td> <td>    0.009</td> <td>    8.234</td> <td> 0.000</td> <td>    0.054</td> <td>    0.087</td>\n",
       "</tr>\n",
       "<tr>\n",
       "  <th>vola</th>      <td>    0.1578</td> <td>    0.146</td> <td>    1.079</td> <td> 0.281</td> <td>   -0.129</td> <td>    0.444</td>\n",
       "</tr>\n",
       "<tr>\n",
       "  <th>vp</th>        <td>-2.288e-08</td> <td> 4.65e-08</td> <td>   -0.492</td> <td> 0.622</td> <td>-1.14e-07</td> <td> 6.82e-08</td>\n",
       "</tr>\n",
       "</table>\n",
       "<table class=\"simpletable\">\n",
       "<tr>\n",
       "  <th>Omnibus:</th>       <td>1906.601</td> <th>  Durbin-Watson:     </th>  <td>   1.960</td> \n",
       "</tr>\n",
       "<tr>\n",
       "  <th>Prob(Omnibus):</th>  <td> 0.000</td>  <th>  Jarque-Bera (JB):  </th> <td>241216.870</td>\n",
       "</tr>\n",
       "<tr>\n",
       "  <th>Skew:</th>           <td> 6.759</td>  <th>  Prob(JB):          </th>  <td>    0.00</td> \n",
       "</tr>\n",
       "<tr>\n",
       "  <th>Kurtosis:</th>       <td>63.341</td>  <th>  Cond. No.          </th>  <td>3.21e+06</td> \n",
       "</tr>\n",
       "</table><br/><br/>Warnings:<br/>[1] Standard Errors assume that the covariance matrix of the errors is correctly specified.<br/>[2] The condition number is large, 3.21e+06. This might indicate that there are<br/>strong multicollinearity or other numerical problems."
      ],
      "text/plain": [
       "<class 'statsmodels.iolib.summary.Summary'>\n",
       "\"\"\"\n",
       "                            OLS Regression Results                            \n",
       "==============================================================================\n",
       "Dep. Variable:                 spread   R-squared:                       0.001\n",
       "Model:                            OLS   Adj. R-squared:                 -0.000\n",
       "Method:                 Least Squares   F-statistic:                    0.7522\n",
       "Date:                Mon, 13 Apr 2020   Prob (F-statistic):              0.472\n",
       "Time:                        14:14:33   Log-Likelihood:                 527.02\n",
       "No. Observations:                1514   AIC:                            -1048.\n",
       "Df Residuals:                    1511   BIC:                            -1032.\n",
       "Df Model:                           2                                         \n",
       "Covariance Type:            nonrobust                                         \n",
       "==============================================================================\n",
       "                 coef    std err          t      P>|t|      [0.025      0.975]\n",
       "------------------------------------------------------------------------------\n",
       "Intercept      0.0705      0.009      8.234      0.000       0.054       0.087\n",
       "vola           0.1578      0.146      1.079      0.281      -0.129       0.444\n",
       "vp         -2.288e-08   4.65e-08     -0.492      0.622   -1.14e-07    6.82e-08\n",
       "==============================================================================\n",
       "Omnibus:                     1906.601   Durbin-Watson:                   1.960\n",
       "Prob(Omnibus):                  0.000   Jarque-Bera (JB):           241216.870\n",
       "Skew:                           6.759   Prob(JB):                         0.00\n",
       "Kurtosis:                      63.341   Cond. No.                     3.21e+06\n",
       "==============================================================================\n",
       "\n",
       "Warnings:\n",
       "[1] Standard Errors assume that the covariance matrix of the errors is correctly specified.\n",
       "[2] The condition number is large, 3.21e+06. This might indicate that there are\n",
       "strong multicollinearity or other numerical problems.\n",
       "\"\"\""
      ]
     },
     "execution_count": 26,
     "metadata": {},
     "output_type": "execute_result"
    }
   ],
   "source": [
    "sm.ols(formulas[1], data).fit().summary()"
   ]
  },
  {
   "cell_type": "code",
   "execution_count": 27,
   "metadata": {},
   "outputs": [
    {
     "data": {
      "text/html": [
       "<table class=\"simpletable\">\n",
       "<caption>OLS Regression Results</caption>\n",
       "<tr>\n",
       "  <th>Dep. Variable:</th>         <td>spread</td>      <th>  R-squared:         </th> <td>   0.037</td>\n",
       "</tr>\n",
       "<tr>\n",
       "  <th>Model:</th>                   <td>OLS</td>       <th>  Adj. R-squared:    </th> <td>   0.036</td>\n",
       "</tr>\n",
       "<tr>\n",
       "  <th>Method:</th>             <td>Least Squares</td>  <th>  F-statistic:       </th> <td>   29.35</td>\n",
       "</tr>\n",
       "<tr>\n",
       "  <th>Date:</th>             <td>Mon, 13 Apr 2020</td> <th>  Prob (F-statistic):</th> <td>3.13e-13</td>\n",
       "</tr>\n",
       "<tr>\n",
       "  <th>Time:</th>                 <td>14:14:33</td>     <th>  Log-Likelihood:    </th> <td>  555.11</td>\n",
       "</tr>\n",
       "<tr>\n",
       "  <th>No. Observations:</th>      <td>  1514</td>      <th>  AIC:               </th> <td>  -1104.</td>\n",
       "</tr>\n",
       "<tr>\n",
       "  <th>Df Residuals:</th>          <td>  1511</td>      <th>  BIC:               </th> <td>  -1088.</td>\n",
       "</tr>\n",
       "<tr>\n",
       "  <th>Df Model:</th>              <td>     2</td>      <th>                     </th>     <td> </td>   \n",
       "</tr>\n",
       "<tr>\n",
       "  <th>Covariance Type:</th>      <td>nonrobust</td>    <th>                     </th>     <td> </td>   \n",
       "</tr>\n",
       "</table>\n",
       "<table class=\"simpletable\">\n",
       "<tr>\n",
       "         <td></td>           <th>coef</th>     <th>std err</th>      <th>t</th>      <th>P>|t|</th>  <th>[0.025</th>    <th>0.975]</th>  \n",
       "</tr>\n",
       "<tr>\n",
       "  <th>Intercept</th>      <td>    0.1972</td> <td>    0.019</td> <td>   10.516</td> <td> 0.000</td> <td>    0.160</td> <td>    0.234</td>\n",
       "</tr>\n",
       "<tr>\n",
       "  <th>vola</th>           <td>   -0.2471</td> <td>    0.153</td> <td>   -1.616</td> <td> 0.106</td> <td>   -0.547</td> <td>    0.053</td>\n",
       "</tr>\n",
       "<tr>\n",
       "  <th>np.log(mktcap)</th> <td>   -0.0206</td> <td>    0.003</td> <td>   -7.575</td> <td> 0.000</td> <td>   -0.026</td> <td>   -0.015</td>\n",
       "</tr>\n",
       "</table>\n",
       "<table class=\"simpletable\">\n",
       "<tr>\n",
       "  <th>Omnibus:</th>       <td>1911.255</td> <th>  Durbin-Watson:     </th>  <td>   1.948</td> \n",
       "</tr>\n",
       "<tr>\n",
       "  <th>Prob(Omnibus):</th>  <td> 0.000</td>  <th>  Jarque-Bera (JB):  </th> <td>248788.377</td>\n",
       "</tr>\n",
       "<tr>\n",
       "  <th>Skew:</th>           <td> 6.776</td>  <th>  Prob(JB):          </th>  <td>    0.00</td> \n",
       "</tr>\n",
       "<tr>\n",
       "  <th>Kurtosis:</th>       <td>64.320</td>  <th>  Cond. No.          </th>  <td>    197.</td> \n",
       "</tr>\n",
       "</table><br/><br/>Warnings:<br/>[1] Standard Errors assume that the covariance matrix of the errors is correctly specified."
      ],
      "text/plain": [
       "<class 'statsmodels.iolib.summary.Summary'>\n",
       "\"\"\"\n",
       "                            OLS Regression Results                            \n",
       "==============================================================================\n",
       "Dep. Variable:                 spread   R-squared:                       0.037\n",
       "Model:                            OLS   Adj. R-squared:                  0.036\n",
       "Method:                 Least Squares   F-statistic:                     29.35\n",
       "Date:                Mon, 13 Apr 2020   Prob (F-statistic):           3.13e-13\n",
       "Time:                        14:14:33   Log-Likelihood:                 555.11\n",
       "No. Observations:                1514   AIC:                            -1104.\n",
       "Df Residuals:                    1511   BIC:                            -1088.\n",
       "Df Model:                           2                                         \n",
       "Covariance Type:            nonrobust                                         \n",
       "==================================================================================\n",
       "                     coef    std err          t      P>|t|      [0.025      0.975]\n",
       "----------------------------------------------------------------------------------\n",
       "Intercept          0.1972      0.019     10.516      0.000       0.160       0.234\n",
       "vola              -0.2471      0.153     -1.616      0.106      -0.547       0.053\n",
       "np.log(mktcap)    -0.0206      0.003     -7.575      0.000      -0.026      -0.015\n",
       "==============================================================================\n",
       "Omnibus:                     1911.255   Durbin-Watson:                   1.948\n",
       "Prob(Omnibus):                  0.000   Jarque-Bera (JB):           248788.377\n",
       "Skew:                           6.776   Prob(JB):                         0.00\n",
       "Kurtosis:                      64.320   Cond. No.                         197.\n",
       "==============================================================================\n",
       "\n",
       "Warnings:\n",
       "[1] Standard Errors assume that the covariance matrix of the errors is correctly specified.\n",
       "\"\"\""
      ]
     },
     "execution_count": 27,
     "metadata": {},
     "output_type": "execute_result"
    }
   ],
   "source": [
    "sm.ols(formulas[2], data).fit().summary()"
   ]
  },
  {
   "cell_type": "code",
   "execution_count": 32,
   "metadata": {},
   "outputs": [
    {
     "data": {
      "text/html": [
       "<table class=\"simpletable\">\n",
       "<caption>OLS Regression Results</caption>\n",
       "<tr>\n",
       "  <th>Dep. Variable:</th>         <td>spread</td>      <th>  R-squared:         </th> <td>   0.015</td>\n",
       "</tr>\n",
       "<tr>\n",
       "  <th>Model:</th>                   <td>OLS</td>       <th>  Adj. R-squared:    </th> <td>   0.013</td>\n",
       "</tr>\n",
       "<tr>\n",
       "  <th>Method:</th>             <td>Least Squares</td>  <th>  F-statistic:       </th> <td>   11.17</td>\n",
       "</tr>\n",
       "<tr>\n",
       "  <th>Date:</th>             <td>Mon, 13 Apr 2020</td> <th>  Prob (F-statistic):</th> <td>1.53e-05</td>\n",
       "</tr>\n",
       "<tr>\n",
       "  <th>Time:</th>                 <td>14:16:46</td>     <th>  Log-Likelihood:    </th> <td>  536.03</td>\n",
       "</tr>\n",
       "<tr>\n",
       "  <th>No. Observations:</th>      <td>  1512</td>      <th>  AIC:               </th> <td>  -1066.</td>\n",
       "</tr>\n",
       "<tr>\n",
       "  <th>Df Residuals:</th>          <td>  1509</td>      <th>  BIC:               </th> <td>  -1050.</td>\n",
       "</tr>\n",
       "<tr>\n",
       "  <th>Df Model:</th>              <td>     2</td>      <th>                     </th>     <td> </td>   \n",
       "</tr>\n",
       "<tr>\n",
       "  <th>Covariance Type:</th>      <td>nonrobust</td>    <th>                     </th>     <td> </td>   \n",
       "</tr>\n",
       "</table>\n",
       "<table class=\"simpletable\">\n",
       "<tr>\n",
       "      <td></td>         <th>coef</th>     <th>std err</th>      <th>t</th>      <th>P>|t|</th>  <th>[0.025</th>    <th>0.975]</th>  \n",
       "</tr>\n",
       "<tr>\n",
       "  <th>Intercept</th> <td>   -0.2145</td> <td>    0.063</td> <td>   -3.428</td> <td> 0.001</td> <td>   -0.337</td> <td>   -0.092</td>\n",
       "</tr>\n",
       "<tr>\n",
       "  <th>vola</th>      <td>    1.3561</td> <td>    0.297</td> <td>    4.570</td> <td> 0.000</td> <td>    0.774</td> <td>    1.938</td>\n",
       "</tr>\n",
       "<tr>\n",
       "  <th>l_vola</th>    <td>   -0.0713</td> <td>    0.016</td> <td>   -4.576</td> <td> 0.000</td> <td>   -0.102</td> <td>   -0.041</td>\n",
       "</tr>\n",
       "</table>\n",
       "<table class=\"simpletable\">\n",
       "<tr>\n",
       "  <th>Omnibus:</th>       <td>1922.264</td> <th>  Durbin-Watson:     </th>  <td>   1.969</td> \n",
       "</tr>\n",
       "<tr>\n",
       "  <th>Prob(Omnibus):</th>  <td> 0.000</td>  <th>  Jarque-Bera (JB):  </th> <td>254553.921</td>\n",
       "</tr>\n",
       "<tr>\n",
       "  <th>Skew:</th>           <td> 6.859</td>  <th>  Prob(JB):          </th>  <td>    0.00</td> \n",
       "</tr>\n",
       "<tr>\n",
       "  <th>Kurtosis:</th>       <td>65.067</td>  <th>  Cond. No.          </th>  <td>    233.</td> \n",
       "</tr>\n",
       "</table><br/><br/>Warnings:<br/>[1] Standard Errors assume that the covariance matrix of the errors is correctly specified."
      ],
      "text/plain": [
       "<class 'statsmodels.iolib.summary.Summary'>\n",
       "\"\"\"\n",
       "                            OLS Regression Results                            \n",
       "==============================================================================\n",
       "Dep. Variable:                 spread   R-squared:                       0.015\n",
       "Model:                            OLS   Adj. R-squared:                  0.013\n",
       "Method:                 Least Squares   F-statistic:                     11.17\n",
       "Date:                Mon, 13 Apr 2020   Prob (F-statistic):           1.53e-05\n",
       "Time:                        14:16:46   Log-Likelihood:                 536.03\n",
       "No. Observations:                1512   AIC:                            -1066.\n",
       "Df Residuals:                    1509   BIC:                            -1050.\n",
       "Df Model:                           2                                         \n",
       "Covariance Type:            nonrobust                                         \n",
       "==============================================================================\n",
       "                 coef    std err          t      P>|t|      [0.025      0.975]\n",
       "------------------------------------------------------------------------------\n",
       "Intercept     -0.2145      0.063     -3.428      0.001      -0.337      -0.092\n",
       "vola           1.3561      0.297      4.570      0.000       0.774       1.938\n",
       "l_vola        -0.0713      0.016     -4.576      0.000      -0.102      -0.041\n",
       "==============================================================================\n",
       "Omnibus:                     1922.264   Durbin-Watson:                   1.969\n",
       "Prob(Omnibus):                  0.000   Jarque-Bera (JB):           254553.921\n",
       "Skew:                           6.859   Prob(JB):                         0.00\n",
       "Kurtosis:                      65.067   Cond. No.                         233.\n",
       "==============================================================================\n",
       "\n",
       "Warnings:\n",
       "[1] Standard Errors assume that the covariance matrix of the errors is correctly specified.\n",
       "\"\"\""
      ]
     },
     "execution_count": 32,
     "metadata": {},
     "output_type": "execute_result"
    }
   ],
   "source": [
    "sm.ols(formulas[3], data.replace([np.inf, -np.inf], np.nan).dropna()).fit().summary()    "
   ]
  },
  {
   "cell_type": "code",
   "execution_count": 33,
   "metadata": {},
   "outputs": [
    {
     "data": {
      "text/html": [
       "<table class=\"simpletable\">\n",
       "<caption>OLS Regression Results</caption>\n",
       "<tr>\n",
       "  <th>Dep. Variable:</th>         <td>spread</td>      <th>  R-squared:         </th> <td>   0.013</td>\n",
       "</tr>\n",
       "<tr>\n",
       "  <th>Model:</th>                   <td>OLS</td>       <th>  Adj. R-squared:    </th> <td>   0.012</td>\n",
       "</tr>\n",
       "<tr>\n",
       "  <th>Method:</th>             <td>Least Squares</td>  <th>  F-statistic:       </th> <td>   10.17</td>\n",
       "</tr>\n",
       "<tr>\n",
       "  <th>Date:</th>             <td>Mon, 13 Apr 2020</td> <th>  Prob (F-statistic):</th> <td>4.12e-05</td>\n",
       "</tr>\n",
       "<tr>\n",
       "  <th>Time:</th>                 <td>14:17:01</td>     <th>  Log-Likelihood:    </th> <td>  536.38</td>\n",
       "</tr>\n",
       "<tr>\n",
       "  <th>No. Observations:</th>      <td>  1514</td>      <th>  AIC:               </th> <td>  -1067.</td>\n",
       "</tr>\n",
       "<tr>\n",
       "  <th>Df Residuals:</th>          <td>  1511</td>      <th>  BIC:               </th> <td>  -1051.</td>\n",
       "</tr>\n",
       "<tr>\n",
       "  <th>Df Model:</th>              <td>     2</td>      <th>                     </th>     <td> </td>   \n",
       "</tr>\n",
       "<tr>\n",
       "  <th>Covariance Type:</th>      <td>nonrobust</td>    <th>                     </th>     <td> </td>   \n",
       "</tr>\n",
       "</table>\n",
       "<table class=\"simpletable\">\n",
       "<tr>\n",
       "      <td></td>         <th>coef</th>     <th>std err</th>      <th>t</th>      <th>P>|t|</th>  <th>[0.025</th>    <th>0.975]</th>  \n",
       "</tr>\n",
       "<tr>\n",
       "  <th>Intercept</th> <td>    0.0777</td> <td>    0.009</td> <td>    9.054</td> <td> 0.000</td> <td>    0.061</td> <td>    0.095</td>\n",
       "</tr>\n",
       "<tr>\n",
       "  <th>vola</th>      <td>    0.1832</td> <td>    0.145</td> <td>    1.264</td> <td> 0.206</td> <td>   -0.101</td> <td>    0.467</td>\n",
       "</tr>\n",
       "<tr>\n",
       "  <th>turnover</th>  <td>   -0.0011</td> <td>    0.000</td> <td>   -4.365</td> <td> 0.000</td> <td>   -0.002</td> <td>   -0.001</td>\n",
       "</tr>\n",
       "</table>\n",
       "<table class=\"simpletable\">\n",
       "<tr>\n",
       "  <th>Omnibus:</th>       <td>1910.272</td> <th>  Durbin-Watson:     </th>  <td>   1.959</td> \n",
       "</tr>\n",
       "<tr>\n",
       "  <th>Prob(Omnibus):</th>  <td> 0.000</td>  <th>  Jarque-Bera (JB):  </th> <td>244110.763</td>\n",
       "</tr>\n",
       "<tr>\n",
       "  <th>Skew:</th>           <td> 6.778</td>  <th>  Prob(JB):          </th>  <td>    0.00</td> \n",
       "</tr>\n",
       "<tr>\n",
       "  <th>Kurtosis:</th>       <td>63.711</td>  <th>  Cond. No.          </th>  <td>    642.</td> \n",
       "</tr>\n",
       "</table><br/><br/>Warnings:<br/>[1] Standard Errors assume that the covariance matrix of the errors is correctly specified."
      ],
      "text/plain": [
       "<class 'statsmodels.iolib.summary.Summary'>\n",
       "\"\"\"\n",
       "                            OLS Regression Results                            \n",
       "==============================================================================\n",
       "Dep. Variable:                 spread   R-squared:                       0.013\n",
       "Model:                            OLS   Adj. R-squared:                  0.012\n",
       "Method:                 Least Squares   F-statistic:                     10.17\n",
       "Date:                Mon, 13 Apr 2020   Prob (F-statistic):           4.12e-05\n",
       "Time:                        14:17:01   Log-Likelihood:                 536.38\n",
       "No. Observations:                1514   AIC:                            -1067.\n",
       "Df Residuals:                    1511   BIC:                            -1051.\n",
       "Df Model:                           2                                         \n",
       "Covariance Type:            nonrobust                                         \n",
       "==============================================================================\n",
       "                 coef    std err          t      P>|t|      [0.025      0.975]\n",
       "------------------------------------------------------------------------------\n",
       "Intercept      0.0777      0.009      9.054      0.000       0.061       0.095\n",
       "vola           0.1832      0.145      1.264      0.206      -0.101       0.467\n",
       "turnover      -0.0011      0.000     -4.365      0.000      -0.002      -0.001\n",
       "==============================================================================\n",
       "Omnibus:                     1910.272   Durbin-Watson:                   1.959\n",
       "Prob(Omnibus):                  0.000   Jarque-Bera (JB):           244110.763\n",
       "Skew:                           6.778   Prob(JB):                         0.00\n",
       "Kurtosis:                      63.711   Cond. No.                         642.\n",
       "==============================================================================\n",
       "\n",
       "Warnings:\n",
       "[1] Standard Errors assume that the covariance matrix of the errors is correctly specified.\n",
       "\"\"\""
      ]
     },
     "execution_count": 33,
     "metadata": {},
     "output_type": "execute_result"
    }
   ],
   "source": [
    "sm.ols(formulas[4], data).fit().summary()"
   ]
  },
  {
   "cell_type": "code",
   "execution_count": 34,
   "metadata": {},
   "outputs": [
    {
     "data": {
      "text/html": [
       "<table class=\"simpletable\">\n",
       "<caption>OLS Regression Results</caption>\n",
       "<tr>\n",
       "  <th>Dep. Variable:</th>         <td>spread</td>      <th>  R-squared:         </th> <td>   0.042</td>\n",
       "</tr>\n",
       "<tr>\n",
       "  <th>Model:</th>                   <td>OLS</td>       <th>  Adj. R-squared:    </th> <td>   0.040</td>\n",
       "</tr>\n",
       "<tr>\n",
       "  <th>Method:</th>             <td>Least Squares</td>  <th>  F-statistic:       </th> <td>   22.16</td>\n",
       "</tr>\n",
       "<tr>\n",
       "  <th>Date:</th>             <td>Mon, 13 Apr 2020</td> <th>  Prob (F-statistic):</th> <td>4.80e-14</td>\n",
       "</tr>\n",
       "<tr>\n",
       "  <th>Time:</th>                 <td>14:17:05</td>     <th>  Log-Likelihood:    </th> <td>  558.89</td>\n",
       "</tr>\n",
       "<tr>\n",
       "  <th>No. Observations:</th>      <td>  1514</td>      <th>  AIC:               </th> <td>  -1110.</td>\n",
       "</tr>\n",
       "<tr>\n",
       "  <th>Df Residuals:</th>          <td>  1510</td>      <th>  BIC:               </th> <td>  -1088.</td>\n",
       "</tr>\n",
       "<tr>\n",
       "  <th>Df Model:</th>              <td>     3</td>      <th>                     </th>     <td> </td>   \n",
       "</tr>\n",
       "<tr>\n",
       "  <th>Covariance Type:</th>      <td>nonrobust</td>    <th>                     </th>     <td> </td>   \n",
       "</tr>\n",
       "</table>\n",
       "<table class=\"simpletable\">\n",
       "<tr>\n",
       "      <td></td>         <th>coef</th>     <th>std err</th>      <th>t</th>      <th>P>|t|</th>  <th>[0.025</th>    <th>0.975]</th>  \n",
       "</tr>\n",
       "<tr>\n",
       "  <th>Intercept</th> <td>    0.0103</td> <td>    0.013</td> <td>    0.787</td> <td> 0.431</td> <td>   -0.015</td> <td>    0.036</td>\n",
       "</tr>\n",
       "<tr>\n",
       "  <th>vola</th>      <td>    0.6449</td> <td>    0.158</td> <td>    4.074</td> <td> 0.000</td> <td>    0.334</td> <td>    0.955</td>\n",
       "</tr>\n",
       "<tr>\n",
       "  <th>turnover</th>  <td>   -0.0014</td> <td>    0.000</td> <td>   -5.657</td> <td> 0.000</td> <td>   -0.002</td> <td>   -0.001</td>\n",
       "</tr>\n",
       "<tr>\n",
       "  <th>np.log(p)</th> <td>    0.0265</td> <td>    0.004</td> <td>    6.750</td> <td> 0.000</td> <td>    0.019</td> <td>    0.034</td>\n",
       "</tr>\n",
       "</table>\n",
       "<table class=\"simpletable\">\n",
       "<tr>\n",
       "  <th>Omnibus:</th>       <td>1894.980</td> <th>  Durbin-Watson:     </th>  <td>   1.975</td> \n",
       "</tr>\n",
       "<tr>\n",
       "  <th>Prob(Omnibus):</th>  <td> 0.000</td>  <th>  Jarque-Bera (JB):  </th> <td>237768.376</td>\n",
       "</tr>\n",
       "<tr>\n",
       "  <th>Skew:</th>           <td> 6.684</td>  <th>  Prob(JB):          </th>  <td>    0.00</td> \n",
       "</tr>\n",
       "<tr>\n",
       "  <th>Kurtosis:</th>       <td>62.920</td>  <th>  Cond. No.          </th>  <td>    714.</td> \n",
       "</tr>\n",
       "</table><br/><br/>Warnings:<br/>[1] Standard Errors assume that the covariance matrix of the errors is correctly specified."
      ],
      "text/plain": [
       "<class 'statsmodels.iolib.summary.Summary'>\n",
       "\"\"\"\n",
       "                            OLS Regression Results                            \n",
       "==============================================================================\n",
       "Dep. Variable:                 spread   R-squared:                       0.042\n",
       "Model:                            OLS   Adj. R-squared:                  0.040\n",
       "Method:                 Least Squares   F-statistic:                     22.16\n",
       "Date:                Mon, 13 Apr 2020   Prob (F-statistic):           4.80e-14\n",
       "Time:                        14:17:05   Log-Likelihood:                 558.89\n",
       "No. Observations:                1514   AIC:                            -1110.\n",
       "Df Residuals:                    1510   BIC:                            -1088.\n",
       "Df Model:                           3                                         \n",
       "Covariance Type:            nonrobust                                         \n",
       "==============================================================================\n",
       "                 coef    std err          t      P>|t|      [0.025      0.975]\n",
       "------------------------------------------------------------------------------\n",
       "Intercept      0.0103      0.013      0.787      0.431      -0.015       0.036\n",
       "vola           0.6449      0.158      4.074      0.000       0.334       0.955\n",
       "turnover      -0.0014      0.000     -5.657      0.000      -0.002      -0.001\n",
       "np.log(p)      0.0265      0.004      6.750      0.000       0.019       0.034\n",
       "==============================================================================\n",
       "Omnibus:                     1894.980   Durbin-Watson:                   1.975\n",
       "Prob(Omnibus):                  0.000   Jarque-Bera (JB):           237768.376\n",
       "Skew:                           6.684   Prob(JB):                         0.00\n",
       "Kurtosis:                      62.920   Cond. No.                         714.\n",
       "==============================================================================\n",
       "\n",
       "Warnings:\n",
       "[1] Standard Errors assume that the covariance matrix of the errors is correctly specified.\n",
       "\"\"\""
      ]
     },
     "execution_count": 34,
     "metadata": {},
     "output_type": "execute_result"
    }
   ],
   "source": [
    "sm.ols(formulas[5], data).fit().summary()"
   ]
  },
  {
   "cell_type": "code",
   "execution_count": 36,
   "metadata": {},
   "outputs": [],
   "source": [
    "formulas = [\"ami100 ~ vola + \" for _ in range(6)]\n",
    "formulas[0] += \"mktcap\"\n",
    "formulas[1] += \"vp\"\n",
    "formulas[2] += \"np.log(mktcap)\"\n",
    "formulas[3] += \"l_vola\"\n",
    "formulas[4] += \"turnover\"\n",
    "formulas[5] += \"turnover + np.log(p)\""
   ]
  },
  {
   "cell_type": "code",
   "execution_count": 37,
   "metadata": {},
   "outputs": [
    {
     "data": {
      "text/html": [
       "<table class=\"simpletable\">\n",
       "<caption>OLS Regression Results</caption>\n",
       "<tr>\n",
       "  <th>Dep. Variable:</th>         <td>ami100</td>      <th>  R-squared:         </th> <td>   0.028</td>\n",
       "</tr>\n",
       "<tr>\n",
       "  <th>Model:</th>                   <td>OLS</td>       <th>  Adj. R-squared:    </th> <td>   0.027</td>\n",
       "</tr>\n",
       "<tr>\n",
       "  <th>Method:</th>             <td>Least Squares</td>  <th>  F-statistic:       </th> <td>   21.79</td>\n",
       "</tr>\n",
       "<tr>\n",
       "  <th>Date:</th>             <td>Mon, 13 Apr 2020</td> <th>  Prob (F-statistic):</th> <td>4.70e-10</td>\n",
       "</tr>\n",
       "<tr>\n",
       "  <th>Time:</th>                 <td>14:18:12</td>     <th>  Log-Likelihood:    </th> <td> -2473.7</td>\n",
       "</tr>\n",
       "<tr>\n",
       "  <th>No. Observations:</th>      <td>  1512</td>      <th>  AIC:               </th> <td>   4953.</td>\n",
       "</tr>\n",
       "<tr>\n",
       "  <th>Df Residuals:</th>          <td>  1509</td>      <th>  BIC:               </th> <td>   4969.</td>\n",
       "</tr>\n",
       "<tr>\n",
       "  <th>Df Model:</th>              <td>     2</td>      <th>                     </th>     <td> </td>   \n",
       "</tr>\n",
       "<tr>\n",
       "  <th>Covariance Type:</th>      <td>nonrobust</td>    <th>                     </th>     <td> </td>   \n",
       "</tr>\n",
       "</table>\n",
       "<table class=\"simpletable\">\n",
       "<tr>\n",
       "      <td></td>         <th>coef</th>     <th>std err</th>      <th>t</th>      <th>P>|t|</th>  <th>[0.025</th>    <th>0.975]</th>  \n",
       "</tr>\n",
       "<tr>\n",
       "  <th>Intercept</th> <td>    0.0477</td> <td>    0.062</td> <td>    0.765</td> <td> 0.445</td> <td>   -0.075</td> <td>    0.170</td>\n",
       "</tr>\n",
       "<tr>\n",
       "  <th>vola</th>      <td>    6.7531</td> <td>    1.066</td> <td>    6.332</td> <td> 0.000</td> <td>    4.661</td> <td>    8.845</td>\n",
       "</tr>\n",
       "<tr>\n",
       "  <th>mktcap</th>    <td>-5.158e-06</td> <td> 4.16e-06</td> <td>   -1.241</td> <td> 0.215</td> <td>-1.33e-05</td> <td>    3e-06</td>\n",
       "</tr>\n",
       "</table>\n",
       "<table class=\"simpletable\">\n",
       "<tr>\n",
       "  <th>Omnibus:</th>       <td>2048.488</td> <th>  Durbin-Watson:     </th>  <td>   2.037</td> \n",
       "</tr>\n",
       "<tr>\n",
       "  <th>Prob(Omnibus):</th>  <td> 0.000</td>  <th>  Jarque-Bera (JB):  </th> <td>420909.886</td>\n",
       "</tr>\n",
       "<tr>\n",
       "  <th>Skew:</th>           <td> 7.529</td>  <th>  Prob(JB):          </th>  <td>    0.00</td> \n",
       "</tr>\n",
       "<tr>\n",
       "  <th>Kurtosis:</th>       <td>83.339</td>  <th>  Cond. No.          </th>  <td>2.62e+05</td> \n",
       "</tr>\n",
       "</table><br/><br/>Warnings:<br/>[1] Standard Errors assume that the covariance matrix of the errors is correctly specified.<br/>[2] The condition number is large, 2.62e+05. This might indicate that there are<br/>strong multicollinearity or other numerical problems."
      ],
      "text/plain": [
       "<class 'statsmodels.iolib.summary.Summary'>\n",
       "\"\"\"\n",
       "                            OLS Regression Results                            \n",
       "==============================================================================\n",
       "Dep. Variable:                 ami100   R-squared:                       0.028\n",
       "Model:                            OLS   Adj. R-squared:                  0.027\n",
       "Method:                 Least Squares   F-statistic:                     21.79\n",
       "Date:                Mon, 13 Apr 2020   Prob (F-statistic):           4.70e-10\n",
       "Time:                        14:18:12   Log-Likelihood:                -2473.7\n",
       "No. Observations:                1512   AIC:                             4953.\n",
       "Df Residuals:                    1509   BIC:                             4969.\n",
       "Df Model:                           2                                         \n",
       "Covariance Type:            nonrobust                                         \n",
       "==============================================================================\n",
       "                 coef    std err          t      P>|t|      [0.025      0.975]\n",
       "------------------------------------------------------------------------------\n",
       "Intercept      0.0477      0.062      0.765      0.445      -0.075       0.170\n",
       "vola           6.7531      1.066      6.332      0.000       4.661       8.845\n",
       "mktcap     -5.158e-06   4.16e-06     -1.241      0.215   -1.33e-05       3e-06\n",
       "==============================================================================\n",
       "Omnibus:                     2048.488   Durbin-Watson:                   2.037\n",
       "Prob(Omnibus):                  0.000   Jarque-Bera (JB):           420909.886\n",
       "Skew:                           7.529   Prob(JB):                         0.00\n",
       "Kurtosis:                      83.339   Cond. No.                     2.62e+05\n",
       "==============================================================================\n",
       "\n",
       "Warnings:\n",
       "[1] Standard Errors assume that the covariance matrix of the errors is correctly specified.\n",
       "[2] The condition number is large, 2.62e+05. This might indicate that there are\n",
       "strong multicollinearity or other numerical problems.\n",
       "\"\"\""
      ]
     },
     "execution_count": 37,
     "metadata": {},
     "output_type": "execute_result"
    }
   ],
   "source": [
    "sm.ols(formulas[0], data.replace([np.inf, -np.inf], np.nan).dropna()).fit().summary()    "
   ]
  },
  {
   "cell_type": "code",
   "execution_count": 39,
   "metadata": {},
   "outputs": [
    {
     "data": {
      "text/html": [
       "<table class=\"simpletable\">\n",
       "<caption>OLS Regression Results</caption>\n",
       "<tr>\n",
       "  <th>Dep. Variable:</th>         <td>ami100</td>      <th>  R-squared:         </th> <td>   0.029</td>\n",
       "</tr>\n",
       "<tr>\n",
       "  <th>Model:</th>                   <td>OLS</td>       <th>  Adj. R-squared:    </th> <td>   0.027</td>\n",
       "</tr>\n",
       "<tr>\n",
       "  <th>Method:</th>             <td>Least Squares</td>  <th>  F-statistic:       </th> <td>   22.34</td>\n",
       "</tr>\n",
       "<tr>\n",
       "  <th>Date:</th>             <td>Mon, 13 Apr 2020</td> <th>  Prob (F-statistic):</th> <td>2.75e-10</td>\n",
       "</tr>\n",
       "<tr>\n",
       "  <th>Time:</th>                 <td>14:18:19</td>     <th>  Log-Likelihood:    </th> <td> -2473.2</td>\n",
       "</tr>\n",
       "<tr>\n",
       "  <th>No. Observations:</th>      <td>  1512</td>      <th>  AIC:               </th> <td>   4952.</td>\n",
       "</tr>\n",
       "<tr>\n",
       "  <th>Df Residuals:</th>          <td>  1509</td>      <th>  BIC:               </th> <td>   4968.</td>\n",
       "</tr>\n",
       "<tr>\n",
       "  <th>Df Model:</th>              <td>     2</td>      <th>                     </th>     <td> </td>   \n",
       "</tr>\n",
       "<tr>\n",
       "  <th>Covariance Type:</th>      <td>nonrobust</td>    <th>                     </th>     <td> </td>   \n",
       "</tr>\n",
       "</table>\n",
       "<table class=\"simpletable\">\n",
       "<tr>\n",
       "      <td></td>         <th>coef</th>     <th>std err</th>      <th>t</th>      <th>P>|t|</th>  <th>[0.025</th>    <th>0.975]</th>  \n",
       "</tr>\n",
       "<tr>\n",
       "  <th>Intercept</th> <td>    0.0513</td> <td>    0.062</td> <td>    0.822</td> <td> 0.411</td> <td>   -0.071</td> <td>    0.174</td>\n",
       "</tr>\n",
       "<tr>\n",
       "  <th>vola</th>      <td>    6.7404</td> <td>    1.065</td> <td>    6.331</td> <td> 0.000</td> <td>    4.652</td> <td>    8.829</td>\n",
       "</tr>\n",
       "<tr>\n",
       "  <th>vp</th>        <td>-5.455e-07</td> <td> 3.38e-07</td> <td>   -1.615</td> <td> 0.106</td> <td>-1.21e-06</td> <td> 1.17e-07</td>\n",
       "</tr>\n",
       "</table>\n",
       "<table class=\"simpletable\">\n",
       "<tr>\n",
       "  <th>Omnibus:</th>       <td>2048.863</td> <th>  Durbin-Watson:     </th>  <td>   2.038</td> \n",
       "</tr>\n",
       "<tr>\n",
       "  <th>Prob(Omnibus):</th>  <td> 0.000</td>  <th>  Jarque-Bera (JB):  </th> <td>421467.063</td>\n",
       "</tr>\n",
       "<tr>\n",
       "  <th>Skew:</th>           <td> 7.531</td>  <th>  Prob(JB):          </th>  <td>    0.00</td> \n",
       "</tr>\n",
       "<tr>\n",
       "  <th>Kurtosis:</th>       <td>83.393</td>  <th>  Cond. No.          </th>  <td>3.22e+06</td> \n",
       "</tr>\n",
       "</table><br/><br/>Warnings:<br/>[1] Standard Errors assume that the covariance matrix of the errors is correctly specified.<br/>[2] The condition number is large, 3.22e+06. This might indicate that there are<br/>strong multicollinearity or other numerical problems."
      ],
      "text/plain": [
       "<class 'statsmodels.iolib.summary.Summary'>\n",
       "\"\"\"\n",
       "                            OLS Regression Results                            \n",
       "==============================================================================\n",
       "Dep. Variable:                 ami100   R-squared:                       0.029\n",
       "Model:                            OLS   Adj. R-squared:                  0.027\n",
       "Method:                 Least Squares   F-statistic:                     22.34\n",
       "Date:                Mon, 13 Apr 2020   Prob (F-statistic):           2.75e-10\n",
       "Time:                        14:18:19   Log-Likelihood:                -2473.2\n",
       "No. Observations:                1512   AIC:                             4952.\n",
       "Df Residuals:                    1509   BIC:                             4968.\n",
       "Df Model:                           2                                         \n",
       "Covariance Type:            nonrobust                                         \n",
       "==============================================================================\n",
       "                 coef    std err          t      P>|t|      [0.025      0.975]\n",
       "------------------------------------------------------------------------------\n",
       "Intercept      0.0513      0.062      0.822      0.411      -0.071       0.174\n",
       "vola           6.7404      1.065      6.331      0.000       4.652       8.829\n",
       "vp         -5.455e-07   3.38e-07     -1.615      0.106   -1.21e-06    1.17e-07\n",
       "==============================================================================\n",
       "Omnibus:                     2048.863   Durbin-Watson:                   2.038\n",
       "Prob(Omnibus):                  0.000   Jarque-Bera (JB):           421467.063\n",
       "Skew:                           7.531   Prob(JB):                         0.00\n",
       "Kurtosis:                      83.393   Cond. No.                     3.22e+06\n",
       "==============================================================================\n",
       "\n",
       "Warnings:\n",
       "[1] Standard Errors assume that the covariance matrix of the errors is correctly specified.\n",
       "[2] The condition number is large, 3.22e+06. This might indicate that there are\n",
       "strong multicollinearity or other numerical problems.\n",
       "\"\"\""
      ]
     },
     "execution_count": 39,
     "metadata": {},
     "output_type": "execute_result"
    }
   ],
   "source": [
    "sm.ols(formulas[1], data.replace([np.inf, -np.inf], np.nan).dropna()).fit().summary()    "
   ]
  },
  {
   "cell_type": "code",
   "execution_count": 40,
   "metadata": {},
   "outputs": [
    {
     "data": {
      "text/html": [
       "<table class=\"simpletable\">\n",
       "<caption>OLS Regression Results</caption>\n",
       "<tr>\n",
       "  <th>Dep. Variable:</th>         <td>ami100</td>      <th>  R-squared:         </th> <td>   0.105</td>\n",
       "</tr>\n",
       "<tr>\n",
       "  <th>Model:</th>                   <td>OLS</td>       <th>  Adj. R-squared:    </th> <td>   0.104</td>\n",
       "</tr>\n",
       "<tr>\n",
       "  <th>Method:</th>             <td>Least Squares</td>  <th>  F-statistic:       </th> <td>   88.71</td>\n",
       "</tr>\n",
       "<tr>\n",
       "  <th>Date:</th>             <td>Mon, 13 Apr 2020</td> <th>  Prob (F-statistic):</th> <td>3.78e-37</td>\n",
       "</tr>\n",
       "<tr>\n",
       "  <th>Time:</th>                 <td>14:18:23</td>     <th>  Log-Likelihood:    </th> <td> -2411.2</td>\n",
       "</tr>\n",
       "<tr>\n",
       "  <th>No. Observations:</th>      <td>  1512</td>      <th>  AIC:               </th> <td>   4828.</td>\n",
       "</tr>\n",
       "<tr>\n",
       "  <th>Df Residuals:</th>          <td>  1509</td>      <th>  BIC:               </th> <td>   4844.</td>\n",
       "</tr>\n",
       "<tr>\n",
       "  <th>Df Model:</th>              <td>     2</td>      <th>                     </th>     <td> </td>   \n",
       "</tr>\n",
       "<tr>\n",
       "  <th>Covariance Type:</th>      <td>nonrobust</td>    <th>                     </th>     <td> </td>   \n",
       "</tr>\n",
       "</table>\n",
       "<table class=\"simpletable\">\n",
       "<tr>\n",
       "         <td></td>           <th>coef</th>     <th>std err</th>      <th>t</th>      <th>P>|t|</th>  <th>[0.025</th>    <th>0.975]</th>  \n",
       "</tr>\n",
       "<tr>\n",
       "  <th>Intercept</th>      <td>    1.4203</td> <td>    0.134</td> <td>   10.569</td> <td> 0.000</td> <td>    1.157</td> <td>    1.684</td>\n",
       "</tr>\n",
       "<tr>\n",
       "  <th>vola</th>           <td>    2.3582</td> <td>    1.092</td> <td>    2.160</td> <td> 0.031</td> <td>    0.216</td> <td>    4.500</td>\n",
       "</tr>\n",
       "<tr>\n",
       "  <th>np.log(mktcap)</th> <td>   -0.2237</td> <td>    0.019</td> <td>  -11.478</td> <td> 0.000</td> <td>   -0.262</td> <td>   -0.185</td>\n",
       "</tr>\n",
       "</table>\n",
       "<table class=\"simpletable\">\n",
       "<tr>\n",
       "  <th>Omnibus:</th>       <td>2058.855</td> <th>  Durbin-Watson:     </th>  <td>   2.048</td> \n",
       "</tr>\n",
       "<tr>\n",
       "  <th>Prob(Omnibus):</th>  <td> 0.000</td>  <th>  Jarque-Bera (JB):  </th> <td>456993.827</td>\n",
       "</tr>\n",
       "<tr>\n",
       "  <th>Skew:</th>           <td> 7.565</td>  <th>  Prob(JB):          </th>  <td>    0.00</td> \n",
       "</tr>\n",
       "<tr>\n",
       "  <th>Kurtosis:</th>       <td>86.815</td>  <th>  Cond. No.          </th>  <td>    198.</td> \n",
       "</tr>\n",
       "</table><br/><br/>Warnings:<br/>[1] Standard Errors assume that the covariance matrix of the errors is correctly specified."
      ],
      "text/plain": [
       "<class 'statsmodels.iolib.summary.Summary'>\n",
       "\"\"\"\n",
       "                            OLS Regression Results                            \n",
       "==============================================================================\n",
       "Dep. Variable:                 ami100   R-squared:                       0.105\n",
       "Model:                            OLS   Adj. R-squared:                  0.104\n",
       "Method:                 Least Squares   F-statistic:                     88.71\n",
       "Date:                Mon, 13 Apr 2020   Prob (F-statistic):           3.78e-37\n",
       "Time:                        14:18:23   Log-Likelihood:                -2411.2\n",
       "No. Observations:                1512   AIC:                             4828.\n",
       "Df Residuals:                    1509   BIC:                             4844.\n",
       "Df Model:                           2                                         \n",
       "Covariance Type:            nonrobust                                         \n",
       "==================================================================================\n",
       "                     coef    std err          t      P>|t|      [0.025      0.975]\n",
       "----------------------------------------------------------------------------------\n",
       "Intercept          1.4203      0.134     10.569      0.000       1.157       1.684\n",
       "vola               2.3582      1.092      2.160      0.031       0.216       4.500\n",
       "np.log(mktcap)    -0.2237      0.019    -11.478      0.000      -0.262      -0.185\n",
       "==============================================================================\n",
       "Omnibus:                     2058.855   Durbin-Watson:                   2.048\n",
       "Prob(Omnibus):                  0.000   Jarque-Bera (JB):           456993.827\n",
       "Skew:                           7.565   Prob(JB):                         0.00\n",
       "Kurtosis:                      86.815   Cond. No.                         198.\n",
       "==============================================================================\n",
       "\n",
       "Warnings:\n",
       "[1] Standard Errors assume that the covariance matrix of the errors is correctly specified.\n",
       "\"\"\""
      ]
     },
     "execution_count": 40,
     "metadata": {},
     "output_type": "execute_result"
    }
   ],
   "source": [
    "sm.ols(formulas[2], data.replace([np.inf, -np.inf], np.nan).dropna()).fit().summary()    "
   ]
  },
  {
   "cell_type": "code",
   "execution_count": 41,
   "metadata": {},
   "outputs": [
    {
     "data": {
      "text/html": [
       "<table class=\"simpletable\">\n",
       "<caption>OLS Regression Results</caption>\n",
       "<tr>\n",
       "  <th>Dep. Variable:</th>         <td>ami100</td>      <th>  R-squared:         </th> <td>   0.027</td>\n",
       "</tr>\n",
       "<tr>\n",
       "  <th>Model:</th>                   <td>OLS</td>       <th>  Adj. R-squared:    </th> <td>   0.026</td>\n",
       "</tr>\n",
       "<tr>\n",
       "  <th>Method:</th>             <td>Least Squares</td>  <th>  F-statistic:       </th> <td>   21.28</td>\n",
       "</tr>\n",
       "<tr>\n",
       "  <th>Date:</th>             <td>Mon, 13 Apr 2020</td> <th>  Prob (F-statistic):</th> <td>7.66e-10</td>\n",
       "</tr>\n",
       "<tr>\n",
       "  <th>Time:</th>                 <td>14:18:30</td>     <th>  Log-Likelihood:    </th> <td> -2474.2</td>\n",
       "</tr>\n",
       "<tr>\n",
       "  <th>No. Observations:</th>      <td>  1512</td>      <th>  AIC:               </th> <td>   4954.</td>\n",
       "</tr>\n",
       "<tr>\n",
       "  <th>Df Residuals:</th>          <td>  1509</td>      <th>  BIC:               </th> <td>   4970.</td>\n",
       "</tr>\n",
       "<tr>\n",
       "  <th>Df Model:</th>              <td>     2</td>      <th>                     </th>     <td> </td>   \n",
       "</tr>\n",
       "<tr>\n",
       "  <th>Covariance Type:</th>      <td>nonrobust</td>    <th>                     </th>     <td> </td>   \n",
       "</tr>\n",
       "</table>\n",
       "<table class=\"simpletable\">\n",
       "<tr>\n",
       "      <td></td>         <th>coef</th>     <th>std err</th>      <th>t</th>      <th>P>|t|</th>  <th>[0.025</th>    <th>0.975]</th>  \n",
       "</tr>\n",
       "<tr>\n",
       "  <th>Intercept</th> <td>   -0.3049</td> <td>    0.458</td> <td>   -0.666</td> <td> 0.506</td> <td>   -1.203</td> <td>    0.594</td>\n",
       "</tr>\n",
       "<tr>\n",
       "  <th>vola</th>      <td>    8.3003</td> <td>    2.173</td> <td>    3.820</td> <td> 0.000</td> <td>    4.038</td> <td>   12.562</td>\n",
       "</tr>\n",
       "<tr>\n",
       "  <th>l_vola</th>    <td>   -0.0853</td> <td>    0.114</td> <td>   -0.748</td> <td> 0.454</td> <td>   -0.309</td> <td>    0.138</td>\n",
       "</tr>\n",
       "</table>\n",
       "<table class=\"simpletable\">\n",
       "<tr>\n",
       "  <th>Omnibus:</th>       <td>2048.463</td> <th>  Durbin-Watson:     </th>  <td>   2.041</td> \n",
       "</tr>\n",
       "<tr>\n",
       "  <th>Prob(Omnibus):</th>  <td> 0.000</td>  <th>  Jarque-Bera (JB):  </th> <td>420060.081</td>\n",
       "</tr>\n",
       "<tr>\n",
       "  <th>Skew:</th>           <td> 7.530</td>  <th>  Prob(JB):          </th>  <td>    0.00</td> \n",
       "</tr>\n",
       "<tr>\n",
       "  <th>Kurtosis:</th>       <td>83.255</td>  <th>  Cond. No.          </th>  <td>    233.</td> \n",
       "</tr>\n",
       "</table><br/><br/>Warnings:<br/>[1] Standard Errors assume that the covariance matrix of the errors is correctly specified."
      ],
      "text/plain": [
       "<class 'statsmodels.iolib.summary.Summary'>\n",
       "\"\"\"\n",
       "                            OLS Regression Results                            \n",
       "==============================================================================\n",
       "Dep. Variable:                 ami100   R-squared:                       0.027\n",
       "Model:                            OLS   Adj. R-squared:                  0.026\n",
       "Method:                 Least Squares   F-statistic:                     21.28\n",
       "Date:                Mon, 13 Apr 2020   Prob (F-statistic):           7.66e-10\n",
       "Time:                        14:18:30   Log-Likelihood:                -2474.2\n",
       "No. Observations:                1512   AIC:                             4954.\n",
       "Df Residuals:                    1509   BIC:                             4970.\n",
       "Df Model:                           2                                         \n",
       "Covariance Type:            nonrobust                                         \n",
       "==============================================================================\n",
       "                 coef    std err          t      P>|t|      [0.025      0.975]\n",
       "------------------------------------------------------------------------------\n",
       "Intercept     -0.3049      0.458     -0.666      0.506      -1.203       0.594\n",
       "vola           8.3003      2.173      3.820      0.000       4.038      12.562\n",
       "l_vola        -0.0853      0.114     -0.748      0.454      -0.309       0.138\n",
       "==============================================================================\n",
       "Omnibus:                     2048.463   Durbin-Watson:                   2.041\n",
       "Prob(Omnibus):                  0.000   Jarque-Bera (JB):           420060.081\n",
       "Skew:                           7.530   Prob(JB):                         0.00\n",
       "Kurtosis:                      83.255   Cond. No.                         233.\n",
       "==============================================================================\n",
       "\n",
       "Warnings:\n",
       "[1] Standard Errors assume that the covariance matrix of the errors is correctly specified.\n",
       "\"\"\""
      ]
     },
     "execution_count": 41,
     "metadata": {},
     "output_type": "execute_result"
    }
   ],
   "source": [
    "sm.ols(formulas[3], data.replace([np.inf, -np.inf], np.nan).dropna()).fit().summary()    "
   ]
  },
  {
   "cell_type": "code",
   "execution_count": 42,
   "metadata": {},
   "outputs": [
    {
     "data": {
      "text/html": [
       "<table class=\"simpletable\">\n",
       "<caption>OLS Regression Results</caption>\n",
       "<tr>\n",
       "  <th>Dep. Variable:</th>         <td>ami100</td>      <th>  R-squared:         </th> <td>   0.043</td>\n",
       "</tr>\n",
       "<tr>\n",
       "  <th>Model:</th>                   <td>OLS</td>       <th>  Adj. R-squared:    </th> <td>   0.042</td>\n",
       "</tr>\n",
       "<tr>\n",
       "  <th>Method:</th>             <td>Least Squares</td>  <th>  F-statistic:       </th> <td>   33.98</td>\n",
       "</tr>\n",
       "<tr>\n",
       "  <th>Date:</th>             <td>Mon, 13 Apr 2020</td> <th>  Prob (F-statistic):</th> <td>3.69e-15</td>\n",
       "</tr>\n",
       "<tr>\n",
       "  <th>Time:</th>                 <td>14:18:37</td>     <th>  Log-Likelihood:    </th> <td> -2461.9</td>\n",
       "</tr>\n",
       "<tr>\n",
       "  <th>No. Observations:</th>      <td>  1512</td>      <th>  AIC:               </th> <td>   4930.</td>\n",
       "</tr>\n",
       "<tr>\n",
       "  <th>Df Residuals:</th>          <td>  1509</td>      <th>  BIC:               </th> <td>   4946.</td>\n",
       "</tr>\n",
       "<tr>\n",
       "  <th>Df Model:</th>              <td>     2</td>      <th>                     </th>     <td> </td>   \n",
       "</tr>\n",
       "<tr>\n",
       "  <th>Covariance Type:</th>      <td>nonrobust</td>    <th>                     </th>     <td> </td>   \n",
       "</tr>\n",
       "</table>\n",
       "<table class=\"simpletable\">\n",
       "<tr>\n",
       "      <td></td>         <th>coef</th>     <th>std err</th>      <th>t</th>      <th>P>|t|</th>  <th>[0.025</th>    <th>0.975]</th>  \n",
       "</tr>\n",
       "<tr>\n",
       "  <th>Intercept</th> <td>    0.1016</td> <td>    0.063</td> <td>    1.626</td> <td> 0.104</td> <td>   -0.021</td> <td>    0.224</td>\n",
       "</tr>\n",
       "<tr>\n",
       "  <th>vola</th>      <td>    7.0429</td> <td>    1.054</td> <td>    6.684</td> <td> 0.000</td> <td>    4.976</td> <td>    9.110</td>\n",
       "</tr>\n",
       "<tr>\n",
       "  <th>turnover</th>  <td>   -0.0091</td> <td>    0.002</td> <td>   -5.026</td> <td> 0.000</td> <td>   -0.013</td> <td>   -0.006</td>\n",
       "</tr>\n",
       "</table>\n",
       "<table class=\"simpletable\">\n",
       "<tr>\n",
       "  <th>Omnibus:</th>       <td>2056.778</td> <th>  Durbin-Watson:     </th>  <td>   2.051</td> \n",
       "</tr>\n",
       "<tr>\n",
       "  <th>Prob(Omnibus):</th>  <td> 0.000</td>  <th>  Jarque-Bera (JB):  </th> <td>430276.072</td>\n",
       "</tr>\n",
       "<tr>\n",
       "  <th>Skew:</th>           <td> 7.581</td>  <th>  Prob(JB):          </th>  <td>    0.00</td> \n",
       "</tr>\n",
       "<tr>\n",
       "  <th>Kurtosis:</th>       <td>84.240</td>  <th>  Cond. No.          </th>  <td>    643.</td> \n",
       "</tr>\n",
       "</table><br/><br/>Warnings:<br/>[1] Standard Errors assume that the covariance matrix of the errors is correctly specified."
      ],
      "text/plain": [
       "<class 'statsmodels.iolib.summary.Summary'>\n",
       "\"\"\"\n",
       "                            OLS Regression Results                            \n",
       "==============================================================================\n",
       "Dep. Variable:                 ami100   R-squared:                       0.043\n",
       "Model:                            OLS   Adj. R-squared:                  0.042\n",
       "Method:                 Least Squares   F-statistic:                     33.98\n",
       "Date:                Mon, 13 Apr 2020   Prob (F-statistic):           3.69e-15\n",
       "Time:                        14:18:37   Log-Likelihood:                -2461.9\n",
       "No. Observations:                1512   AIC:                             4930.\n",
       "Df Residuals:                    1509   BIC:                             4946.\n",
       "Df Model:                           2                                         \n",
       "Covariance Type:            nonrobust                                         \n",
       "==============================================================================\n",
       "                 coef    std err          t      P>|t|      [0.025      0.975]\n",
       "------------------------------------------------------------------------------\n",
       "Intercept      0.1016      0.063      1.626      0.104      -0.021       0.224\n",
       "vola           7.0429      1.054      6.684      0.000       4.976       9.110\n",
       "turnover      -0.0091      0.002     -5.026      0.000      -0.013      -0.006\n",
       "==============================================================================\n",
       "Omnibus:                     2056.778   Durbin-Watson:                   2.051\n",
       "Prob(Omnibus):                  0.000   Jarque-Bera (JB):           430276.072\n",
       "Skew:                           7.581   Prob(JB):                         0.00\n",
       "Kurtosis:                      84.240   Cond. No.                         643.\n",
       "==============================================================================\n",
       "\n",
       "Warnings:\n",
       "[1] Standard Errors assume that the covariance matrix of the errors is correctly specified.\n",
       "\"\"\""
      ]
     },
     "execution_count": 42,
     "metadata": {},
     "output_type": "execute_result"
    }
   ],
   "source": [
    "sm.ols(formulas[4], data.replace([np.inf, -np.inf], np.nan).dropna()).fit().summary()    "
   ]
  },
  {
   "cell_type": "code",
   "execution_count": 43,
   "metadata": {},
   "outputs": [
    {
     "data": {
      "text/html": [
       "<table class=\"simpletable\">\n",
       "<caption>OLS Regression Results</caption>\n",
       "<tr>\n",
       "  <th>Dep. Variable:</th>         <td>ami100</td>      <th>  R-squared:         </th> <td>   0.044</td>\n",
       "</tr>\n",
       "<tr>\n",
       "  <th>Model:</th>                   <td>OLS</td>       <th>  Adj. R-squared:    </th> <td>   0.042</td>\n",
       "</tr>\n",
       "<tr>\n",
       "  <th>Method:</th>             <td>Least Squares</td>  <th>  F-statistic:       </th> <td>   23.13</td>\n",
       "</tr>\n",
       "<tr>\n",
       "  <th>Date:</th>             <td>Mon, 13 Apr 2020</td> <th>  Prob (F-statistic):</th> <td>1.22e-14</td>\n",
       "</tr>\n",
       "<tr>\n",
       "  <th>Time:</th>                 <td>14:18:42</td>     <th>  Log-Likelihood:    </th> <td> -2461.2</td>\n",
       "</tr>\n",
       "<tr>\n",
       "  <th>No. Observations:</th>      <td>  1512</td>      <th>  AIC:               </th> <td>   4930.</td>\n",
       "</tr>\n",
       "<tr>\n",
       "  <th>Df Residuals:</th>          <td>  1508</td>      <th>  BIC:               </th> <td>   4952.</td>\n",
       "</tr>\n",
       "<tr>\n",
       "  <th>Df Model:</th>              <td>     3</td>      <th>                     </th>     <td> </td>   \n",
       "</tr>\n",
       "<tr>\n",
       "  <th>Covariance Type:</th>      <td>nonrobust</td>    <th>                     </th>     <td> </td>   \n",
       "</tr>\n",
       "</table>\n",
       "<table class=\"simpletable\">\n",
       "<tr>\n",
       "      <td></td>         <th>coef</th>     <th>std err</th>      <th>t</th>      <th>P>|t|</th>  <th>[0.025</th>    <th>0.975]</th>  \n",
       "</tr>\n",
       "<tr>\n",
       "  <th>Intercept</th> <td>    0.1899</td> <td>    0.097</td> <td>    1.962</td> <td> 0.050</td> <td> 3.97e-05</td> <td>    0.380</td>\n",
       "</tr>\n",
       "<tr>\n",
       "  <th>vola</th>      <td>    6.4369</td> <td>    1.169</td> <td>    5.505</td> <td> 0.000</td> <td>    4.143</td> <td>    8.731</td>\n",
       "</tr>\n",
       "<tr>\n",
       "  <th>turnover</th>  <td>   -0.0087</td> <td>    0.002</td> <td>   -4.698</td> <td> 0.000</td> <td>   -0.012</td> <td>   -0.005</td>\n",
       "</tr>\n",
       "<tr>\n",
       "  <th>np.log(p)</th> <td>   -0.0345</td> <td>    0.029</td> <td>   -1.194</td> <td> 0.232</td> <td>   -0.091</td> <td>    0.022</td>\n",
       "</tr>\n",
       "</table>\n",
       "<table class=\"simpletable\">\n",
       "<tr>\n",
       "  <th>Omnibus:</th>       <td>2056.461</td> <th>  Durbin-Watson:     </th>  <td>   2.050</td> \n",
       "</tr>\n",
       "<tr>\n",
       "  <th>Prob(Omnibus):</th>  <td> 0.000</td>  <th>  Jarque-Bera (JB):  </th> <td>429910.948</td>\n",
       "</tr>\n",
       "<tr>\n",
       "  <th>Skew:</th>           <td> 7.579</td>  <th>  Prob(JB):          </th>  <td>    0.00</td> \n",
       "</tr>\n",
       "<tr>\n",
       "  <th>Kurtosis:</th>       <td>84.205</td>  <th>  Cond. No.          </th>  <td>    716.</td> \n",
       "</tr>\n",
       "</table><br/><br/>Warnings:<br/>[1] Standard Errors assume that the covariance matrix of the errors is correctly specified."
      ],
      "text/plain": [
       "<class 'statsmodels.iolib.summary.Summary'>\n",
       "\"\"\"\n",
       "                            OLS Regression Results                            \n",
       "==============================================================================\n",
       "Dep. Variable:                 ami100   R-squared:                       0.044\n",
       "Model:                            OLS   Adj. R-squared:                  0.042\n",
       "Method:                 Least Squares   F-statistic:                     23.13\n",
       "Date:                Mon, 13 Apr 2020   Prob (F-statistic):           1.22e-14\n",
       "Time:                        14:18:42   Log-Likelihood:                -2461.2\n",
       "No. Observations:                1512   AIC:                             4930.\n",
       "Df Residuals:                    1508   BIC:                             4952.\n",
       "Df Model:                           3                                         \n",
       "Covariance Type:            nonrobust                                         \n",
       "==============================================================================\n",
       "                 coef    std err          t      P>|t|      [0.025      0.975]\n",
       "------------------------------------------------------------------------------\n",
       "Intercept      0.1899      0.097      1.962      0.050    3.97e-05       0.380\n",
       "vola           6.4369      1.169      5.505      0.000       4.143       8.731\n",
       "turnover      -0.0087      0.002     -4.698      0.000      -0.012      -0.005\n",
       "np.log(p)     -0.0345      0.029     -1.194      0.232      -0.091       0.022\n",
       "==============================================================================\n",
       "Omnibus:                     2056.461   Durbin-Watson:                   2.050\n",
       "Prob(Omnibus):                  0.000   Jarque-Bera (JB):           429910.948\n",
       "Skew:                           7.579   Prob(JB):                         0.00\n",
       "Kurtosis:                      84.205   Cond. No.                         716.\n",
       "==============================================================================\n",
       "\n",
       "Warnings:\n",
       "[1] Standard Errors assume that the covariance matrix of the errors is correctly specified.\n",
       "\"\"\""
      ]
     },
     "execution_count": 43,
     "metadata": {},
     "output_type": "execute_result"
    }
   ],
   "source": [
    "sm.ols(formulas[5], data.replace([np.inf, -np.inf], np.nan).dropna()).fit().summary()    "
   ]
  },
  {
   "cell_type": "code",
   "execution_count": 54,
   "metadata": {},
   "outputs": [
    {
     "data": {
      "text/html": [
       "<table class=\"simpletable\">\n",
       "<caption>OLS Regression Results</caption>\n",
       "<tr>\n",
       "  <th>Dep. Variable:</th>         <td>ami100</td>      <th>  R-squared:         </th> <td>   0.066</td>\n",
       "</tr>\n",
       "<tr>\n",
       "  <th>Model:</th>                   <td>OLS</td>       <th>  Adj. R-squared:    </th> <td>   0.064</td>\n",
       "</tr>\n",
       "<tr>\n",
       "  <th>Method:</th>             <td>Least Squares</td>  <th>  F-statistic:       </th> <td>   35.68</td>\n",
       "</tr>\n",
       "<tr>\n",
       "  <th>Date:</th>             <td>Mon, 13 Apr 2020</td> <th>  Prob (F-statistic):</th> <td>2.82e-22</td>\n",
       "</tr>\n",
       "<tr>\n",
       "  <th>Time:</th>                 <td>14:25:30</td>     <th>  Log-Likelihood:    </th> <td> -2443.4</td>\n",
       "</tr>\n",
       "<tr>\n",
       "  <th>No. Observations:</th>      <td>  1512</td>      <th>  AIC:               </th> <td>   4895.</td>\n",
       "</tr>\n",
       "<tr>\n",
       "  <th>Df Residuals:</th>          <td>  1508</td>      <th>  BIC:               </th> <td>   4916.</td>\n",
       "</tr>\n",
       "<tr>\n",
       "  <th>Df Model:</th>              <td>     3</td>      <th>                     </th>     <td> </td>   \n",
       "</tr>\n",
       "<tr>\n",
       "  <th>Covariance Type:</th>      <td>nonrobust</td>    <th>                     </th>     <td> </td>   \n",
       "</tr>\n",
       "</table>\n",
       "<table class=\"simpletable\">\n",
       "<tr>\n",
       "      <td></td>         <th>coef</th>     <th>std err</th>      <th>t</th>      <th>P>|t|</th>  <th>[0.025</th>    <th>0.975]</th>  \n",
       "</tr>\n",
       "<tr>\n",
       "  <th>Intercept</th> <td>   -0.1014</td> <td>    0.450</td> <td>   -0.225</td> <td> 0.822</td> <td>   -0.984</td> <td>    0.781</td>\n",
       "</tr>\n",
       "<tr>\n",
       "  <th>vola</th>      <td>    6.4719</td> <td>    2.142</td> <td>    3.021</td> <td> 0.003</td> <td>    2.270</td> <td>   10.674</td>\n",
       "</tr>\n",
       "<tr>\n",
       "  <th>l_vola</th>    <td>   -0.0104</td> <td>    0.112</td> <td>   -0.093</td> <td> 0.926</td> <td>   -0.230</td> <td>    0.210</td>\n",
       "</tr>\n",
       "<tr>\n",
       "  <th>fin</th>       <td>    0.6290</td> <td>    0.079</td> <td>    7.920</td> <td> 0.000</td> <td>    0.473</td> <td>    0.785</td>\n",
       "</tr>\n",
       "</table>\n",
       "<table class=\"simpletable\">\n",
       "<tr>\n",
       "  <th>Omnibus:</th>       <td>2072.817</td> <th>  Durbin-Watson:     </th>  <td>   2.063</td> \n",
       "</tr>\n",
       "<tr>\n",
       "  <th>Prob(Omnibus):</th>  <td> 0.000</td>  <th>  Jarque-Bera (JB):  </th> <td>473049.769</td>\n",
       "</tr>\n",
       "<tr>\n",
       "  <th>Skew:</th>           <td> 7.654</td>  <th>  Prob(JB):          </th>  <td>    0.00</td> \n",
       "</tr>\n",
       "<tr>\n",
       "  <th>Kurtosis:</th>       <td>88.290</td>  <th>  Cond. No.          </th>  <td>    234.</td> \n",
       "</tr>\n",
       "</table><br/><br/>Warnings:<br/>[1] Standard Errors assume that the covariance matrix of the errors is correctly specified."
      ],
      "text/plain": [
       "<class 'statsmodels.iolib.summary.Summary'>\n",
       "\"\"\"\n",
       "                            OLS Regression Results                            \n",
       "==============================================================================\n",
       "Dep. Variable:                 ami100   R-squared:                       0.066\n",
       "Model:                            OLS   Adj. R-squared:                  0.064\n",
       "Method:                 Least Squares   F-statistic:                     35.68\n",
       "Date:                Mon, 13 Apr 2020   Prob (F-statistic):           2.82e-22\n",
       "Time:                        14:25:30   Log-Likelihood:                -2443.4\n",
       "No. Observations:                1512   AIC:                             4895.\n",
       "Df Residuals:                    1508   BIC:                             4916.\n",
       "Df Model:                           3                                         \n",
       "Covariance Type:            nonrobust                                         \n",
       "==============================================================================\n",
       "                 coef    std err          t      P>|t|      [0.025      0.975]\n",
       "------------------------------------------------------------------------------\n",
       "Intercept     -0.1014      0.450     -0.225      0.822      -0.984       0.781\n",
       "vola           6.4719      2.142      3.021      0.003       2.270      10.674\n",
       "l_vola        -0.0104      0.112     -0.093      0.926      -0.230       0.210\n",
       "fin            0.6290      0.079      7.920      0.000       0.473       0.785\n",
       "==============================================================================\n",
       "Omnibus:                     2072.817   Durbin-Watson:                   2.063\n",
       "Prob(Omnibus):                  0.000   Jarque-Bera (JB):           473049.769\n",
       "Skew:                           7.654   Prob(JB):                         0.00\n",
       "Kurtosis:                      88.290   Cond. No.                         234.\n",
       "==============================================================================\n",
       "\n",
       "Warnings:\n",
       "[1] Standard Errors assume that the covariance matrix of the errors is correctly specified.\n",
       "\"\"\""
      ]
     },
     "execution_count": 54,
     "metadata": {},
     "output_type": "execute_result"
    }
   ],
   "source": [
    "data[\"fin\"] = pd.get_dummies(data[\"gics\"])[40]\n",
    "sm.ols(formulas[3] + \" + fin\", data.replace([np.inf, -np.inf], np.nan).dropna()).fit().summary()"
   ]
  },
  {
   "cell_type": "code",
   "execution_count": 55,
   "metadata": {},
   "outputs": [
    {
     "data": {
      "text/html": [
       "<table class=\"simpletable\">\n",
       "<caption>OLS Regression Results</caption>\n",
       "<tr>\n",
       "  <th>Dep. Variable:</th>         <td>ami100</td>      <th>  R-squared:         </th> <td>   0.078</td>\n",
       "</tr>\n",
       "<tr>\n",
       "  <th>Model:</th>                   <td>OLS</td>       <th>  Adj. R-squared:    </th> <td>   0.076</td>\n",
       "</tr>\n",
       "<tr>\n",
       "  <th>Method:</th>             <td>Least Squares</td>  <th>  F-statistic:       </th> <td>   42.49</td>\n",
       "</tr>\n",
       "<tr>\n",
       "  <th>Date:</th>             <td>Mon, 13 Apr 2020</td> <th>  Prob (F-statistic):</th> <td>2.35e-26</td>\n",
       "</tr>\n",
       "<tr>\n",
       "  <th>Time:</th>                 <td>14:25:38</td>     <th>  Log-Likelihood:    </th> <td> -2433.9</td>\n",
       "</tr>\n",
       "<tr>\n",
       "  <th>No. Observations:</th>      <td>  1512</td>      <th>  AIC:               </th> <td>   4876.</td>\n",
       "</tr>\n",
       "<tr>\n",
       "  <th>Df Residuals:</th>          <td>  1508</td>      <th>  BIC:               </th> <td>   4897.</td>\n",
       "</tr>\n",
       "<tr>\n",
       "  <th>Df Model:</th>              <td>     3</td>      <th>                     </th>     <td> </td>   \n",
       "</tr>\n",
       "<tr>\n",
       "  <th>Covariance Type:</th>      <td>nonrobust</td>    <th>                     </th>     <td> </td>   \n",
       "</tr>\n",
       "</table>\n",
       "<table class=\"simpletable\">\n",
       "<tr>\n",
       "      <td></td>         <th>coef</th>     <th>std err</th>      <th>t</th>      <th>P>|t|</th>  <th>[0.025</th>    <th>0.975]</th>  \n",
       "</tr>\n",
       "<tr>\n",
       "  <th>Intercept</th> <td>    0.0023</td> <td>    0.063</td> <td>    0.037</td> <td> 0.971</td> <td>   -0.121</td> <td>    0.125</td>\n",
       "</tr>\n",
       "<tr>\n",
       "  <th>vola</th>      <td>    6.4670</td> <td>    1.037</td> <td>    6.234</td> <td> 0.000</td> <td>    4.432</td> <td>    8.502</td>\n",
       "</tr>\n",
       "<tr>\n",
       "  <th>turnover</th>  <td>   -0.0078</td> <td>    0.002</td> <td>   -4.367</td> <td> 0.000</td> <td>   -0.011</td> <td>   -0.004</td>\n",
       "</tr>\n",
       "<tr>\n",
       "  <th>fin</th>       <td>    0.5964</td> <td>    0.079</td> <td>    7.549</td> <td> 0.000</td> <td>    0.441</td> <td>    0.751</td>\n",
       "</tr>\n",
       "</table>\n",
       "<table class=\"simpletable\">\n",
       "<tr>\n",
       "  <th>Omnibus:</th>       <td>2079.300</td> <th>  Durbin-Watson:     </th>  <td>   2.074</td> \n",
       "</tr>\n",
       "<tr>\n",
       "  <th>Prob(Omnibus):</th>  <td> 0.000</td>  <th>  Jarque-Bera (JB):  </th> <td>480755.833</td>\n",
       "</tr>\n",
       "<tr>\n",
       "  <th>Skew:</th>           <td> 7.696</td>  <th>  Prob(JB):          </th>  <td>    0.00</td> \n",
       "</tr>\n",
       "<tr>\n",
       "  <th>Kurtosis:</th>       <td>88.989</td>  <th>  Cond. No.          </th>  <td>    645.</td> \n",
       "</tr>\n",
       "</table><br/><br/>Warnings:<br/>[1] Standard Errors assume that the covariance matrix of the errors is correctly specified."
      ],
      "text/plain": [
       "<class 'statsmodels.iolib.summary.Summary'>\n",
       "\"\"\"\n",
       "                            OLS Regression Results                            \n",
       "==============================================================================\n",
       "Dep. Variable:                 ami100   R-squared:                       0.078\n",
       "Model:                            OLS   Adj. R-squared:                  0.076\n",
       "Method:                 Least Squares   F-statistic:                     42.49\n",
       "Date:                Mon, 13 Apr 2020   Prob (F-statistic):           2.35e-26\n",
       "Time:                        14:25:38   Log-Likelihood:                -2433.9\n",
       "No. Observations:                1512   AIC:                             4876.\n",
       "Df Residuals:                    1508   BIC:                             4897.\n",
       "Df Model:                           3                                         \n",
       "Covariance Type:            nonrobust                                         \n",
       "==============================================================================\n",
       "                 coef    std err          t      P>|t|      [0.025      0.975]\n",
       "------------------------------------------------------------------------------\n",
       "Intercept      0.0023      0.063      0.037      0.971      -0.121       0.125\n",
       "vola           6.4670      1.037      6.234      0.000       4.432       8.502\n",
       "turnover      -0.0078      0.002     -4.367      0.000      -0.011      -0.004\n",
       "fin            0.5964      0.079      7.549      0.000       0.441       0.751\n",
       "==============================================================================\n",
       "Omnibus:                     2079.300   Durbin-Watson:                   2.074\n",
       "Prob(Omnibus):                  0.000   Jarque-Bera (JB):           480755.833\n",
       "Skew:                           7.696   Prob(JB):                         0.00\n",
       "Kurtosis:                      88.989   Cond. No.                         645.\n",
       "==============================================================================\n",
       "\n",
       "Warnings:\n",
       "[1] Standard Errors assume that the covariance matrix of the errors is correctly specified.\n",
       "\"\"\""
      ]
     },
     "execution_count": 55,
     "metadata": {},
     "output_type": "execute_result"
    }
   ],
   "source": [
    "sm.ols(formulas[4] + \" + fin\", data.replace([np.inf, -np.inf], np.nan).dropna()).fit().summary()"
   ]
  },
  {
   "cell_type": "code",
   "execution_count": 58,
   "metadata": {},
   "outputs": [
    {
     "data": {
      "text/html": [
       "<table class=\"simpletable\">\n",
       "<caption>OLS Regression Results</caption>\n",
       "<tr>\n",
       "  <th>Dep. Variable:</th>         <td>ami100</td>      <th>  R-squared:         </th> <td>   0.082</td>\n",
       "</tr>\n",
       "<tr>\n",
       "  <th>Model:</th>                   <td>OLS</td>       <th>  Adj. R-squared:    </th> <td>   0.079</td>\n",
       "</tr>\n",
       "<tr>\n",
       "  <th>Method:</th>             <td>Least Squares</td>  <th>  F-statistic:       </th> <td>   33.58</td>\n",
       "</tr>\n",
       "<tr>\n",
       "  <th>Date:</th>             <td>Mon, 13 Apr 2020</td> <th>  Prob (F-statistic):</th> <td>7.26e-27</td>\n",
       "</tr>\n",
       "<tr>\n",
       "  <th>Time:</th>                 <td>14:27:52</td>     <th>  Log-Likelihood:    </th> <td> -2430.7</td>\n",
       "</tr>\n",
       "<tr>\n",
       "  <th>No. Observations:</th>      <td>  1512</td>      <th>  AIC:               </th> <td>   4871.</td>\n",
       "</tr>\n",
       "<tr>\n",
       "  <th>Df Residuals:</th>          <td>  1507</td>      <th>  BIC:               </th> <td>   4898.</td>\n",
       "</tr>\n",
       "<tr>\n",
       "  <th>Df Model:</th>              <td>     4</td>      <th>                     </th>     <td> </td>   \n",
       "</tr>\n",
       "<tr>\n",
       "  <th>Covariance Type:</th>      <td>nonrobust</td>    <th>                     </th>     <td> </td>   \n",
       "</tr>\n",
       "</table>\n",
       "<table class=\"simpletable\">\n",
       "<tr>\n",
       "      <td></td>         <th>coef</th>     <th>std err</th>      <th>t</th>      <th>P>|t|</th>  <th>[0.025</th>    <th>0.975]</th>  \n",
       "</tr>\n",
       "<tr>\n",
       "  <th>Intercept</th> <td>    0.1823</td> <td>    0.095</td> <td>    1.922</td> <td> 0.055</td> <td>   -0.004</td> <td>    0.368</td>\n",
       "</tr>\n",
       "<tr>\n",
       "  <th>vola</th>      <td>    5.1590</td> <td>    1.158</td> <td>    4.456</td> <td> 0.000</td> <td>    2.888</td> <td>    7.430</td>\n",
       "</tr>\n",
       "<tr>\n",
       "  <th>turnover</th>  <td>   -0.0068</td> <td>    0.002</td> <td>   -3.740</td> <td> 0.000</td> <td>   -0.010</td> <td>   -0.003</td>\n",
       "</tr>\n",
       "<tr>\n",
       "  <th>np.log(p)</th> <td>   -0.0727</td> <td>    0.029</td> <td>   -2.527</td> <td> 0.012</td> <td>   -0.129</td> <td>   -0.016</td>\n",
       "</tr>\n",
       "<tr>\n",
       "  <th>fin</th>       <td>    0.6304</td> <td>    0.080</td> <td>    7.880</td> <td> 0.000</td> <td>    0.473</td> <td>    0.787</td>\n",
       "</tr>\n",
       "</table>\n",
       "<table class=\"simpletable\">\n",
       "<tr>\n",
       "  <th>Omnibus:</th>       <td>2079.987</td> <th>  Durbin-Watson:     </th>  <td>   2.074</td> \n",
       "</tr>\n",
       "<tr>\n",
       "  <th>Prob(Omnibus):</th>  <td> 0.000</td>  <th>  Jarque-Bera (JB):  </th> <td>483087.654</td>\n",
       "</tr>\n",
       "<tr>\n",
       "  <th>Skew:</th>           <td> 7.699</td>  <th>  Prob(JB):          </th>  <td>    0.00</td> \n",
       "</tr>\n",
       "<tr>\n",
       "  <th>Kurtosis:</th>       <td>89.203</td>  <th>  Cond. No.          </th>  <td>    723.</td> \n",
       "</tr>\n",
       "</table><br/><br/>Warnings:<br/>[1] Standard Errors assume that the covariance matrix of the errors is correctly specified."
      ],
      "text/plain": [
       "<class 'statsmodels.iolib.summary.Summary'>\n",
       "\"\"\"\n",
       "                            OLS Regression Results                            \n",
       "==============================================================================\n",
       "Dep. Variable:                 ami100   R-squared:                       0.082\n",
       "Model:                            OLS   Adj. R-squared:                  0.079\n",
       "Method:                 Least Squares   F-statistic:                     33.58\n",
       "Date:                Mon, 13 Apr 2020   Prob (F-statistic):           7.26e-27\n",
       "Time:                        14:27:52   Log-Likelihood:                -2430.7\n",
       "No. Observations:                1512   AIC:                             4871.\n",
       "Df Residuals:                    1507   BIC:                             4898.\n",
       "Df Model:                           4                                         \n",
       "Covariance Type:            nonrobust                                         \n",
       "==============================================================================\n",
       "                 coef    std err          t      P>|t|      [0.025      0.975]\n",
       "------------------------------------------------------------------------------\n",
       "Intercept      0.1823      0.095      1.922      0.055      -0.004       0.368\n",
       "vola           5.1590      1.158      4.456      0.000       2.888       7.430\n",
       "turnover      -0.0068      0.002     -3.740      0.000      -0.010      -0.003\n",
       "np.log(p)     -0.0727      0.029     -2.527      0.012      -0.129      -0.016\n",
       "fin            0.6304      0.080      7.880      0.000       0.473       0.787\n",
       "==============================================================================\n",
       "Omnibus:                     2079.987   Durbin-Watson:                   2.074\n",
       "Prob(Omnibus):                  0.000   Jarque-Bera (JB):           483087.654\n",
       "Skew:                           7.699   Prob(JB):                         0.00\n",
       "Kurtosis:                      89.203   Cond. No.                         723.\n",
       "==============================================================================\n",
       "\n",
       "Warnings:\n",
       "[1] Standard Errors assume that the covariance matrix of the errors is correctly specified.\n",
       "\"\"\""
      ]
     },
     "execution_count": 58,
     "metadata": {},
     "output_type": "execute_result"
    }
   ],
   "source": [
    "reg = sm.ols(formulas[5] + \" + fin\", data.replace([np.inf, -np.inf], np.nan).dropna()).fit()\n",
    "reg.summary()"
   ]
  },
  {
   "cell_type": "markdown",
   "metadata": {},
   "source": [
    "The impact of $fin$ appears positive, indicating financial stocks were less liquid."
   ]
  },
  {
   "cell_type": "markdown",
   "metadata": {},
   "source": [
    "### Part E"
   ]
  },
  {
   "cell_type": "code",
   "execution_count": 81,
   "metadata": {},
   "outputs": [
    {
     "data": {
      "text/html": [
       "<table class=\"simpletable\">\n",
       "<caption>OLS Regression Results</caption>\n",
       "<tr>\n",
       "  <th>Dep. Variable:</th>         <td>spread</td>      <th>  R-squared:         </th> <td>   0.169</td>\n",
       "</tr>\n",
       "<tr>\n",
       "  <th>Model:</th>                   <td>OLS</td>       <th>  Adj. R-squared:    </th> <td>   0.166</td>\n",
       "</tr>\n",
       "<tr>\n",
       "  <th>Method:</th>             <td>Least Squares</td>  <th>  F-statistic:       </th> <td>   43.90</td>\n",
       "</tr>\n",
       "<tr>\n",
       "  <th>Date:</th>             <td>Mon, 13 Apr 2020</td> <th>  Prob (F-statistic):</th> <td>1.05e-56</td>\n",
       "</tr>\n",
       "<tr>\n",
       "  <th>Time:</th>                 <td>14:40:59</td>     <th>  Log-Likelihood:    </th> <td>  666.85</td>\n",
       "</tr>\n",
       "<tr>\n",
       "  <th>No. Observations:</th>      <td>  1514</td>      <th>  AIC:               </th> <td>  -1318.</td>\n",
       "</tr>\n",
       "<tr>\n",
       "  <th>Df Residuals:</th>          <td>  1506</td>      <th>  BIC:               </th> <td>  -1275.</td>\n",
       "</tr>\n",
       "<tr>\n",
       "  <th>Df Model:</th>              <td>     7</td>      <th>                     </th>     <td> </td>   \n",
       "</tr>\n",
       "<tr>\n",
       "  <th>Covariance Type:</th>      <td>nonrobust</td>    <th>                     </th>     <td> </td>   \n",
       "</tr>\n",
       "</table>\n",
       "<table class=\"simpletable\">\n",
       "<tr>\n",
       "         <td></td>           <th>coef</th>     <th>std err</th>      <th>t</th>      <th>P>|t|</th>  <th>[0.025</th>    <th>0.975]</th>  \n",
       "</tr>\n",
       "<tr>\n",
       "  <th>fin</th>            <td>    0.0033</td> <td>    0.035</td> <td>    0.094</td> <td> 0.925</td> <td>   -0.065</td> <td>    0.072</td>\n",
       "</tr>\n",
       "<tr>\n",
       "  <th>nfin</th>           <td>    0.0269</td> <td>    0.013</td> <td>    2.011</td> <td> 0.044</td> <td>    0.001</td> <td>    0.053</td>\n",
       "</tr>\n",
       "<tr>\n",
       "  <th>vola:fin</th>       <td>    1.4296</td> <td>    0.305</td> <td>    4.684</td> <td> 0.000</td> <td>    0.831</td> <td>    2.028</td>\n",
       "</tr>\n",
       "<tr>\n",
       "  <th>vola:nfin</th>      <td>    0.2226</td> <td>    0.174</td> <td>    1.280</td> <td> 0.201</td> <td>   -0.118</td> <td>    0.564</td>\n",
       "</tr>\n",
       "<tr>\n",
       "  <th>turnover:fin</th>   <td>   -0.0099</td> <td>    0.001</td> <td>   -8.596</td> <td> 0.000</td> <td>   -0.012</td> <td>   -0.008</td>\n",
       "</tr>\n",
       "<tr>\n",
       "  <th>turnover:nfin</th>  <td>   -0.0006</td> <td>    0.000</td> <td>   -2.467</td> <td> 0.014</td> <td>   -0.001</td> <td>   -0.000</td>\n",
       "</tr>\n",
       "<tr>\n",
       "  <th>np.log(p):fin</th>  <td>    0.0762</td> <td>    0.011</td> <td>    7.140</td> <td> 0.000</td> <td>    0.055</td> <td>    0.097</td>\n",
       "</tr>\n",
       "<tr>\n",
       "  <th>np.log(p):nfin</th> <td>    0.0109</td> <td>    0.004</td> <td>    2.742</td> <td> 0.006</td> <td>    0.003</td> <td>    0.019</td>\n",
       "</tr>\n",
       "</table>\n",
       "<table class=\"simpletable\">\n",
       "<tr>\n",
       "  <th>Omnibus:</th>       <td>1851.623</td> <th>  Durbin-Watson:     </th>  <td>   1.995</td> \n",
       "</tr>\n",
       "<tr>\n",
       "  <th>Prob(Omnibus):</th>  <td> 0.000</td>  <th>  Jarque-Bera (JB):  </th> <td>231906.399</td>\n",
       "</tr>\n",
       "<tr>\n",
       "  <th>Skew:</th>           <td> 6.395</td>  <th>  Prob(JB):          </th>  <td>    0.00</td> \n",
       "</tr>\n",
       "<tr>\n",
       "  <th>Kurtosis:</th>       <td>62.267</td>  <th>  Cond. No.          </th>  <td>1.45e+03</td> \n",
       "</tr>\n",
       "</table><br/><br/>Warnings:<br/>[1] Standard Errors assume that the covariance matrix of the errors is correctly specified.<br/>[2] The condition number is large, 1.45e+03. This might indicate that there are<br/>strong multicollinearity or other numerical problems."
      ],
      "text/plain": [
       "<class 'statsmodels.iolib.summary.Summary'>\n",
       "\"\"\"\n",
       "                            OLS Regression Results                            \n",
       "==============================================================================\n",
       "Dep. Variable:                 spread   R-squared:                       0.169\n",
       "Model:                            OLS   Adj. R-squared:                  0.166\n",
       "Method:                 Least Squares   F-statistic:                     43.90\n",
       "Date:                Mon, 13 Apr 2020   Prob (F-statistic):           1.05e-56\n",
       "Time:                        14:40:59   Log-Likelihood:                 666.85\n",
       "No. Observations:                1514   AIC:                            -1318.\n",
       "Df Residuals:                    1506   BIC:                            -1275.\n",
       "Df Model:                           7                                         \n",
       "Covariance Type:            nonrobust                                         \n",
       "==================================================================================\n",
       "                     coef    std err          t      P>|t|      [0.025      0.975]\n",
       "----------------------------------------------------------------------------------\n",
       "fin                0.0033      0.035      0.094      0.925      -0.065       0.072\n",
       "nfin               0.0269      0.013      2.011      0.044       0.001       0.053\n",
       "vola:fin           1.4296      0.305      4.684      0.000       0.831       2.028\n",
       "vola:nfin          0.2226      0.174      1.280      0.201      -0.118       0.564\n",
       "turnover:fin      -0.0099      0.001     -8.596      0.000      -0.012      -0.008\n",
       "turnover:nfin     -0.0006      0.000     -2.467      0.014      -0.001      -0.000\n",
       "np.log(p):fin      0.0762      0.011      7.140      0.000       0.055       0.097\n",
       "np.log(p):nfin     0.0109      0.004      2.742      0.006       0.003       0.019\n",
       "==============================================================================\n",
       "Omnibus:                     1851.623   Durbin-Watson:                   1.995\n",
       "Prob(Omnibus):                  0.000   Jarque-Bera (JB):           231906.399\n",
       "Skew:                           6.395   Prob(JB):                         0.00\n",
       "Kurtosis:                      62.267   Cond. No.                     1.45e+03\n",
       "==============================================================================\n",
       "\n",
       "Warnings:\n",
       "[1] Standard Errors assume that the covariance matrix of the errors is correctly specified.\n",
       "[2] The condition number is large, 1.45e+03. This might indicate that there are\n",
       "strong multicollinearity or other numerical problems.\n",
       "\"\"\""
      ]
     },
     "execution_count": 81,
     "metadata": {},
     "output_type": "execute_result"
    }
   ],
   "source": [
    "inv = lambda c : 1-c\n",
    "data[\"nfin\"] = data[\"fin\"].apply(inv)\n",
    "\n",
    "reg = sm.ols(\"spread ~ fin + nfin + vola:fin + vola:nfin + turnover:fin + turnover:nfin + np.log(p):fin + np.log(p):nfin - 1\", \n",
    "             data).fit()\n",
    "reg.summary()"
   ]
  },
  {
   "cell_type": "code",
   "execution_count": 82,
   "metadata": {},
   "outputs": [
    {
     "data": {
      "text/plain": [
       "<class 'statsmodels.stats.contrast.ContrastResults'>\n",
       "<F test: F=array([[11.80821715]]), p=0.000605737283498603, df_denom=1.51e+03, df_num=1>"
      ]
     },
     "execution_count": 82,
     "metadata": {},
     "output_type": "execute_result"
    }
   ],
   "source": [
    "hypothesis = \"(vola:fin = vola:nfin)\"\n",
    "reg.f_test(hypothesis)"
   ]
  },
  {
   "cell_type": "code",
   "execution_count": 83,
   "metadata": {},
   "outputs": [
    {
     "data": {
      "text/plain": [
       "<class 'statsmodels.stats.contrast.ContrastResults'>\n",
       "<F test: F=array([[62.50863367]]), p=5.088683210731206e-15, df_denom=1.51e+03, df_num=1>"
      ]
     },
     "execution_count": 83,
     "metadata": {},
     "output_type": "execute_result"
    }
   ],
   "source": [
    "hypothesis = \"(turnover:fin = turnover:nfin)\"\n",
    "reg.f_test(hypothesis)"
   ]
  },
  {
   "cell_type": "code",
   "execution_count": 84,
   "metadata": {},
   "outputs": [
    {
     "data": {
      "text/plain": [
       "<class 'statsmodels.stats.contrast.ContrastResults'>\n",
       "<F test: F=array([[32.96022594]]), p=1.1356962949105402e-08, df_denom=1.51e+03, df_num=1>"
      ]
     },
     "execution_count": 84,
     "metadata": {},
     "output_type": "execute_result"
    }
   ],
   "source": [
    "hypothesis = \"(np.log(p):fin = np.log(p):nfin)\"\n",
    "reg.f_test(hypothesis)"
   ]
  },
  {
   "cell_type": "code",
   "execution_count": 85,
   "metadata": {},
   "outputs": [
    {
     "data": {
      "text/plain": [
       "<class 'statsmodels.stats.contrast.ContrastResults'>\n",
       "<F test: F=array([[28.93117199]]), p=3.469463998723971e-18, df_denom=1.51e+03, df_num=3>"
      ]
     },
     "execution_count": 85,
     "metadata": {},
     "output_type": "execute_result"
    }
   ],
   "source": [
    "hypothesis = \"(vola:fin = vola:nfin), (turnover:fin = turnover:nfin), (np.log(p):fin = np.log(p):nfin)\"\n",
    "reg.f_test(hypothesis)"
   ]
  },
  {
   "cell_type": "markdown",
   "metadata": {},
   "source": [
    "# Chapter 4"
   ]
  },
  {
   "cell_type": "markdown",
   "metadata": {},
   "source": [
    "## Question 1"
   ]
  },
  {
   "cell_type": "markdown",
   "metadata": {},
   "source": [
    "### Part A"
   ]
  },
  {
   "cell_type": "markdown",
   "metadata": {},
   "source": [
    "The parameter $\\lambda$ is derived:\n",
    "\\begin{align}\n",
    "p(q) &= \\mu + \\frac{cov(v, q)}{var(q)} q\\\\\n",
    "&= \\mu + \\frac{\\beta\\sigma_v^2}{\\beta (\\sigma_v^2 +\\sigma_\\eta^2)+ \\sigma_u^2}q\n",
    "\\end{align}\n",
    "An increase in the informed investors error increases $\\sigma_\\eta^2$, increasing market depth. Shifting the response curve up and to the left."
   ]
  },
  {
   "cell_type": "markdown",
   "metadata": {},
   "source": [
    "### Part B"
   ]
  },
  {
   "cell_type": "markdown",
   "metadata": {},
   "source": [
    "\\begin{align}\n",
    "E[v|s] &= \\mu + \\frac{cov(v, s)}{var(s)} (s-\\mu) \\\\\n",
    "&= \\mu + \\frac{\\sigma_v^2}{\\sigma_v^2 + \\sigma_\\nu^2}\n",
    "\\end{align}\n",
    "The investor wishes to maximise his value:\n",
    "\\begin{align}\n",
    "\\underset{x}{max}\\ E[x*(v-p)|s] &= \\underset{x}{max}\\ xE[v-p|s] \\\\\n",
    "&= \\underset{x}{max}\\ x(E[v|s] - \\mu - \\lambda x)\\\\\n",
    "&= \\underset{x}{max}\\ x(\\mu + \\frac{\\sigma_v^2}{\\sigma_v^2 + \\sigma_\\eta^2}(s-\\mu) - \\mu - \\lambda x)\\\\\n",
    "&= \\underset{x}{max}\\ x(\\frac{\\sigma_v^2}{\\sigma_v^2 + \\sigma_\\eta^2}(s-\\mu)- \\lambda x)\\\\\n",
    "0 &\\equiv \\frac{d}{dx} x(\\frac{\\sigma_v^2}{\\sigma_v^2 + \\sigma_\\eta^2}(s-\\mu)- \\lambda x)\\\\\n",
    "&= \\frac{\\sigma_v^2}{\\sigma_v^2 + \\sigma_\\eta^2}(s-\\mu) - 2\\lambda x \\\\\n",
    "x &= \\frac{1}{2 \\lambda}  \\frac{\\sigma_v^2}{\\sigma_v^2 + \\sigma_\\eta^2}(s-\\mu) \\\\\n",
    "\\beta &=  \\frac{1}{2 \\lambda}  \\frac{\\sigma_v^2}{\\sigma_v^2 + \\sigma_\\eta^2}\n",
    "\\end{align}\n",
    "Thus beta is decreasing in $\\sigma_\\eta^2$"
   ]
  },
  {
   "cell_type": "markdown",
   "metadata": {},
   "source": [
    "### Part C"
   ]
  },
  {
   "cell_type": "markdown",
   "metadata": {},
   "source": [
    "\\begin{align}\n",
    "\\lambda &= \\frac{\\beta\\sigma_v^2}{\\beta (\\sigma_v^2 +\\sigma_\\eta^2)+ \\sigma_u^2} \\\\\n",
    "\\beta &=  \\frac{1}{2 \\lambda}  \\frac{\\sigma_v^2}{\\sigma_v^2 + \\sigma_\\eta^2} \\\\\n",
    "&= \n",
    "\n",
    "\\end{align}\n",
    "\n"
   ]
  },
  {
   "cell_type": "code",
   "execution_count": null,
   "metadata": {},
   "outputs": [],
   "source": []
  }
 ],
 "metadata": {
  "kernelspec": {
   "display_name": "Python 3",
   "language": "python",
   "name": "python3"
  },
  "language_info": {
   "codemirror_mode": {
    "name": "ipython",
    "version": 3
   },
   "file_extension": ".py",
   "mimetype": "text/x-python",
   "name": "python",
   "nbconvert_exporter": "python",
   "pygments_lexer": "ipython3",
   "version": "3.7.7"
  }
 },
 "nbformat": 4,
 "nbformat_minor": 4
}
